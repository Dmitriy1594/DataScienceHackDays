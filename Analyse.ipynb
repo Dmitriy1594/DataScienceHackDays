{
 "cells": [
  {
   "cell_type": "code",
   "execution_count": 1,
   "metadata": {},
   "outputs": [],
   "source": [
    "import pandas as pd"
   ]
  },
  {
   "cell_type": "code",
   "execution_count": 2,
   "metadata": {},
   "outputs": [
    {
     "name": "stdout",
     "output_type": "stream",
     "text": [
      "7756\n"
     ]
    },
    {
     "data": {
      "text/html": [
       "<div>\n",
       "<style scoped>\n",
       "    .dataframe tbody tr th:only-of-type {\n",
       "        vertical-align: middle;\n",
       "    }\n",
       "\n",
       "    .dataframe tbody tr th {\n",
       "        vertical-align: top;\n",
       "    }\n",
       "\n",
       "    .dataframe thead th {\n",
       "        text-align: right;\n",
       "    }\n",
       "</style>\n",
       "<table border=\"1\" class=\"dataframe\">\n",
       "  <thead>\n",
       "    <tr style=\"text-align: right;\">\n",
       "      <th></th>\n",
       "      <th>Shrt_Desc</th>\n",
       "      <th>Water_(g)</th>\n",
       "      <th>Energ_Kcal</th>\n",
       "      <th>Protein_(g)</th>\n",
       "      <th>Lipid_Tot_(g)</th>\n",
       "      <th>Ash_(g)</th>\n",
       "      <th>Carbohydrt_(g)</th>\n",
       "      <th>Fiber_TD_(g)</th>\n",
       "      <th>Sugar_Tot_(g)</th>\n",
       "      <th>Calcium_(mg)</th>\n",
       "      <th>...</th>\n",
       "      <th>Vit_K_(µg)</th>\n",
       "      <th>FA_Sat_(g)</th>\n",
       "      <th>FA_Mono_(g)</th>\n",
       "      <th>FA_Poly_(g)</th>\n",
       "      <th>Cholestrl_(mg)</th>\n",
       "      <th>GmWt_1</th>\n",
       "      <th>GmWt_Desc1</th>\n",
       "      <th>GmWt_2</th>\n",
       "      <th>GmWt_Desc2</th>\n",
       "      <th>Refuse_Pct</th>\n",
       "    </tr>\n",
       "  </thead>\n",
       "  <tbody>\n",
       "    <tr>\n",
       "      <th>0</th>\n",
       "      <td>BABYFOOD,CRL,OATMEAL,W/BANANAS,DRY</td>\n",
       "      <td>4,7</td>\n",
       "      <td>393</td>\n",
       "      <td>12</td>\n",
       "      <td>6</td>\n",
       "      <td>3,9</td>\n",
       "      <td>73,4</td>\n",
       "      <td>5,2</td>\n",
       "      <td>13,75</td>\n",
       "      <td>651.0</td>\n",
       "      <td>...</td>\n",
       "      <td>3</td>\n",
       "      <td>1,267</td>\n",
       "      <td>1,429</td>\n",
       "      <td>2,186</td>\n",
       "      <td>0.0</td>\n",
       "      <td>2.0</td>\n",
       "      <td>1 tbsp</td>\n",
       "      <td>15</td>\n",
       "      <td>.5 oz</td>\n",
       "      <td>0.0</td>\n",
       "    </tr>\n",
       "    <tr>\n",
       "      <th>1</th>\n",
       "      <td>HEARTS OF PALM,CANNED</td>\n",
       "      <td>90,2</td>\n",
       "      <td>28</td>\n",
       "      <td>2,52</td>\n",
       "      <td>0,62</td>\n",
       "      <td>2,04</td>\n",
       "      <td>4,62</td>\n",
       "      <td>2,4</td>\n",
       "      <td>NaN</td>\n",
       "      <td>58.0</td>\n",
       "      <td>...</td>\n",
       "      <td>NaN</td>\n",
       "      <td>0,13</td>\n",
       "      <td>0,103</td>\n",
       "      <td>0,202</td>\n",
       "      <td>0.0</td>\n",
       "      <td>146.0</td>\n",
       "      <td>1 cup</td>\n",
       "      <td>33</td>\n",
       "      <td>1 piece</td>\n",
       "      <td>0.0</td>\n",
       "    </tr>\n",
       "    <tr>\n",
       "      <th>2</th>\n",
       "      <td>CHICKEN,BROILERS OR FRYERS,THIGH,MEAT ONLY,CKD...</td>\n",
       "      <td>63,89</td>\n",
       "      <td>196</td>\n",
       "      <td>24,06</td>\n",
       "      <td>11,09</td>\n",
       "      <td>1,56</td>\n",
       "      <td>0</td>\n",
       "      <td>0</td>\n",
       "      <td>0</td>\n",
       "      <td>13.0</td>\n",
       "      <td>...</td>\n",
       "      <td>0</td>\n",
       "      <td>2,866</td>\n",
       "      <td>4,878</td>\n",
       "      <td>1,673</td>\n",
       "      <td>130.0</td>\n",
       "      <td>89.0</td>\n",
       "      <td>1 thigh</td>\n",
       "      <td>85</td>\n",
       "      <td>1 serving,  (3 oz)</td>\n",
       "      <td>29.0</td>\n",
       "    </tr>\n",
       "    <tr>\n",
       "      <th>3</th>\n",
       "      <td>PORK,CURED,SHLDR,ARM PICNIC,LN&amp;FAT,RSTD</td>\n",
       "      <td>54,73</td>\n",
       "      <td>280</td>\n",
       "      <td>20,43</td>\n",
       "      <td>21,35</td>\n",
       "      <td>3,51</td>\n",
       "      <td>0</td>\n",
       "      <td>0</td>\n",
       "      <td>0</td>\n",
       "      <td>10.0</td>\n",
       "      <td>...</td>\n",
       "      <td>0</td>\n",
       "      <td>7,67</td>\n",
       "      <td>10,14</td>\n",
       "      <td>2,32</td>\n",
       "      <td>58.0</td>\n",
       "      <td>140.0</td>\n",
       "      <td>1 cup</td>\n",
       "      <td>85</td>\n",
       "      <td>3 oz</td>\n",
       "      <td>27.0</td>\n",
       "    </tr>\n",
       "    <tr>\n",
       "      <th>4</th>\n",
       "      <td>VINEGAR,DISTILLED</td>\n",
       "      <td>94,78</td>\n",
       "      <td>18</td>\n",
       "      <td>0</td>\n",
       "      <td>0</td>\n",
       "      <td>0,02</td>\n",
       "      <td>0,04</td>\n",
       "      <td>0</td>\n",
       "      <td>0,04</td>\n",
       "      <td>6.0</td>\n",
       "      <td>...</td>\n",
       "      <td>0</td>\n",
       "      <td>0</td>\n",
       "      <td>0</td>\n",
       "      <td>0</td>\n",
       "      <td>0.0</td>\n",
       "      <td>14.0</td>\n",
       "      <td>1 tbsp</td>\n",
       "      <td>238</td>\n",
       "      <td>1 cup</td>\n",
       "      <td>0.0</td>\n",
       "    </tr>\n",
       "  </tbody>\n",
       "</table>\n",
       "<p>5 rows × 52 columns</p>\n",
       "</div>"
      ],
      "text/plain": [
       "                                           Shrt_Desc Water_(g)  Energ_Kcal  \\\n",
       "0                 BABYFOOD,CRL,OATMEAL,W/BANANAS,DRY       4,7         393   \n",
       "1                              HEARTS OF PALM,CANNED      90,2          28   \n",
       "2  CHICKEN,BROILERS OR FRYERS,THIGH,MEAT ONLY,CKD...     63,89         196   \n",
       "3            PORK,CURED,SHLDR,ARM PICNIC,LN&FAT,RSTD     54,73         280   \n",
       "4                                  VINEGAR,DISTILLED     94,78          18   \n",
       "\n",
       "  Protein_(g) Lipid_Tot_(g) Ash_(g) Carbohydrt_(g) Fiber_TD_(g) Sugar_Tot_(g)  \\\n",
       "0          12             6     3,9           73,4          5,2         13,75   \n",
       "1        2,52          0,62    2,04           4,62          2,4           NaN   \n",
       "2       24,06         11,09    1,56              0            0             0   \n",
       "3       20,43         21,35    3,51              0            0             0   \n",
       "4           0             0    0,02           0,04            0          0,04   \n",
       "\n",
       "   Calcium_(mg)  ... Vit_K_(µg)  FA_Sat_(g)  FA_Mono_(g)  FA_Poly_(g)  \\\n",
       "0         651.0  ...          3       1,267        1,429        2,186   \n",
       "1          58.0  ...        NaN        0,13        0,103        0,202   \n",
       "2          13.0  ...          0       2,866        4,878        1,673   \n",
       "3          10.0  ...          0        7,67        10,14         2,32   \n",
       "4           6.0  ...          0           0            0            0   \n",
       "\n",
       "   Cholestrl_(mg) GmWt_1 GmWt_Desc1 GmWt_2          GmWt_Desc2 Refuse_Pct  \n",
       "0             0.0    2.0     1 tbsp     15               .5 oz        0.0  \n",
       "1             0.0  146.0      1 cup     33             1 piece        0.0  \n",
       "2           130.0   89.0    1 thigh     85  1 serving,  (3 oz)       29.0  \n",
       "3            58.0  140.0      1 cup     85                3 oz       27.0  \n",
       "4             0.0   14.0     1 tbsp    238               1 cup        0.0  \n",
       "\n",
       "[5 rows x 52 columns]"
      ]
     },
     "execution_count": 2,
     "metadata": {},
     "output_type": "execute_result"
    }
   ],
   "source": [
    "train = pd.read_csv('./docs/csv/train.csv', sep=\";\")\n",
    "print(len(train))\n",
    "train.head()"
   ]
  },
  {
   "cell_type": "code",
   "execution_count": 3,
   "metadata": {
    "scrolled": true
   },
   "outputs": [
    {
     "name": "stdout",
     "output_type": "stream",
     "text": [
      "862\n"
     ]
    },
    {
     "data": {
      "text/html": [
       "<div>\n",
       "<style scoped>\n",
       "    .dataframe tbody tr th:only-of-type {\n",
       "        vertical-align: middle;\n",
       "    }\n",
       "\n",
       "    .dataframe tbody tr th {\n",
       "        vertical-align: top;\n",
       "    }\n",
       "\n",
       "    .dataframe thead th {\n",
       "        text-align: right;\n",
       "    }\n",
       "</style>\n",
       "<table border=\"1\" class=\"dataframe\">\n",
       "  <thead>\n",
       "    <tr style=\"text-align: right;\">\n",
       "      <th></th>\n",
       "      <th>Shrt_Desc</th>\n",
       "      <th>Water_(g)</th>\n",
       "      <th>Protein_(g)</th>\n",
       "      <th>Lipid_Tot_(g)</th>\n",
       "      <th>Ash_(g)</th>\n",
       "      <th>Carbohydrt_(g)</th>\n",
       "      <th>Fiber_TD_(g)</th>\n",
       "      <th>Sugar_Tot_(g)</th>\n",
       "      <th>Calcium_(mg)</th>\n",
       "      <th>Iron_(mg)</th>\n",
       "      <th>...</th>\n",
       "      <th>Vit_K_(µg)</th>\n",
       "      <th>FA_Sat_(g)</th>\n",
       "      <th>FA_Mono_(g)</th>\n",
       "      <th>FA_Poly_(g)</th>\n",
       "      <th>Cholestrl_(mg)</th>\n",
       "      <th>GmWt_1</th>\n",
       "      <th>GmWt_Desc1</th>\n",
       "      <th>GmWt_2</th>\n",
       "      <th>GmWt_Desc2</th>\n",
       "      <th>Refuse_Pct</th>\n",
       "    </tr>\n",
       "  </thead>\n",
       "  <tbody>\n",
       "    <tr>\n",
       "      <th>0</th>\n",
       "      <td>SILK KEY LIME SOY YOGURT</td>\n",
       "      <td>77,59</td>\n",
       "      <td>2,35</td>\n",
       "      <td>1,18</td>\n",
       "      <td>1,24</td>\n",
       "      <td>17,65</td>\n",
       "      <td>0,6</td>\n",
       "      <td>12,35</td>\n",
       "      <td>176.0</td>\n",
       "      <td>0,64</td>\n",
       "      <td>...</td>\n",
       "      <td>NaN</td>\n",
       "      <td>0</td>\n",
       "      <td>NaN</td>\n",
       "      <td>NaN</td>\n",
       "      <td>0.0</td>\n",
       "      <td>170.0</td>\n",
       "      <td>1 container</td>\n",
       "      <td>NaN</td>\n",
       "      <td>NaN</td>\n",
       "      <td>0.0</td>\n",
       "    </tr>\n",
       "    <tr>\n",
       "      <th>1</th>\n",
       "      <td>FAST FOODS,SALAD,VEG,TOSSED,WO/DRSNG</td>\n",
       "      <td>95,51</td>\n",
       "      <td>1,25</td>\n",
       "      <td>0,07</td>\n",
       "      <td>0,53</td>\n",
       "      <td>3,22</td>\n",
       "      <td>NaN</td>\n",
       "      <td>NaN</td>\n",
       "      <td>13.0</td>\n",
       "      <td>0,63</td>\n",
       "      <td>...</td>\n",
       "      <td>NaN</td>\n",
       "      <td>0,01</td>\n",
       "      <td>0,004</td>\n",
       "      <td>0,034</td>\n",
       "      <td>0.0</td>\n",
       "      <td>104.0</td>\n",
       "      <td>.75 cup</td>\n",
       "      <td>207</td>\n",
       "      <td>1.5 cup</td>\n",
       "      <td>0.0</td>\n",
       "    </tr>\n",
       "    <tr>\n",
       "      <th>2</th>\n",
       "      <td>CUTTLEFISH,MXD SP,CKD,MOIST HEAT</td>\n",
       "      <td>61,12</td>\n",
       "      <td>32,48</td>\n",
       "      <td>1,4</td>\n",
       "      <td>3,36</td>\n",
       "      <td>1,64</td>\n",
       "      <td>0</td>\n",
       "      <td>NaN</td>\n",
       "      <td>180.0</td>\n",
       "      <td>10,84</td>\n",
       "      <td>...</td>\n",
       "      <td>NaN</td>\n",
       "      <td>0,236</td>\n",
       "      <td>0,162</td>\n",
       "      <td>0,268</td>\n",
       "      <td>224.0</td>\n",
       "      <td>85.0</td>\n",
       "      <td>3 oz</td>\n",
       "      <td>NaN</td>\n",
       "      <td>NaN</td>\n",
       "      <td>0.0</td>\n",
       "    </tr>\n",
       "    <tr>\n",
       "      <th>3</th>\n",
       "      <td>GROUND TURKEY,93% LN,7% FAT,RAW</td>\n",
       "      <td>72,63</td>\n",
       "      <td>18,73</td>\n",
       "      <td>8,34</td>\n",
       "      <td>0,92</td>\n",
       "      <td>0</td>\n",
       "      <td>0</td>\n",
       "      <td>0</td>\n",
       "      <td>21.0</td>\n",
       "      <td>1,17</td>\n",
       "      <td>...</td>\n",
       "      <td>0</td>\n",
       "      <td>2,17</td>\n",
       "      <td>2,843</td>\n",
       "      <td>2,537</td>\n",
       "      <td>74.0</td>\n",
       "      <td>28.0</td>\n",
       "      <td>1 oz</td>\n",
       "      <td>453</td>\n",
       "      <td>1 lb</td>\n",
       "      <td>0.0</td>\n",
       "    </tr>\n",
       "    <tr>\n",
       "      <th>4</th>\n",
       "      <td>TURKEY,RTL PARTS,ENHANCED,BREAST,MEAT ONLY,CKD...</td>\n",
       "      <td>69,99</td>\n",
       "      <td>27,94</td>\n",
       "      <td>2,08</td>\n",
       "      <td>1,4</td>\n",
       "      <td>0</td>\n",
       "      <td>0</td>\n",
       "      <td>0</td>\n",
       "      <td>15.0</td>\n",
       "      <td>0,59</td>\n",
       "      <td>...</td>\n",
       "      <td>0</td>\n",
       "      <td>0,428</td>\n",
       "      <td>0,67</td>\n",
       "      <td>0,668</td>\n",
       "      <td>74.0</td>\n",
       "      <td>85.0</td>\n",
       "      <td>3 oz</td>\n",
       "      <td>852</td>\n",
       "      <td>1 breast</td>\n",
       "      <td>24.0</td>\n",
       "    </tr>\n",
       "  </tbody>\n",
       "</table>\n",
       "<p>5 rows × 51 columns</p>\n",
       "</div>"
      ],
      "text/plain": [
       "                                           Shrt_Desc Water_(g) Protein_(g)  \\\n",
       "0                           SILK KEY LIME SOY YOGURT     77,59        2,35   \n",
       "1               FAST FOODS,SALAD,VEG,TOSSED,WO/DRSNG     95,51        1,25   \n",
       "2                   CUTTLEFISH,MXD SP,CKD,MOIST HEAT     61,12       32,48   \n",
       "3                    GROUND TURKEY,93% LN,7% FAT,RAW     72,63       18,73   \n",
       "4  TURKEY,RTL PARTS,ENHANCED,BREAST,MEAT ONLY,CKD...     69,99       27,94   \n",
       "\n",
       "  Lipid_Tot_(g) Ash_(g) Carbohydrt_(g) Fiber_TD_(g) Sugar_Tot_(g)  \\\n",
       "0          1,18    1,24          17,65          0,6         12,35   \n",
       "1          0,07    0,53           3,22          NaN           NaN   \n",
       "2           1,4    3,36           1,64            0           NaN   \n",
       "3          8,34    0,92              0            0             0   \n",
       "4          2,08     1,4              0            0             0   \n",
       "\n",
       "   Calcium_(mg) Iron_(mg)  ...  Vit_K_(µg)  FA_Sat_(g)  FA_Mono_(g)  \\\n",
       "0         176.0      0,64  ...         NaN           0          NaN   \n",
       "1          13.0      0,63  ...         NaN        0,01        0,004   \n",
       "2         180.0     10,84  ...         NaN       0,236        0,162   \n",
       "3          21.0      1,17  ...           0        2,17        2,843   \n",
       "4          15.0      0,59  ...           0       0,428         0,67   \n",
       "\n",
       "   FA_Poly_(g) Cholestrl_(mg) GmWt_1   GmWt_Desc1 GmWt_2 GmWt_Desc2 Refuse_Pct  \n",
       "0          NaN            0.0  170.0  1 container    NaN        NaN        0.0  \n",
       "1        0,034            0.0  104.0      .75 cup    207    1.5 cup        0.0  \n",
       "2        0,268          224.0   85.0         3 oz    NaN        NaN        0.0  \n",
       "3        2,537           74.0   28.0         1 oz    453       1 lb        0.0  \n",
       "4        0,668           74.0   85.0         3 oz    852   1 breast       24.0  \n",
       "\n",
       "[5 rows x 51 columns]"
      ]
     },
     "execution_count": 3,
     "metadata": {},
     "output_type": "execute_result"
    }
   ],
   "source": [
    "test = pd.read_csv('./docs/csv/test.csv', sep=\";\")\n",
    "print(len(test))\n",
    "test.head()"
   ]
  },
  {
   "cell_type": "code",
   "execution_count": 4,
   "metadata": {},
   "outputs": [
    {
     "name": "stdout",
     "output_type": "stream",
     "text": [
      "7756\n"
     ]
    },
    {
     "data": {
      "text/html": [
       "<div>\n",
       "<style scoped>\n",
       "    .dataframe tbody tr th:only-of-type {\n",
       "        vertical-align: middle;\n",
       "    }\n",
       "\n",
       "    .dataframe tbody tr th {\n",
       "        vertical-align: top;\n",
       "    }\n",
       "\n",
       "    .dataframe thead th {\n",
       "        text-align: right;\n",
       "    }\n",
       "</style>\n",
       "<table border=\"1\" class=\"dataframe\">\n",
       "  <thead>\n",
       "    <tr style=\"text-align: right;\">\n",
       "      <th></th>\n",
       "      <th>Shrt_Desc</th>\n",
       "    </tr>\n",
       "  </thead>\n",
       "  <tbody>\n",
       "    <tr>\n",
       "      <th>0</th>\n",
       "      <td>BABYFOOD,CRL,OATMEAL,W/BANANAS,DRY</td>\n",
       "    </tr>\n",
       "    <tr>\n",
       "      <th>1</th>\n",
       "      <td>HEARTS OF PALM,CANNED</td>\n",
       "    </tr>\n",
       "    <tr>\n",
       "      <th>2</th>\n",
       "      <td>CHICKEN,BROILERS OR FRYERS,THIGH,MEAT ONLY,CKD...</td>\n",
       "    </tr>\n",
       "    <tr>\n",
       "      <th>3</th>\n",
       "      <td>PORK,CURED,SHLDR,ARM PICNIC,LN&amp;FAT,RSTD</td>\n",
       "    </tr>\n",
       "    <tr>\n",
       "      <th>4</th>\n",
       "      <td>VINEGAR,DISTILLED</td>\n",
       "    </tr>\n",
       "  </tbody>\n",
       "</table>\n",
       "</div>"
      ],
      "text/plain": [
       "                                           Shrt_Desc\n",
       "0                 BABYFOOD,CRL,OATMEAL,W/BANANAS,DRY\n",
       "1                              HEARTS OF PALM,CANNED\n",
       "2  CHICKEN,BROILERS OR FRYERS,THIGH,MEAT ONLY,CKD...\n",
       "3            PORK,CURED,SHLDR,ARM PICNIC,LN&FAT,RSTD\n",
       "4                                  VINEGAR,DISTILLED"
      ]
     },
     "execution_count": 4,
     "metadata": {},
     "output_type": "execute_result"
    }
   ],
   "source": [
    "df = pd.read_csv('./docs/csv/gramms_train.csv',  usecols = ['Shrt_Desc'])\n",
    "print(len(df))\n",
    "df.head()"
   ]
  },
  {
   "cell_type": "markdown",
   "metadata": {
    "slideshow": {
     "slide_type": "fragment"
    }
   },
   "source": [
    "### Средняя длина текстов"
   ]
  },
  {
   "cell_type": "code",
   "execution_count": 5,
   "metadata": {
    "slideshow": {
     "slide_type": "fragment"
    }
   },
   "outputs": [
    {
     "data": {
      "text/plain": [
       "count    7756.000000\n",
       "mean       37.966478\n",
       "std        13.540042\n",
       "min         3.000000\n",
       "25%        27.000000\n",
       "50%        38.000000\n",
       "75%        49.000000\n",
       "max        60.000000\n",
       "Name: Shrt_Desc, dtype: float64"
      ]
     },
     "execution_count": 5,
     "metadata": {},
     "output_type": "execute_result"
    }
   ],
   "source": [
    "len_data = df.Shrt_Desc.apply(len)\n",
    "len_data.describe()"
   ]
  },
  {
   "cell_type": "markdown",
   "metadata": {
    "slideshow": {
     "slide_type": "subslide"
    }
   },
   "source": [
    "### Длины текстов (в символах)"
   ]
  },
  {
   "cell_type": "code",
   "execution_count": 6,
   "metadata": {
    "slideshow": {
     "slide_type": "fragment"
    }
   },
   "outputs": [
    {
     "name": "stderr",
     "output_type": "stream",
     "text": [
      "/Users/romakindmitriy/anaconda3/lib/python3.7/site-packages/matplotlib/figure.py:445: UserWarning: Matplotlib is currently using module://ipykernel.pylab.backend_inline, which is a non-GUI backend, so cannot show the figure.\n",
      "  % get_backend())\n"
     ]
    },
    {
     "data": {
      "image/png": "[encoded data removed]",
      "text/plain": [
       "<Figure size 432x288 with 1 Axes>"
      ]
     },
     "metadata": {
      "needs_background": "light"
     },
     "output_type": "display_data"
    }
   ],
   "source": [
    "import matplotlib.pyplot as plt\n",
    "import numpy as np \n",
    "%matplotlib inline\n",
    "\n",
    "\n",
    "fig, ax = plt.subplots()\n",
    "\n",
    "length = len_data[len_data < 10000].tolist()\n",
    "\n",
    "n, bins, patches = ax.hist(length)\n",
    "\n",
    "fig.show()"
   ]
  },
  {
   "cell_type": "markdown",
   "metadata": {
    "slideshow": {
     "slide_type": "subslide"
    }
   },
   "source": [
    "## Токенизация\n",
    "\n",
    "Используем регулярные выражения, чтобы разбить тексты на слова"
   ]
  },
  {
   "cell_type": "code",
   "execution_count": 7,
   "metadata": {},
   "outputs": [
    {
     "data": {
      "text/plain": [
       "'babyfood crl oatmeal w bananas dry'"
      ]
     },
     "execution_count": 7,
     "metadata": {},
     "output_type": "execute_result"
    }
   ],
   "source": [
    "import re\n",
    "# regex = re.compile(\"[А-Яа-я]+\")\n",
    "regex = re.compile(\"[A-Za-z]+\")\n",
    "\n",
    "def words_only(text, regex=regex):\n",
    "    try:\n",
    "        return \" \".join(regex.findall(text))\n",
    "    except:\n",
    "        return \"\"\n",
    "\n",
    "def words_space(text):\n",
    "    if ',' in text:\n",
    "        return \" \".join(list(text.split(',')))\n",
    "    else:\n",
    "        return text\n",
    "\n",
    "\n",
    "df.Shrt_Desc = df.Shrt_Desc.str.lower()\n",
    "# print(df.Shrt_Desc[0])\n",
    "# print(\" \".join(list(df.Shrt_Desc[0].split(','))))\n",
    "\n",
    "df.Shrt_Desc = df.Shrt_Desc.apply(words_only)\n",
    "df.Shrt_Desc.iloc[0]"
   ]
  },
  {
   "cell_type": "markdown",
   "metadata": {
    "slideshow": {
     "slide_type": "subslide"
    }
   },
   "source": [
    "### Самые частые слова"
   ]
  },
  {
   "cell_type": "code",
   "execution_count": null,
   "metadata": {},
   "outputs": [],
   "source": [
    "from nltk import FreqDist"
   ]
  },
  {
   "cell_type": "code",
   "execution_count": null,
   "metadata": {
    "scrolled": true,
    "slideshow": {
     "slide_type": "fragment"
    }
   },
   "outputs": [],
   "source": [
    "from nltk import FreqDist\n",
    "n_types = []\n",
    "n_tokens = []\n",
    "tokens = []\n",
    "fd = FreqDist()\n",
    "for index, row in df.iterrows():\n",
    "    tokens = row['Shrt_Desc'].split()\n",
    "    fd.update(tokens)\n",
    "    n_types.append(len(fd))\n",
    "    n_tokens.append(sum(fd.values()))\n",
    "for i in fd.most_common(len(df.Shrt_Desc)):\n",
    "    print(i)"
   ]
  },
  {
   "cell_type": "markdown",
   "metadata": {
    "slideshow": {
     "slide_type": "subslide"
    }
   },
   "source": [
    "### Закон Ципфа"
   ]
  },
  {
   "cell_type": "code",
   "execution_count": null,
   "metadata": {
    "slideshow": {
     "slide_type": "fragment"
    }
   },
   "outputs": [],
   "source": [
    "freqs = list(fd.values())\n",
    "freqs = sorted(freqs, reverse = True)\n",
    "\n",
    "fig, ax = plt.subplots()\n",
    "ax.plot(freqs[:300], range(300))\n",
    "plt.show()"
   ]
  },
  {
   "cell_type": "markdown",
   "metadata": {
    "slideshow": {
     "slide_type": "subslide"
    }
   },
   "source": [
    "### Закон Хипса"
   ]
  },
  {
   "cell_type": "code",
   "execution_count": null,
   "metadata": {
    "slideshow": {
     "slide_type": "fragment"
    }
   },
   "outputs": [],
   "source": [
    "fig, ax = plt.subplots()\n",
    "ax.plot(n_types, n_tokens)\n",
    "plt.show()\n"
   ]
  },
  {
   "cell_type": "markdown",
   "metadata": {
    "slideshow": {
     "slide_type": "slide"
    }
   },
   "source": [
    "## Первичная обработка текстов"
   ]
  },
  {
   "cell_type": "markdown",
   "metadata": {
    "slideshow": {
     "slide_type": "subslide"
    }
   },
   "source": [
    "### Удаление стоп-слов"
   ]
  },
  {
   "cell_type": "code",
   "execution_count": null,
   "metadata": {
    "scrolled": true,
    "slideshow": {
     "slide_type": "fragment"
    }
   },
   "outputs": [],
   "source": [
    "from nltk.corpus import stopwords\n",
    "print(stopwords.words('english'))"
   ]
  },
  {
   "cell_type": "code",
   "execution_count": null,
   "metadata": {
    "slideshow": {
     "slide_type": "subslide"
    }
   },
   "outputs": [],
   "source": [
    "mystopwords = stopwords.words('english') + ['&', 'w/', '0\\\"', 'or', '1/8\\\"', 'only', 'from', 'of', 'not', '/', 'ln'] + ['a','b','c', 'd', 'e', 'f', 'g', 'h', 'i', 'j', 'k', 'l', 'm', 'n', 'o', 'p', 'q', 'r', 's', 't', 'u', 'v', 'w', 'x', 'y', 'z']\n",
    "def  remove_stopwords(text, mystopwords = mystopwords):\n",
    "    try:\n",
    "        return \" \".join([token for token in text.split() if not token in mystopwords])\n",
    "    except:\n",
    "        return \"\"\n",
    " "
   ]
  },
  {
   "cell_type": "code",
   "execution_count": null,
   "metadata": {
    "slideshow": {
     "slide_type": "subslide"
    }
   },
   "outputs": [],
   "source": [
    "from pymystem3 import Mystem\n",
    "\n",
    "m = Mystem()\n",
    "def lemmatize(text, mystem=m):\n",
    "    try:\n",
    "        return \"\".join(m.lemmatize(text)).strip()  \n",
    "    except:\n",
    "        return \" \""
   ]
  },
  {
   "cell_type": "code",
   "execution_count": null,
   "metadata": {
    "slideshow": {
     "slide_type": "subslide"
    }
   },
   "outputs": [],
   "source": [
    "mystoplemmas = [\"german\", \"tennis\", \"seasons\", \"frozen)\"]\n",
    "def  remove_stoplemmas(text, mystoplemmas = mystoplemmas):\n",
    "    try:\n",
    "        return \" \".join([token for token in text.split() if not token in mystoplemmas])\n",
    "    except:\n",
    "        return \"\"\n"
   ]
  },
  {
   "cell_type": "code",
   "execution_count": null,
   "metadata": {
    "slideshow": {
     "slide_type": "subslide"
    }
   },
   "outputs": [],
   "source": [
    "df.Shrt_Desc = df.Shrt_Desc.apply(remove_stopwords) \n",
    "df.Shrt_Desc = df.Shrt_Desc.apply(lemmatize)\n",
    "df.Shrt_Desc = df.Shrt_Desc.apply(remove_stoplemmas) "
   ]
  },
  {
   "cell_type": "code",
   "execution_count": null,
   "metadata": {
    "slideshow": {
     "slide_type": "subslide"
    }
   },
   "outputs": [],
   "source": [
    "lemmata = []\n",
    "for index, row in df.iterrows():\n",
    "    lemmata += row['Shrt_Desc'].split()\n",
    "fd = FreqDist(lemmata)\n",
    "for i in fd.most_common(len(df.Shrt_Desc)):\n",
    "    print(i[0])"
   ]
  },
  {
   "cell_type": "markdown",
   "metadata": {
    "slideshow": {
     "slide_type": "slide"
    }
   },
   "source": [
    "## Извлечение ключевых слов"
   ]
  },
  {
   "cell_type": "markdown",
   "metadata": {},
   "source": [
    "## Извлечение ключевых словосочетаний\n",
    "\n",
    "\n",
    "Ключевые слова и словосочетания сложно определить формально. Поскольку определений ключевых слов и словосочетаний множество, существует масса методов их извлечения:\n",
    "* с учителем VS без учителя\n",
    "* частотные VS по-сложнее\n",
    "* из одного текста VS из коллекции текстов\n",
    "* слова (униграммы) VS биграммы VS $N$-граммы\n",
    "* термины VS именованные сущности VS коллокации\n",
    "* последовательные слова VS с использованием окна"
   ]
  },
  {
   "cell_type": "markdown",
   "metadata": {},
   "source": [
    "## Links about dictionary words with defenition\n",
    "https://www.velvetcache.org/2010/03/01/looking-up-words-in-a-dictionary-using-python\n",
    "https://www.w3resource.com/python-exercises/nltk/nltk-corpus-exercise-6.php"
   ]
  },
  {
   "cell_type": "code",
   "execution_count": null,
   "metadata": {},
   "outputs": [],
   "source": [
    "from nltk.corpus import wordnet \n",
    "syns = wordnet.synsets(\"chick\")\n",
    "print(\"Defination of the said word:\")\n",
    "print(syns[0].definition())\n",
    "print(\"\\nExamples of the word in use::\")\n",
    "print(syns[0].examples())"
   ]
  },
  {
   "cell_type": "markdown",
   "metadata": {
    "slideshow": {
     "slide_type": "slide"
    }
   },
   "source": [
    "## Вычисление сходства и Gensim"
   ]
  },
  {
   "cell_type": "markdown",
   "metadata": {
    "slideshow": {
     "slide_type": "subslide"
    }
   },
   "source": [
    "Представление данных в Gensim словарем и корпусом:"
   ]
  },
  {
   "cell_type": "code",
   "execution_count": null,
   "metadata": {
    "scrolled": true,
    "slideshow": {
     "slide_type": "subslide"
    }
   },
   "outputs": [],
   "source": [
    "from gensim.corpora import *\n",
    "# df.sort_values(['class'], inplace = True)\n",
    "texts = [df.Shrt_Desc.iloc[i].split() for i in range(len(df))]\n",
    "dictionary = Dictionary(texts)\n",
    "corpus = [dictionary.doc2bow(text) for text in texts]"
   ]
  },
  {
   "cell_type": "markdown",
   "metadata": {
    "slideshow": {
     "slide_type": "subslide"
    }
   },
   "source": [
    "Вычисление сходства по косинусной мере на векторах $tf-idf$:"
   ]
  },
  {
   "cell_type": "code",
   "execution_count": null,
   "metadata": {
    "slideshow": {
     "slide_type": "subslide"
    }
   },
   "outputs": [],
   "source": [
    "# %%time\n",
    "from gensim.models import  *\n",
    "tfidf = TfidfModel(corpus)\n",
    "print(tfidf[corpus])\n",
    "corpus_tfidf = tfidf[corpus]"
   ]
  },
  {
   "cell_type": "code",
   "execution_count": null,
   "metadata": {
    "slideshow": {
     "slide_type": "subslide"
    }
   },
   "outputs": [],
   "source": [
    "from gensim import similarities\n",
    "\n",
    "index = similarities.MatrixSimilarity(tfidf[corpus])\n",
    "sims = index[corpus_tfidf]"
   ]
  },
  {
   "cell_type": "code",
   "execution_count": null,
   "metadata": {
    "slideshow": {
     "slide_type": "subslide"
    }
   },
   "outputs": [],
   "source": [
    "from pylab import pcolor, show, colorbar, xticks, yticks\n",
    "import seaborn as sns\n",
    "import matplotlib.pyplot as plt\n",
    "%matplotlib inline\n",
    "\n",
    "plt.figure(figsize = (10,10))\n",
    "\n",
    "\n",
    "sns.heatmap(data=sims, cmap = 'Spectral').set(xticklabels=[],yticklabels=[])\n",
    "\n",
    "plt.title(\"Матрица близости\")\n",
    "plt.show()"
   ]
  },
  {
   "cell_type": "code",
   "execution_count": null,
   "metadata": {},
   "outputs": [],
   "source": [
    "from sklearn.manifold import TSNE\n",
    "from sklearn.decomposition import TruncatedSVD\n",
    "from sklearn.pipeline import Pipeline\n",
    "from sklearn.preprocessing import Normalizer\n",
    "from sklearn.feature_extraction.text import *\n",
    "\n",
    "vectors = TfidfVectorizer().fit_transform(df.Shrt_Desc)\n",
    "X_reduced = TruncatedSVD(n_components=5, random_state=0).fit_transform(vectors)\n",
    "X_embedded = TSNE(n_components=2, perplexity=5, verbose=0).fit_transform(X_reduced)"
   ]
  },
  {
   "cell_type": "code",
   "execution_count": null,
   "metadata": {},
   "outputs": [],
   "source": [
    "vis_df = pd.DataFrame({'X': X_embedded[:, 0], 'Y': X_embedded[:, 1]})\n",
    "sns.FacetGrid(vis_df, size=10).map(plt.scatter, \"X\", \"Y\").add_legend()"
   ]
  },
  {
   "cell_type": "code",
   "execution_count": null,
   "metadata": {},
   "outputs": [],
   "source": []
  }
 ],
 "metadata": {
  "kernelspec": {
   "display_name": "Python 3",
   "language": "python",
   "name": "python3"
  },
  "language_info": {
   "codemirror_mode": {
    "name": "ipython",
    "version": 3
   },
   "file_extension": ".py",
   "mimetype": "text/x-python",
   "name": "python",
   "nbconvert_exporter": "python",
   "pygments_lexer": "ipython3",
   "version": "3.7.3"
  }
 },
 "nbformat": 4,
 "nbformat_minor": 2
}
