{
 "cells": [
  {
   "cell_type": "code",
   "execution_count": 7,
   "metadata": {
    "slideshow": {
     "slide_type": "slide"
    }
   },
   "outputs": [],
   "source": [
    "import pandas as pd\n",
    "import numpy as np\n",
    "import pickle\n",
    "import matplotlib.pyplot as plt\n",
    "%matplotlib inline\n",
    "from sklearn.linear_model import LinearRegression\n",
    "from sklearn.ensemble import RandomForestRegressor\n",
    "from collections import Counter\n",
    "from catboost import CatBoostRegressor"
   ]
  },
  {
   "cell_type": "code",
   "execution_count": 71,
   "metadata": {
    "slideshow": {
     "slide_type": "subslide"
    }
   },
   "outputs": [
    {
     "data": {
      "text/html": [
       "<div>\n",
       "<style scoped>\n",
       "    .dataframe tbody tr th:only-of-type {\n",
       "        vertical-align: middle;\n",
       "    }\n",
       "\n",
       "    .dataframe tbody tr th {\n",
       "        vertical-align: top;\n",
       "    }\n",
       "\n",
       "    .dataframe thead th {\n",
       "        text-align: right;\n",
       "    }\n",
       "</style>\n",
       "<table border=\"1\" class=\"dataframe\">\n",
       "  <thead>\n",
       "    <tr style=\"text-align: right;\">\n",
       "      <th></th>\n",
       "      <th>Shrt_Desc</th>\n",
       "      <th>Protein_(g)</th>\n",
       "      <th>Lipid_Tot_(g)</th>\n",
       "      <th>Carbohydrt_(g)</th>\n",
       "    </tr>\n",
       "  </thead>\n",
       "  <tbody>\n",
       "    <tr>\n",
       "      <th>0</th>\n",
       "      <td>BABYFOOD,CRL,OATMEAL,W/BANANAS,DRY</td>\n",
       "      <td>12.00</td>\n",
       "      <td>6.00</td>\n",
       "      <td>73.40</td>\n",
       "    </tr>\n",
       "    <tr>\n",
       "      <th>1</th>\n",
       "      <td>HEARTS OF PALM,CANNED</td>\n",
       "      <td>2.52</td>\n",
       "      <td>0.62</td>\n",
       "      <td>4.62</td>\n",
       "    </tr>\n",
       "    <tr>\n",
       "      <th>2</th>\n",
       "      <td>CHICKEN,BROILERS OR FRYERS,THIGH,MEAT ONLY,CKD...</td>\n",
       "      <td>24.06</td>\n",
       "      <td>11.09</td>\n",
       "      <td>0.00</td>\n",
       "    </tr>\n",
       "    <tr>\n",
       "      <th>3</th>\n",
       "      <td>PORK,CURED,SHLDR,ARM PICNIC,LN&amp;FAT,RSTD</td>\n",
       "      <td>20.43</td>\n",
       "      <td>21.35</td>\n",
       "      <td>0.00</td>\n",
       "    </tr>\n",
       "    <tr>\n",
       "      <th>4</th>\n",
       "      <td>VINEGAR,DISTILLED</td>\n",
       "      <td>0.00</td>\n",
       "      <td>0.00</td>\n",
       "      <td>0.04</td>\n",
       "    </tr>\n",
       "  </tbody>\n",
       "</table>\n",
       "</div>"
      ],
      "text/plain": [
       "                                           Shrt_Desc  Protein_(g)  \\\n",
       "0                 BABYFOOD,CRL,OATMEAL,W/BANANAS,DRY        12.00   \n",
       "1                              HEARTS OF PALM,CANNED         2.52   \n",
       "2  CHICKEN,BROILERS OR FRYERS,THIGH,MEAT ONLY,CKD...        24.06   \n",
       "3            PORK,CURED,SHLDR,ARM PICNIC,LN&FAT,RSTD        20.43   \n",
       "4                                  VINEGAR,DISTILLED         0.00   \n",
       "\n",
       "   Lipid_Tot_(g)  Carbohydrt_(g)  \n",
       "0           6.00           73.40  \n",
       "1           0.62            4.62  \n",
       "2          11.09            0.00  \n",
       "3          21.35            0.00  \n",
       "4           0.00            0.04  "
      ]
     },
     "execution_count": 71,
     "metadata": {},
     "output_type": "execute_result"
    }
   ],
   "source": [
    "load = pd.read_csv('main_train.csv')\n",
    "x = load.iloc[:, :-1]\n",
    "y = load.iloc[:, -1]\n",
    "x = x[['Shrt_Desc', 'Protein_(g)', 'Lipid_Tot_(g)', 'Carbohydrt_(g)']]\n",
    "x.head()"
   ]
  },
  {
   "cell_type": "markdown",
   "metadata": {
    "slideshow": {
     "slide_type": "slide"
    }
   },
   "source": [
    "# Попробуем закодировать названия с помощью one-hot кодирования"
   ]
  },
  {
   "cell_type": "code",
   "execution_count": 3,
   "metadata": {
    "slideshow": {
     "slide_type": "fragment"
    }
   },
   "outputs": [],
   "source": [
    "names = x.Shrt_Desc.values\n",
    "names = Counter([j  for i in names for j in i.split(',') ])\n",
    "d = {'word': list(names.keys()), 'count': list(names.values())}"
   ]
  },
  {
   "cell_type": "code",
   "execution_count": 59,
   "metadata": {
    "slideshow": {
     "slide_type": "fragment"
    }
   },
   "outputs": [
    {
     "data": {
      "text/html": [
       "<div>\n",
       "<style scoped>\n",
       "    .dataframe tbody tr th:only-of-type {\n",
       "        vertical-align: middle;\n",
       "    }\n",
       "\n",
       "    .dataframe tbody tr th {\n",
       "        vertical-align: top;\n",
       "    }\n",
       "\n",
       "    .dataframe thead th {\n",
       "        text-align: right;\n",
       "    }\n",
       "</style>\n",
       "<table border=\"1\" class=\"dataframe\">\n",
       "  <thead>\n",
       "    <tr style=\"text-align: right;\">\n",
       "      <th></th>\n",
       "      <th>count</th>\n",
       "      <th>word</th>\n",
       "    </tr>\n",
       "  </thead>\n",
       "  <tbody>\n",
       "    <tr>\n",
       "      <th>0</th>\n",
       "      <td>1470</td>\n",
       "      <td>CKD</td>\n",
       "    </tr>\n",
       "    <tr>\n",
       "      <th>1</th>\n",
       "      <td>1151</td>\n",
       "      <td>RAW</td>\n",
       "    </tr>\n",
       "    <tr>\n",
       "      <th>2</th>\n",
       "      <td>838</td>\n",
       "      <td>BEEF</td>\n",
       "    </tr>\n",
       "    <tr>\n",
       "      <th>3</th>\n",
       "      <td>574</td>\n",
       "      <td>LN</td>\n",
       "    </tr>\n",
       "    <tr>\n",
       "      <th>4</th>\n",
       "      <td>436</td>\n",
       "      <td>CND</td>\n",
       "    </tr>\n",
       "  </tbody>\n",
       "</table>\n",
       "</div>"
      ],
      "text/plain": [
       "   count  word\n",
       "0   1470   CKD\n",
       "1   1151   RAW\n",
       "2    838  BEEF\n",
       "3    574    LN\n",
       "4    436   CND"
      ]
     },
     "execution_count": 59,
     "metadata": {},
     "output_type": "execute_result"
    }
   ],
   "source": [
    "analise_desc = pd.DataFrame.from_dict(d)\n",
    "analise_desc = analise_desc.loc[1:]\n",
    "analise_desc = analise_desc.sort_values(by='count', ascending=False).reset_index(drop=True)\n",
    "analise_desc.head()"
   ]
  },
  {
   "cell_type": "markdown",
   "metadata": {
    "slideshow": {
     "slide_type": "slide"
    }
   },
   "source": [
    "Оставим только часто повторяющиеся значения"
   ]
  },
  {
   "cell_type": "code",
   "execution_count": 40,
   "metadata": {
    "slideshow": {
     "slide_type": "subslide"
    }
   },
   "outputs": [
    {
     "data": {
      "text/plain": [
       "<matplotlib.axes._subplots.AxesSubplot at 0x7fc5a21496a0>"
      ]
     },
     "execution_count": 40,
     "metadata": {},
     "output_type": "execute_result"
    },
    {
     "data": {
      "image/png": "[encoded data removed]",
      "text/plain": [
       "<Figure size 432x288 with 1 Axes>"
      ]
     },
     "metadata": {
      "needs_background": "light"
     },
     "output_type": "display_data"
    }
   ],
   "source": [
    "analise_desc['count'].plot()"
   ]
  },
  {
   "cell_type": "code",
   "execution_count": 50,
   "metadata": {
    "slideshow": {
     "slide_type": "subslide"
    }
   },
   "outputs": [
    {
     "data": {
      "text/plain": [
       "<matplotlib.axes._subplots.AxesSubplot at 0x7fc5a2059a90>"
      ]
     },
     "execution_count": 50,
     "metadata": {},
     "output_type": "execute_result"
    },
    {
     "data": {
      "image/png": "[encoded data removed]",
      "text/plain": [
       "<Figure size 432x288 with 1 Axes>"
      ]
     },
     "metadata": {
      "needs_background": "light"
     },
     "output_type": "display_data"
    }
   ],
   "source": [
    "analise_desc.loc[analise_desc['count'] < 500]['count'].plot()"
   ]
  },
  {
   "cell_type": "code",
   "execution_count": 62,
   "metadata": {
    "slideshow": {
     "slide_type": "fragment"
    }
   },
   "outputs": [],
   "source": [
    "analise_desc_sh = analise_desc.loc[analise_desc['count'] > 100]"
   ]
  },
  {
   "cell_type": "code",
   "execution_count": 64,
   "metadata": {
    "slideshow": {
     "slide_type": "fragment"
    }
   },
   "outputs": [],
   "source": [
    "new_col = analise_desc_sh.word.values"
   ]
  },
  {
   "cell_type": "code",
   "execution_count": 67,
   "metadata": {
    "slideshow": {
     "slide_type": "subslide"
    }
   },
   "outputs": [
    {
     "data": {
      "text/html": [
       "<div>\n",
       "<style scoped>\n",
       "    .dataframe tbody tr th:only-of-type {\n",
       "        vertical-align: middle;\n",
       "    }\n",
       "\n",
       "    .dataframe tbody tr th {\n",
       "        vertical-align: top;\n",
       "    }\n",
       "\n",
       "    .dataframe thead th {\n",
       "        text-align: right;\n",
       "    }\n",
       "</style>\n",
       "<table border=\"1\" class=\"dataframe\">\n",
       "  <thead>\n",
       "    <tr style=\"text-align: right;\">\n",
       "      <th></th>\n",
       "      <th>CKD</th>\n",
       "      <th>RAW</th>\n",
       "      <th>BEEF</th>\n",
       "      <th>LN</th>\n",
       "      <th>CND</th>\n",
       "      <th>LN &amp; FAT</th>\n",
       "      <th>0\" FAT</th>\n",
       "      <th>PORK</th>\n",
       "      <th>FRZ</th>\n",
       "      <th>BLD</th>\n",
       "      <th>...</th>\n",
       "      <th>WHITE</th>\n",
       "      <th>FAST FOODS</th>\n",
       "      <th>CANDIES</th>\n",
       "      <th>KEEBLER</th>\n",
       "      <th>BONE-IN</th>\n",
       "      <th>COND</th>\n",
       "      <th>DRY MIX</th>\n",
       "      <th>CURED</th>\n",
       "      <th>BROILERS OR FRYERS</th>\n",
       "      <th>BEANS</th>\n",
       "    </tr>\n",
       "  </thead>\n",
       "  <tbody>\n",
       "    <tr>\n",
       "      <th>0</th>\n",
       "      <td>False</td>\n",
       "      <td>False</td>\n",
       "      <td>False</td>\n",
       "      <td>False</td>\n",
       "      <td>False</td>\n",
       "      <td>False</td>\n",
       "      <td>False</td>\n",
       "      <td>False</td>\n",
       "      <td>False</td>\n",
       "      <td>False</td>\n",
       "      <td>...</td>\n",
       "      <td>False</td>\n",
       "      <td>False</td>\n",
       "      <td>False</td>\n",
       "      <td>False</td>\n",
       "      <td>False</td>\n",
       "      <td>False</td>\n",
       "      <td>False</td>\n",
       "      <td>False</td>\n",
       "      <td>False</td>\n",
       "      <td>False</td>\n",
       "    </tr>\n",
       "    <tr>\n",
       "      <th>1</th>\n",
       "      <td>False</td>\n",
       "      <td>False</td>\n",
       "      <td>False</td>\n",
       "      <td>False</td>\n",
       "      <td>False</td>\n",
       "      <td>False</td>\n",
       "      <td>False</td>\n",
       "      <td>False</td>\n",
       "      <td>False</td>\n",
       "      <td>False</td>\n",
       "      <td>...</td>\n",
       "      <td>False</td>\n",
       "      <td>False</td>\n",
       "      <td>False</td>\n",
       "      <td>False</td>\n",
       "      <td>False</td>\n",
       "      <td>False</td>\n",
       "      <td>False</td>\n",
       "      <td>False</td>\n",
       "      <td>False</td>\n",
       "      <td>False</td>\n",
       "    </tr>\n",
       "    <tr>\n",
       "      <th>2</th>\n",
       "      <td>True</td>\n",
       "      <td>False</td>\n",
       "      <td>False</td>\n",
       "      <td>False</td>\n",
       "      <td>False</td>\n",
       "      <td>False</td>\n",
       "      <td>False</td>\n",
       "      <td>False</td>\n",
       "      <td>False</td>\n",
       "      <td>False</td>\n",
       "      <td>...</td>\n",
       "      <td>False</td>\n",
       "      <td>False</td>\n",
       "      <td>False</td>\n",
       "      <td>False</td>\n",
       "      <td>False</td>\n",
       "      <td>False</td>\n",
       "      <td>False</td>\n",
       "      <td>False</td>\n",
       "      <td>True</td>\n",
       "      <td>False</td>\n",
       "    </tr>\n",
       "    <tr>\n",
       "      <th>3</th>\n",
       "      <td>False</td>\n",
       "      <td>False</td>\n",
       "      <td>False</td>\n",
       "      <td>True</td>\n",
       "      <td>False</td>\n",
       "      <td>False</td>\n",
       "      <td>False</td>\n",
       "      <td>True</td>\n",
       "      <td>False</td>\n",
       "      <td>False</td>\n",
       "      <td>...</td>\n",
       "      <td>False</td>\n",
       "      <td>False</td>\n",
       "      <td>False</td>\n",
       "      <td>False</td>\n",
       "      <td>False</td>\n",
       "      <td>False</td>\n",
       "      <td>False</td>\n",
       "      <td>True</td>\n",
       "      <td>False</td>\n",
       "      <td>False</td>\n",
       "    </tr>\n",
       "    <tr>\n",
       "      <th>4</th>\n",
       "      <td>False</td>\n",
       "      <td>False</td>\n",
       "      <td>False</td>\n",
       "      <td>False</td>\n",
       "      <td>False</td>\n",
       "      <td>False</td>\n",
       "      <td>False</td>\n",
       "      <td>False</td>\n",
       "      <td>False</td>\n",
       "      <td>False</td>\n",
       "      <td>...</td>\n",
       "      <td>False</td>\n",
       "      <td>False</td>\n",
       "      <td>False</td>\n",
       "      <td>False</td>\n",
       "      <td>False</td>\n",
       "      <td>False</td>\n",
       "      <td>False</td>\n",
       "      <td>False</td>\n",
       "      <td>False</td>\n",
       "      <td>False</td>\n",
       "    </tr>\n",
       "  </tbody>\n",
       "</table>\n",
       "<p>5 rows × 47 columns</p>\n",
       "</div>"
      ],
      "text/plain": [
       "     CKD    RAW   BEEF     LN    CND LN & FAT 0\" FAT   PORK    FRZ    BLD  \\\n",
       "0  False  False  False  False  False    False  False  False  False  False   \n",
       "1  False  False  False  False  False    False  False  False  False  False   \n",
       "2   True  False  False  False  False    False  False  False  False  False   \n",
       "3  False  False  False   True  False    False  False   True  False  False   \n",
       "4  False  False  False  False  False    False  False  False  False  False   \n",
       "\n",
       "   ...  WHITE FAST FOODS CANDIES KEEBLER BONE-IN   COND DRY MIX  CURED  \\\n",
       "0  ...  False      False   False   False   False  False   False  False   \n",
       "1  ...  False      False   False   False   False  False   False  False   \n",
       "2  ...  False      False   False   False   False  False   False  False   \n",
       "3  ...  False      False   False   False   False  False   False   True   \n",
       "4  ...  False      False   False   False   False  False   False  False   \n",
       "\n",
       "  BROILERS OR FRYERS  BEANS  \n",
       "0              False  False  \n",
       "1              False  False  \n",
       "2               True  False  \n",
       "3              False  False  \n",
       "4              False  False  \n",
       "\n",
       "[5 rows x 47 columns]"
      ]
     },
     "execution_count": 67,
     "metadata": {},
     "output_type": "execute_result"
    }
   ],
   "source": [
    "x.Shrt_Desc.values\n",
    "new_data = pd.DataFrame(columns=new_col)\n",
    "n = 0\n",
    "for i in x.Shrt_Desc.values:\n",
    "    new_data.loc[n] = [i.find(j) != -1 for j in new_col]\n",
    "    n += 1\n",
    "new_data.head()"
   ]
  },
  {
   "cell_type": "code",
   "execution_count": 72,
   "metadata": {
    "slideshow": {
     "slide_type": "subslide"
    }
   },
   "outputs": [
    {
     "data": {
      "text/html": [
       "<div>\n",
       "<style scoped>\n",
       "    .dataframe tbody tr th:only-of-type {\n",
       "        vertical-align: middle;\n",
       "    }\n",
       "\n",
       "    .dataframe tbody tr th {\n",
       "        vertical-align: top;\n",
       "    }\n",
       "\n",
       "    .dataframe thead th {\n",
       "        text-align: right;\n",
       "    }\n",
       "</style>\n",
       "<table border=\"1\" class=\"dataframe\">\n",
       "  <thead>\n",
       "    <tr style=\"text-align: right;\">\n",
       "      <th></th>\n",
       "      <th>Shrt_Desc</th>\n",
       "      <th>Protein_(g)</th>\n",
       "      <th>Lipid_Tot_(g)</th>\n",
       "      <th>Carbohydrt_(g)</th>\n",
       "      <th>CKD</th>\n",
       "      <th>RAW</th>\n",
       "      <th>BEEF</th>\n",
       "      <th>LN</th>\n",
       "      <th>CND</th>\n",
       "      <th>LN &amp; FAT</th>\n",
       "      <th>...</th>\n",
       "      <th>WHITE</th>\n",
       "      <th>FAST FOODS</th>\n",
       "      <th>CANDIES</th>\n",
       "      <th>KEEBLER</th>\n",
       "      <th>BONE-IN</th>\n",
       "      <th>COND</th>\n",
       "      <th>DRY MIX</th>\n",
       "      <th>CURED</th>\n",
       "      <th>BROILERS OR FRYERS</th>\n",
       "      <th>BEANS</th>\n",
       "    </tr>\n",
       "  </thead>\n",
       "  <tbody>\n",
       "    <tr>\n",
       "      <th>0</th>\n",
       "      <td>BABYFOOD,CRL,OATMEAL,W/BANANAS,DRY</td>\n",
       "      <td>12.00</td>\n",
       "      <td>6.00</td>\n",
       "      <td>73.40</td>\n",
       "      <td>False</td>\n",
       "      <td>False</td>\n",
       "      <td>False</td>\n",
       "      <td>False</td>\n",
       "      <td>False</td>\n",
       "      <td>False</td>\n",
       "      <td>...</td>\n",
       "      <td>False</td>\n",
       "      <td>False</td>\n",
       "      <td>False</td>\n",
       "      <td>False</td>\n",
       "      <td>False</td>\n",
       "      <td>False</td>\n",
       "      <td>False</td>\n",
       "      <td>False</td>\n",
       "      <td>False</td>\n",
       "      <td>False</td>\n",
       "    </tr>\n",
       "    <tr>\n",
       "      <th>1</th>\n",
       "      <td>HEARTS OF PALM,CANNED</td>\n",
       "      <td>2.52</td>\n",
       "      <td>0.62</td>\n",
       "      <td>4.62</td>\n",
       "      <td>False</td>\n",
       "      <td>False</td>\n",
       "      <td>False</td>\n",
       "      <td>False</td>\n",
       "      <td>False</td>\n",
       "      <td>False</td>\n",
       "      <td>...</td>\n",
       "      <td>False</td>\n",
       "      <td>False</td>\n",
       "      <td>False</td>\n",
       "      <td>False</td>\n",
       "      <td>False</td>\n",
       "      <td>False</td>\n",
       "      <td>False</td>\n",
       "      <td>False</td>\n",
       "      <td>False</td>\n",
       "      <td>False</td>\n",
       "    </tr>\n",
       "    <tr>\n",
       "      <th>2</th>\n",
       "      <td>CHICKEN,BROILERS OR FRYERS,THIGH,MEAT ONLY,CKD...</td>\n",
       "      <td>24.06</td>\n",
       "      <td>11.09</td>\n",
       "      <td>0.00</td>\n",
       "      <td>True</td>\n",
       "      <td>False</td>\n",
       "      <td>False</td>\n",
       "      <td>False</td>\n",
       "      <td>False</td>\n",
       "      <td>False</td>\n",
       "      <td>...</td>\n",
       "      <td>False</td>\n",
       "      <td>False</td>\n",
       "      <td>False</td>\n",
       "      <td>False</td>\n",
       "      <td>False</td>\n",
       "      <td>False</td>\n",
       "      <td>False</td>\n",
       "      <td>False</td>\n",
       "      <td>True</td>\n",
       "      <td>False</td>\n",
       "    </tr>\n",
       "    <tr>\n",
       "      <th>3</th>\n",
       "      <td>PORK,CURED,SHLDR,ARM PICNIC,LN&amp;FAT,RSTD</td>\n",
       "      <td>20.43</td>\n",
       "      <td>21.35</td>\n",
       "      <td>0.00</td>\n",
       "      <td>False</td>\n",
       "      <td>False</td>\n",
       "      <td>False</td>\n",
       "      <td>True</td>\n",
       "      <td>False</td>\n",
       "      <td>False</td>\n",
       "      <td>...</td>\n",
       "      <td>False</td>\n",
       "      <td>False</td>\n",
       "      <td>False</td>\n",
       "      <td>False</td>\n",
       "      <td>False</td>\n",
       "      <td>False</td>\n",
       "      <td>False</td>\n",
       "      <td>True</td>\n",
       "      <td>False</td>\n",
       "      <td>False</td>\n",
       "    </tr>\n",
       "    <tr>\n",
       "      <th>4</th>\n",
       "      <td>VINEGAR,DISTILLED</td>\n",
       "      <td>0.00</td>\n",
       "      <td>0.00</td>\n",
       "      <td>0.04</td>\n",
       "      <td>False</td>\n",
       "      <td>False</td>\n",
       "      <td>False</td>\n",
       "      <td>False</td>\n",
       "      <td>False</td>\n",
       "      <td>False</td>\n",
       "      <td>...</td>\n",
       "      <td>False</td>\n",
       "      <td>False</td>\n",
       "      <td>False</td>\n",
       "      <td>False</td>\n",
       "      <td>False</td>\n",
       "      <td>False</td>\n",
       "      <td>False</td>\n",
       "      <td>False</td>\n",
       "      <td>False</td>\n",
       "      <td>False</td>\n",
       "    </tr>\n",
       "  </tbody>\n",
       "</table>\n",
       "<p>5 rows × 51 columns</p>\n",
       "</div>"
      ],
      "text/plain": [
       "                                           Shrt_Desc  Protein_(g)  \\\n",
       "0                 BABYFOOD,CRL,OATMEAL,W/BANANAS,DRY        12.00   \n",
       "1                              HEARTS OF PALM,CANNED         2.52   \n",
       "2  CHICKEN,BROILERS OR FRYERS,THIGH,MEAT ONLY,CKD...        24.06   \n",
       "3            PORK,CURED,SHLDR,ARM PICNIC,LN&FAT,RSTD        20.43   \n",
       "4                                  VINEGAR,DISTILLED         0.00   \n",
       "\n",
       "   Lipid_Tot_(g)  Carbohydrt_(g)    CKD    RAW   BEEF     LN    CND LN & FAT  \\\n",
       "0           6.00           73.40  False  False  False  False  False    False   \n",
       "1           0.62            4.62  False  False  False  False  False    False   \n",
       "2          11.09            0.00   True  False  False  False  False    False   \n",
       "3          21.35            0.00  False  False  False   True  False    False   \n",
       "4           0.00            0.04  False  False  False  False  False    False   \n",
       "\n",
       "   ...  WHITE FAST FOODS CANDIES KEEBLER BONE-IN   COND DRY MIX  CURED  \\\n",
       "0  ...  False      False   False   False   False  False   False  False   \n",
       "1  ...  False      False   False   False   False  False   False  False   \n",
       "2  ...  False      False   False   False   False  False   False  False   \n",
       "3  ...  False      False   False   False   False  False   False   True   \n",
       "4  ...  False      False   False   False   False  False   False  False   \n",
       "\n",
       "  BROILERS OR FRYERS  BEANS  \n",
       "0              False  False  \n",
       "1              False  False  \n",
       "2               True  False  \n",
       "3              False  False  \n",
       "4              False  False  \n",
       "\n",
       "[5 rows x 51 columns]"
      ]
     },
     "execution_count": 72,
     "metadata": {},
     "output_type": "execute_result"
    }
   ],
   "source": [
    "new_train = x.join(new_data)\n",
    "new_train.head()"
   ]
  },
  {
   "cell_type": "code",
   "execution_count": 73,
   "metadata": {
    "slideshow": {
     "slide_type": "fragment"
    }
   },
   "outputs": [],
   "source": [
    "new_train.to_csv('train_2.csv')"
   ]
  },
  {
   "cell_type": "code",
   "execution_count": 84,
   "metadata": {
    "slideshow": {
     "slide_type": "fragment"
    }
   },
   "outputs": [],
   "source": [
    "new_train = new_train.iloc[:, 1:]\n",
    "test_size = round(y.size * 0.3)\n",
    "test_data = new_train.sample(test_size)\n",
    "train_data = new_train.drop(new_train.sample(test_size).index, axis=0)\n",
    "test_y = y[test_data.index].to_numpy()\n",
    "train_y = y[train_data.index].to_numpy()"
   ]
  },
  {
   "cell_type": "markdown",
   "metadata": {
    "slideshow": {
     "slide_type": "slide"
    }
   },
   "source": [
    "# Проверим важность признаков с помощью catboost"
   ]
  },
  {
   "cell_type": "code",
   "execution_count": 87,
   "metadata": {
    "slideshow": {
     "slide_type": "fragment"
    }
   },
   "outputs": [],
   "source": [
    "catboost_reg = CatBoostRegressor(iterations=200, loss_function='MAE', depth=10, learning_rate=0.03, l2_leaf_reg=3)\n",
    "catboost_reg = catboost_reg.fit(train_data, train_y, verbose=False)"
   ]
  },
  {
   "cell_type": "code",
   "execution_count": 88,
   "metadata": {
    "slideshow": {
     "slide_type": "fragment"
    }
   },
   "outputs": [
    {
     "data": {
      "text/plain": [
       "12.125687674030514"
      ]
     },
     "execution_count": 88,
     "metadata": {},
     "output_type": "execute_result"
    }
   ],
   "source": [
    "sum(abs(catboost_reg.predict(test_data) - test_y)) / test_y.size"
   ]
  },
  {
   "cell_type": "code",
   "execution_count": 89,
   "metadata": {
    "slideshow": {
     "slide_type": "subslide"
    }
   },
   "outputs": [
    {
     "name": "stdout",
     "output_type": "stream",
     "text": [
      "Lipid_Tot_(g) 47.6143809405047\n",
      "Carbohydrt_(g) 25.60765456427822\n",
      "Protein_(g) 21.29193311005375\n",
      "CKD 0.8163755155433814\n",
      "DRY 0.46751104539602856\n",
      "RND 0.4423566330138976\n",
      "W/SALT 0.3938186756954572\n",
      "KEEBLER 0.35304443921802875\n",
      "SOUP 0.29165366393886655\n",
      "CANDIES 0.28912676779446617\n",
      "RAW 0.2418396431629991\n",
      "FRZ 0.22457152163694105\n",
      "WO/SALT 0.21062097481723233\n",
      "CEREALS RTE 0.20592262701487996\n",
      "LN 0.18503125221774142\n",
      "CND 0.16382181021817244\n",
      "COND 0.15237839721531665\n",
      "BABYFOOD 0.14302861615402318\n",
      "BEEF 0.1242247034101834\n",
      "DRND 0.10682378339320592\n",
      "LN&FAT 0.08936377134493967\n",
      "UNPREP 0.08468790185747874\n",
      "MATURE SEEDS 0.07267341388116601\n",
      "DRY MIX 0.05524550963329094\n",
      "BLD 0.053301395272766214\n",
      "WHITE 0.03905311784212595\n",
      "BNLESS 0.03728850848438124\n",
      "CHICKEN 0.02845052155878161\n",
      "BROILERS OR FRYERS 0.02486019509009673\n",
      "NZ 0.02470011426267081\n",
      "LAMB 0.02381973082719258\n",
      "FAST FOODS 0.022206346916968243\n",
      "PORK 0.020228011996079955\n",
      "RSTD 0.018794744575929157\n",
      "0\" FAT 0.013056464907117694\n",
      "SEL 0.012471386113557916\n",
      "CURED 0.012366390608995694\n",
      "BRSD 0.009227062647594457\n",
      "LOIN 0.005245244858831758\n",
      "1/8\" FAT 0.005035990136072993\n",
      "LN & FAT 0.004739614414200016\n",
      "IMP 0.0043765872078048084\n",
      "BRLD 0.003946039944980218\n",
      "FRSH 0.002598143727458715\n",
      "CHOIC 0.0021994988401642097\n",
      "BEANS 0.0013883387433343251\n",
      "MEAT ONLY 0.0012501193185369863\n",
      "BONE-IN 0.0008797807301822401\n",
      "ALL GRDS 0.00042736957979085626\n",
      "1/8\"FAT 0.0\n"
     ]
    },
    {
     "data": {
      "text/plain": [
       "['CKD',\n",
       " 'DRY',\n",
       " 'RND',\n",
       " 'W/SALT',\n",
       " 'KEEBLER',\n",
       " 'SOUP',\n",
       " 'CANDIES',\n",
       " 'RAW',\n",
       " 'FRZ',\n",
       " 'WO/SALT',\n",
       " 'CEREALS RTE',\n",
       " 'LN',\n",
       " 'CND',\n",
       " 'COND',\n",
       " 'BABYFOOD',\n",
       " 'BEEF',\n",
       " 'DRND',\n",
       " 'LN&FAT',\n",
       " 'UNPREP',\n",
       " 'MATURE SEEDS',\n",
       " 'DRY MIX',\n",
       " 'BLD',\n",
       " 'WHITE',\n",
       " 'BNLESS',\n",
       " 'CHICKEN',\n",
       " 'BROILERS OR FRYERS',\n",
       " 'NZ',\n",
       " 'LAMB',\n",
       " 'FAST FOODS',\n",
       " 'PORK',\n",
       " 'RSTD',\n",
       " '0\" FAT',\n",
       " 'SEL',\n",
       " 'CURED',\n",
       " 'BRSD',\n",
       " 'LOIN',\n",
       " '1/8\" FAT',\n",
       " 'LN & FAT',\n",
       " 'IMP',\n",
       " 'BRLD',\n",
       " 'FRSH',\n",
       " 'CHOIC',\n",
       " 'BEANS',\n",
       " 'MEAT ONLY',\n",
       " 'BONE-IN',\n",
       " 'ALL GRDS',\n",
       " '1/8\"FAT']"
      ]
     },
     "execution_count": 89,
     "metadata": {},
     "output_type": "execute_result"
    }
   ],
   "source": [
    "feature_importance = catboost_reg.get_feature_importance()\n",
    "features = catboost_reg.feature_names_\n",
    "deleted = []\n",
    "\n",
    "for feature_id in feature_importance.argsort()[::-1]:\n",
    "    name = features[feature_id]\n",
    "    importance = feature_importance[feature_id]\n",
    "    if importance < 1.1:\n",
    "        deleted.append(name)\n",
    "    print(name, importance)\n",
    "deleted"
   ]
  },
  {
   "cell_type": "markdown",
   "metadata": {
    "slideshow": {
     "slide_type": "slide"
    }
   },
   "source": [
    "### Как мы видим категории очень слабо влияют на нашу модель, поэтому их можно убрать"
   ]
  },
  {
   "cell_type": "code",
   "execution_count": 73,
   "metadata": {
    "slideshow": {
     "slide_type": "subslide"
    }
   },
   "outputs": [
    {
     "data": {
      "text/html": [
       "<div>\n",
       "<style scoped>\n",
       "    .dataframe tbody tr th:only-of-type {\n",
       "        vertical-align: middle;\n",
       "    }\n",
       "\n",
       "    .dataframe tbody tr th {\n",
       "        vertical-align: top;\n",
       "    }\n",
       "\n",
       "    .dataframe thead th {\n",
       "        text-align: right;\n",
       "    }\n",
       "</style>\n",
       "<table border=\"1\" class=\"dataframe\">\n",
       "  <thead>\n",
       "    <tr style=\"text-align: right;\">\n",
       "      <th></th>\n",
       "      <th>Protein_(g)</th>\n",
       "      <th>Lipid_Tot_(g)</th>\n",
       "      <th>Carbohydrt_(g)</th>\n",
       "    </tr>\n",
       "  </thead>\n",
       "  <tbody>\n",
       "    <tr>\n",
       "      <th>0</th>\n",
       "      <td>12.00</td>\n",
       "      <td>6.00</td>\n",
       "      <td>73.40</td>\n",
       "    </tr>\n",
       "    <tr>\n",
       "      <th>1</th>\n",
       "      <td>2.52</td>\n",
       "      <td>0.62</td>\n",
       "      <td>4.62</td>\n",
       "    </tr>\n",
       "    <tr>\n",
       "      <th>2</th>\n",
       "      <td>24.06</td>\n",
       "      <td>11.09</td>\n",
       "      <td>0.00</td>\n",
       "    </tr>\n",
       "    <tr>\n",
       "      <th>3</th>\n",
       "      <td>20.43</td>\n",
       "      <td>21.35</td>\n",
       "      <td>0.00</td>\n",
       "    </tr>\n",
       "    <tr>\n",
       "      <th>4</th>\n",
       "      <td>0.00</td>\n",
       "      <td>0.00</td>\n",
       "      <td>0.04</td>\n",
       "    </tr>\n",
       "  </tbody>\n",
       "</table>\n",
       "</div>"
      ],
      "text/plain": [
       "   Protein_(g)  Lipid_Tot_(g)  Carbohydrt_(g)\n",
       "0        12.00           6.00           73.40\n",
       "1         2.52           0.62            4.62\n",
       "2        24.06          11.09            0.00\n",
       "3        20.43          21.35            0.00\n",
       "4         0.00           0.00            0.04"
      ]
     },
     "execution_count": 73,
     "metadata": {},
     "output_type": "execute_result"
    }
   ],
   "source": [
    "x = load.iloc[:, :-1]\n",
    "x = x[['Protein_(g)', 'Lipid_Tot_(g)', 'Carbohydrt_(g)']]\n",
    "x.head()"
   ]
  },
  {
   "cell_type": "code",
   "execution_count": 74,
   "metadata": {
    "slideshow": {
     "slide_type": "subslide"
    }
   },
   "outputs": [
    {
     "name": "stdout",
     "output_type": "stream",
     "text": [
      "Protein_(g)^3                   0.054110\n",
      "Protein_(g)^2                   0.066414\n",
      "Protein_(g)                     0.112094\n",
      "Protein_(g)^2 Carbohydrt_(g)    0.253569\n",
      "Protein_(g)^2 Lipid_Tot_(g)     0.263043\n",
      "Protein_(g) Lipid_Tot_(g)       0.410160\n",
      "Protein_(g) Lipid_Tot_(g)^2     0.426355\n",
      "Protein_(g) Carbohydrt_(g)^2    0.449024\n",
      "Carbohydrt_(g)^3                0.450500\n",
      "Protein_(g) Carbohydrt_(g)      0.460681\n",
      "Name: Energ_Kcal, dtype: float64\n",
      "Carbohydrt_(g)^2                            0.490147\n",
      "Lipid_Tot_(g)^2 Carbohydrt_(g)              0.552829\n",
      "Protein_(g) Lipid_Tot_(g) Carbohydrt_(g)    0.560885\n",
      "Lipid_Tot_(g) Carbohydrt_(g)^2              0.561593\n",
      "Lipid_Tot_(g)^3                             0.578063\n",
      "Lipid_Tot_(g) Carbohydrt_(g)                0.603304\n",
      "Lipid_Tot_(g)^2                             0.663735\n",
      "Lipid_Tot_(g)                               0.809028\n",
      "Energ_Kcal                                  1.000000\n",
      "1                                                NaN\n",
      "Name: Energ_Kcal, dtype: float64\n"
     ]
    }
   ],
   "source": [
    "col = ['Protein_(g)', 'Lipid_Tot_(g)', 'Carbohydrt_(g)']\n",
    "poly_features = x\n",
    "from sklearn.preprocessing import Imputer\n",
    "from sklearn.preprocessing import PolynomialFeatures\n",
    "poly_transformer = PolynomialFeatures(degree=3)\n",
    "poly_transformer.fit(poly_features)\n",
    "poly_features = poly_transformer.transform(poly_features)\n",
    "poly_transformer.get_feature_names(input_features = col)[:15]\n",
    "poly_features = pd.DataFrame(poly_features, \n",
    "                             columns = poly_transformer.get_feature_names(col))\n",
    "poly_features['Energ_Kcal'] = y\n",
    "corr = poly_features.corr()['Energ_Kcal'].sort_values()\n",
    "print(corr.head(10))\n",
    "print(corr.tail(10))"
   ]
  },
  {
   "cell_type": "code",
   "execution_count": 75,
   "metadata": {
    "slideshow": {
     "slide_type": "fragment"
    }
   },
   "outputs": [],
   "source": [
    "poly_features = poly_features.drop(['Energ_Kcal'], axis=1)"
   ]
  },
  {
   "cell_type": "code",
   "execution_count": 76,
   "metadata": {
    "slideshow": {
     "slide_type": "fragment"
    }
   },
   "outputs": [],
   "source": [
    "test_size = round(y.size * 0.3)\n",
    "test_data_pol = poly_features.sample(test_size)\n",
    "train_data_pol = poly_features.drop(poly_features.sample(test_size).index, axis=0)\n",
    "test_y = y[test_data.index].to_numpy()\n",
    "train_y = y[train_data.index].to_numpy()"
   ]
  },
  {
   "cell_type": "code",
   "execution_count": 77,
   "metadata": {
    "slideshow": {
     "slide_type": "fragment"
    }
   },
   "outputs": [],
   "source": [
    "train_data = train_data_pol[col]\n",
    "test_data = test_data_pol[col]"
   ]
  },
  {
   "cell_type": "markdown",
   "metadata": {
    "slideshow": {
     "slide_type": "slide"
    }
   },
   "source": [
    "## Linear regression"
   ]
  },
  {
   "cell_type": "code",
   "execution_count": 78,
   "metadata": {
    "slideshow": {
     "slide_type": "fragment"
    }
   },
   "outputs": [],
   "source": [
    "lin_reg = LinearRegression().fit(train_data_pol, train_y)"
   ]
  },
  {
   "cell_type": "code",
   "execution_count": 79,
   "metadata": {
    "scrolled": true,
    "slideshow": {
     "slide_type": "fragment"
    }
   },
   "outputs": [
    {
     "data": {
      "text/plain": [
       "135.3308981521272"
      ]
     },
     "execution_count": 79,
     "metadata": {},
     "output_type": "execute_result"
    }
   ],
   "source": [
    "sum(abs(np.round(lin_reg.predict(test_data_pol)) - test_y))/ test_y.size"
   ]
  },
  {
   "cell_type": "markdown",
   "metadata": {},
   "source": []
  },
  {
   "cell_type": "code",
   "execution_count": 89,
   "metadata": {
    "slideshow": {
     "slide_type": "fragment"
    }
   },
   "outputs": [],
   "source": [
    "lin = LinearRegression().fit(train_data.to_numpy(), train_y)"
   ]
  },
  {
   "cell_type": "code",
   "execution_count": 90,
   "metadata": {
    "slideshow": {
     "slide_type": "fragment"
    }
   },
   "outputs": [
    {
     "data": {
      "text/plain": [
       "135.39075442331904"
      ]
     },
     "execution_count": 90,
     "metadata": {},
     "output_type": "execute_result"
    }
   ],
   "source": [
    "sum(abs(lin.predict(test_data.to_numpy()) - test_y)) / test_y.size"
   ]
  },
  {
   "cell_type": "markdown",
   "metadata": {
    "slideshow": {
     "slide_type": "slide"
    }
   },
   "source": [
    "## Catboost"
   ]
  },
  {
   "cell_type": "code",
   "execution_count": 36,
   "metadata": {
    "colab": {
     "base_uri": "https://localhost:8080/",
     "height": 1000
    },
    "colab_type": "code",
    "id": "tYhfKRDbz_OT",
    "outputId": "3210b320-e9c0-4fbc-830f-abfe0a94af28",
    "slideshow": {
     "slide_type": "subslide"
    }
   },
   "outputs": [
    {
     "name": "stdout",
     "output_type": "stream",
     "text": [
      "0\n",
      "1\n",
      "2\n",
      "3\n",
      "4\n",
      "5\n",
      "6\n",
      "7\n",
      "8\n",
      "9\n",
      "10\n",
      "11\n",
      "12\n",
      "13\n",
      "14\n",
      "15\n",
      "16\n",
      "17\n",
      "18\n",
      "19\n",
      "20\n",
      "21\n",
      "22\n",
      "23\n",
      "24\n",
      "25\n",
      "26\n",
      "27\n",
      "28\n",
      "29\n",
      "30\n",
      "31\n",
      "32\n",
      "33\n",
      "34\n",
      "35\n",
      "36\n",
      "37\n",
      "38\n",
      "39\n",
      "40\n",
      "41\n",
      "42\n",
      "43\n",
      "44\n",
      "45\n",
      "46\n",
      "47\n",
      "48\n",
      "49\n",
      "50\n",
      "51\n",
      "52\n",
      "53\n",
      "54\n",
      "55\n",
      "56\n",
      "57\n",
      "58\n",
      "59\n",
      "60\n",
      "61\n",
      "62\n",
      "63\n",
      "64\n",
      "65\n",
      "66\n",
      "67\n",
      "68\n",
      "69\n",
      "70\n",
      "71\n",
      "72\n",
      "73\n",
      "74\n",
      "75\n",
      "76\n",
      "77\n",
      "78\n",
      "79\n",
      "80\n",
      "81\n",
      "82\n",
      "83\n",
      "84\n",
      "85\n",
      "86\n",
      "87\n",
      "88\n",
      "89\n",
      "90\n",
      "91\n",
      "92\n",
      "93\n",
      "94\n",
      "95\n",
      "96\n",
      "97\n",
      "98\n",
      "99\n"
     ]
    },
    {
     "data": {
      "text/html": [
       "<div>\n",
       "<style scoped>\n",
       "    .dataframe tbody tr th:only-of-type {\n",
       "        vertical-align: middle;\n",
       "    }\n",
       "\n",
       "    .dataframe tbody tr th {\n",
       "        vertical-align: top;\n",
       "    }\n",
       "\n",
       "    .dataframe thead th {\n",
       "        text-align: right;\n",
       "    }\n",
       "</style>\n",
       "<table border=\"1\" class=\"dataframe\">\n",
       "  <thead>\n",
       "    <tr style=\"text-align: right;\">\n",
       "      <th></th>\n",
       "      <th>test_mae</th>\n",
       "      <th>train_mae</th>\n",
       "      <th>learning_rate</th>\n",
       "      <th>depth</th>\n",
       "      <th>regularization</th>\n",
       "    </tr>\n",
       "  </thead>\n",
       "  <tbody>\n",
       "    <tr>\n",
       "      <th>0</th>\n",
       "      <td>11.400278</td>\n",
       "      <td>12.227124</td>\n",
       "      <td>0.01</td>\n",
       "      <td>4.0</td>\n",
       "      <td>1.0</td>\n",
       "    </tr>\n",
       "    <tr>\n",
       "      <th>1</th>\n",
       "      <td>11.380327</td>\n",
       "      <td>12.223712</td>\n",
       "      <td>0.01</td>\n",
       "      <td>4.0</td>\n",
       "      <td>3.0</td>\n",
       "    </tr>\n",
       "    <tr>\n",
       "      <th>2</th>\n",
       "      <td>11.474107</td>\n",
       "      <td>12.306954</td>\n",
       "      <td>0.01</td>\n",
       "      <td>4.0</td>\n",
       "      <td>5.0</td>\n",
       "    </tr>\n",
       "    <tr>\n",
       "      <th>3</th>\n",
       "      <td>11.397169</td>\n",
       "      <td>12.248079</td>\n",
       "      <td>0.01</td>\n",
       "      <td>4.0</td>\n",
       "      <td>7.0</td>\n",
       "    </tr>\n",
       "    <tr>\n",
       "      <th>4</th>\n",
       "      <td>11.521692</td>\n",
       "      <td>12.358779</td>\n",
       "      <td>0.01</td>\n",
       "      <td>4.0</td>\n",
       "      <td>9.0</td>\n",
       "    </tr>\n",
       "  </tbody>\n",
       "</table>\n",
       "</div>"
      ],
      "text/plain": [
       "    test_mae  train_mae  learning_rate  depth  regularization\n",
       "0  11.400278  12.227124           0.01    4.0             1.0\n",
       "1  11.380327  12.223712           0.01    4.0             3.0\n",
       "2  11.474107  12.306954           0.01    4.0             5.0\n",
       "3  11.397169  12.248079           0.01    4.0             7.0\n",
       "4  11.521692  12.358779           0.01    4.0             9.0"
      ]
     },
     "execution_count": 36,
     "metadata": {
      "tags": []
     },
     "output_type": "execute_result"
    }
   ],
   "source": [
    "grid_search_cb = pd.DataFrame(columns=['test_mae', 'train_mae', 'learning_rate', 'depth', 'regularization'])\n",
    "learning_rate = [0.01, 0.03, 0.1, 0.3]\n",
    "depth = [4, 6, 8, 10, 12]\n",
    "l2_leaf_reg = [1, 3, 5, 7, 9]\n",
    "n = 0\n",
    "for lr in learning_rate:\n",
    "    for d in depth:\n",
    "        for l in l2_leaf_reg:\n",
    "            print(n)\n",
    "            m = CatBoostRegressor(iterations=1000, loss_function='MAE', depth=d, learning_rate=lr, l2_leaf_reg=l)\n",
    "            m = m.fit(train_data, train_y, verbose=False)\n",
    "            grid_search_cb.loc[n] = [sum(abs(m.predict(test_data) - test_y)) / test_y.size, sum(abs(m.predict(train_data) - train_y)) / train_y.size, lr, d, l]\n",
    "            n += 1\n",
    "grid_search_cb.head()"
   ]
  },
  {
   "cell_type": "code",
   "execution_count": 38,
   "metadata": {
    "colab": {
     "base_uri": "https://localhost:8080/",
     "height": 206
    },
    "colab_type": "code",
    "id": "esRZwAh80FMz",
    "outputId": "5f44c011-bf58-4833-9586-9f5fef0e898c",
    "slideshow": {
     "slide_type": "subslide"
    }
   },
   "outputs": [
    {
     "data": {
      "text/html": [
       "<div>\n",
       "<style scoped>\n",
       "    .dataframe tbody tr th:only-of-type {\n",
       "        vertical-align: middle;\n",
       "    }\n",
       "\n",
       "    .dataframe tbody tr th {\n",
       "        vertical-align: top;\n",
       "    }\n",
       "\n",
       "    .dataframe thead th {\n",
       "        text-align: right;\n",
       "    }\n",
       "</style>\n",
       "<table border=\"1\" class=\"dataframe\">\n",
       "  <thead>\n",
       "    <tr style=\"text-align: right;\">\n",
       "      <th></th>\n",
       "      <th>test_mae</th>\n",
       "      <th>train_mae</th>\n",
       "      <th>learning_rate</th>\n",
       "      <th>depth</th>\n",
       "      <th>regularization</th>\n",
       "    </tr>\n",
       "  </thead>\n",
       "  <tbody>\n",
       "    <tr>\n",
       "      <th>98</th>\n",
       "      <td>3.554734</td>\n",
       "      <td>2.648043</td>\n",
       "      <td>0.3</td>\n",
       "      <td>12.0</td>\n",
       "      <td>7.0</td>\n",
       "    </tr>\n",
       "    <tr>\n",
       "      <th>95</th>\n",
       "      <td>3.575702</td>\n",
       "      <td>2.555113</td>\n",
       "      <td>0.3</td>\n",
       "      <td>12.0</td>\n",
       "      <td>1.0</td>\n",
       "    </tr>\n",
       "    <tr>\n",
       "      <th>99</th>\n",
       "      <td>3.586188</td>\n",
       "      <td>2.547097</td>\n",
       "      <td>0.3</td>\n",
       "      <td>12.0</td>\n",
       "      <td>9.0</td>\n",
       "    </tr>\n",
       "    <tr>\n",
       "      <th>96</th>\n",
       "      <td>3.643039</td>\n",
       "      <td>2.541846</td>\n",
       "      <td>0.3</td>\n",
       "      <td>12.0</td>\n",
       "      <td>3.0</td>\n",
       "    </tr>\n",
       "    <tr>\n",
       "      <th>97</th>\n",
       "      <td>3.659743</td>\n",
       "      <td>2.528672</td>\n",
       "      <td>0.3</td>\n",
       "      <td>12.0</td>\n",
       "      <td>5.0</td>\n",
       "    </tr>\n",
       "  </tbody>\n",
       "</table>\n",
       "</div>"
      ],
      "text/plain": [
       "    test_mae  train_mae  learning_rate  depth  regularization\n",
       "98  3.554734   2.648043            0.3   12.0             7.0\n",
       "95  3.575702   2.555113            0.3   12.0             1.0\n",
       "99  3.586188   2.547097            0.3   12.0             9.0\n",
       "96  3.643039   2.541846            0.3   12.0             3.0\n",
       "97  3.659743   2.528672            0.3   12.0             5.0"
      ]
     },
     "execution_count": 38,
     "metadata": {
      "tags": []
     },
     "output_type": "execute_result"
    }
   ],
   "source": [
    "grid_search_cb.sort_values(by='test_mae').head()"
   ]
  },
  {
   "cell_type": "markdown",
   "metadata": {
    "slideshow": {
     "slide_type": "slide"
    }
   },
   "source": [
    "## Random Forest"
   ]
  },
  {
   "cell_type": "code",
   "execution_count": 42,
   "metadata": {
    "colab": {
     "base_uri": "https://localhost:8080/",
     "height": 415
    },
    "colab_type": "code",
    "id": "oGzYonqi5pNm",
    "outputId": "7e21843a-6ad8-4848-ee1a-91ce8c6bdc10",
    "slideshow": {
     "slide_type": "subslide"
    }
   },
   "outputs": [
    {
     "name": "stdout",
     "output_type": "stream",
     "text": [
      "0\n",
      "1\n",
      "2\n",
      "3\n",
      "4\n",
      "5\n",
      "6\n",
      "7\n",
      "8\n",
      "9\n",
      "10\n",
      "11\n"
     ]
    },
    {
     "data": {
      "text/html": [
       "<div>\n",
       "<style scoped>\n",
       "    .dataframe tbody tr th:only-of-type {\n",
       "        vertical-align: middle;\n",
       "    }\n",
       "\n",
       "    .dataframe tbody tr th {\n",
       "        vertical-align: top;\n",
       "    }\n",
       "\n",
       "    .dataframe thead th {\n",
       "        text-align: right;\n",
       "    }\n",
       "</style>\n",
       "<table border=\"1\" class=\"dataframe\">\n",
       "  <thead>\n",
       "    <tr style=\"text-align: right;\">\n",
       "      <th></th>\n",
       "      <th>test_mae</th>\n",
       "      <th>train_mae</th>\n",
       "      <th>estimators</th>\n",
       "      <th>depth</th>\n",
       "    </tr>\n",
       "  </thead>\n",
       "  <tbody>\n",
       "    <tr>\n",
       "      <th>0</th>\n",
       "      <td>18.340945</td>\n",
       "      <td>18.061864</td>\n",
       "      <td>100.0</td>\n",
       "      <td>5.0</td>\n",
       "    </tr>\n",
       "    <tr>\n",
       "      <th>1</th>\n",
       "      <td>9.059643</td>\n",
       "      <td>8.982477</td>\n",
       "      <td>100.0</td>\n",
       "      <td>8.0</td>\n",
       "    </tr>\n",
       "    <tr>\n",
       "      <th>2</th>\n",
       "      <td>6.400587</td>\n",
       "      <td>6.090204</td>\n",
       "      <td>100.0</td>\n",
       "      <td>10.0</td>\n",
       "    </tr>\n",
       "    <tr>\n",
       "      <th>3</th>\n",
       "      <td>4.052843</td>\n",
       "      <td>3.246620</td>\n",
       "      <td>100.0</td>\n",
       "      <td>NaN</td>\n",
       "    </tr>\n",
       "    <tr>\n",
       "      <th>4</th>\n",
       "      <td>18.139505</td>\n",
       "      <td>17.952257</td>\n",
       "      <td>200.0</td>\n",
       "      <td>5.0</td>\n",
       "    </tr>\n",
       "  </tbody>\n",
       "</table>\n",
       "</div>"
      ],
      "text/plain": [
       "    test_mae  train_mae  estimators  depth\n",
       "0  18.340945  18.061864       100.0    5.0\n",
       "1   9.059643   8.982477       100.0    8.0\n",
       "2   6.400587   6.090204       100.0   10.0\n",
       "3   4.052843   3.246620       100.0    NaN\n",
       "4  18.139505  17.952257       200.0    5.0"
      ]
     },
     "execution_count": 42,
     "metadata": {
      "tags": []
     },
     "output_type": "execute_result"
    }
   ],
   "source": [
    "grid_search_randfor = pd.DataFrame(columns=['test_mae', 'train_mae', 'estimators', 'depth'])\n",
    "estimators = [100, 200, 50]\n",
    "depth = [5, 8, 10, None]\n",
    "n = 0\n",
    "for est in estimators:\n",
    "    for d in depth:\n",
    "        print(n)\n",
    "        m = RandomForestRegressor(n_estimators=est, max_depth=d, criterion='mae').fit(train_data, train_y)\n",
    "        grid_search_randfor.loc[n] = [sum(abs(m.predict(test_data) - test_y)) / test_y.size, sum(abs(m.predict(train_data) - train_y)) / train_y.size, est, d]\n",
    "        n += 1\n",
    "grid_search_randfor.head()"
   ]
  },
  {
   "cell_type": "code",
   "execution_count": 43,
   "metadata": {
    "colab": {
     "base_uri": "https://localhost:8080/",
     "height": 426
    },
    "colab_type": "code",
    "id": "-0MPVlB45wxL",
    "outputId": "8e194e14-5822-457c-89cf-7faa2ac76caf",
    "slideshow": {
     "slide_type": "subslide"
    }
   },
   "outputs": [
    {
     "data": {
      "text/html": [
       "<div>\n",
       "<style scoped>\n",
       "    .dataframe tbody tr th:only-of-type {\n",
       "        vertical-align: middle;\n",
       "    }\n",
       "\n",
       "    .dataframe tbody tr th {\n",
       "        vertical-align: top;\n",
       "    }\n",
       "\n",
       "    .dataframe thead th {\n",
       "        text-align: right;\n",
       "    }\n",
       "</style>\n",
       "<table border=\"1\" class=\"dataframe\">\n",
       "  <thead>\n",
       "    <tr style=\"text-align: right;\">\n",
       "      <th></th>\n",
       "      <th>test_mae</th>\n",
       "      <th>train_mae</th>\n",
       "      <th>estimators</th>\n",
       "      <th>depth</th>\n",
       "    </tr>\n",
       "  </thead>\n",
       "  <tbody>\n",
       "    <tr>\n",
       "      <th>7</th>\n",
       "      <td>3.998745</td>\n",
       "      <td>3.208910</td>\n",
       "      <td>200.0</td>\n",
       "      <td>NaN</td>\n",
       "    </tr>\n",
       "    <tr>\n",
       "      <th>3</th>\n",
       "      <td>4.052843</td>\n",
       "      <td>3.246620</td>\n",
       "      <td>100.0</td>\n",
       "      <td>NaN</td>\n",
       "    </tr>\n",
       "    <tr>\n",
       "      <th>11</th>\n",
       "      <td>4.148578</td>\n",
       "      <td>3.286552</td>\n",
       "      <td>50.0</td>\n",
       "      <td>NaN</td>\n",
       "    </tr>\n",
       "    <tr>\n",
       "      <th>10</th>\n",
       "      <td>6.350232</td>\n",
       "      <td>6.061044</td>\n",
       "      <td>50.0</td>\n",
       "      <td>10.0</td>\n",
       "    </tr>\n",
       "    <tr>\n",
       "      <th>6</th>\n",
       "      <td>6.397892</td>\n",
       "      <td>6.033540</td>\n",
       "      <td>200.0</td>\n",
       "      <td>10.0</td>\n",
       "    </tr>\n",
       "    <tr>\n",
       "      <th>2</th>\n",
       "      <td>6.400587</td>\n",
       "      <td>6.090204</td>\n",
       "      <td>100.0</td>\n",
       "      <td>10.0</td>\n",
       "    </tr>\n",
       "    <tr>\n",
       "      <th>5</th>\n",
       "      <td>9.003915</td>\n",
       "      <td>8.893339</td>\n",
       "      <td>200.0</td>\n",
       "      <td>8.0</td>\n",
       "    </tr>\n",
       "    <tr>\n",
       "      <th>9</th>\n",
       "      <td>9.048668</td>\n",
       "      <td>8.892704</td>\n",
       "      <td>50.0</td>\n",
       "      <td>8.0</td>\n",
       "    </tr>\n",
       "    <tr>\n",
       "      <th>1</th>\n",
       "      <td>9.059643</td>\n",
       "      <td>8.982477</td>\n",
       "      <td>100.0</td>\n",
       "      <td>8.0</td>\n",
       "    </tr>\n",
       "    <tr>\n",
       "      <th>4</th>\n",
       "      <td>18.139505</td>\n",
       "      <td>17.952257</td>\n",
       "      <td>200.0</td>\n",
       "      <td>5.0</td>\n",
       "    </tr>\n",
       "    <tr>\n",
       "      <th>0</th>\n",
       "      <td>18.340945</td>\n",
       "      <td>18.061864</td>\n",
       "      <td>100.0</td>\n",
       "      <td>5.0</td>\n",
       "    </tr>\n",
       "    <tr>\n",
       "      <th>8</th>\n",
       "      <td>18.470297</td>\n",
       "      <td>18.182442</td>\n",
       "      <td>50.0</td>\n",
       "      <td>5.0</td>\n",
       "    </tr>\n",
       "  </tbody>\n",
       "</table>\n",
       "</div>"
      ],
      "text/plain": [
       "     test_mae  train_mae  estimators  depth\n",
       "7    3.998745   3.208910       200.0    NaN\n",
       "3    4.052843   3.246620       100.0    NaN\n",
       "11   4.148578   3.286552        50.0    NaN\n",
       "10   6.350232   6.061044        50.0   10.0\n",
       "6    6.397892   6.033540       200.0   10.0\n",
       "2    6.400587   6.090204       100.0   10.0\n",
       "5    9.003915   8.893339       200.0    8.0\n",
       "9    9.048668   8.892704        50.0    8.0\n",
       "1    9.059643   8.982477       100.0    8.0\n",
       "4   18.139505  17.952257       200.0    5.0\n",
       "0   18.340945  18.061864       100.0    5.0\n",
       "8   18.470297  18.182442        50.0    5.0"
      ]
     },
     "execution_count": 43,
     "metadata": {
      "tags": []
     },
     "output_type": "execute_result"
    }
   ],
   "source": [
    "grid_search_randfor.sort_values(by='test_mae')"
   ]
  },
  {
   "cell_type": "code",
   "execution_count": null,
   "metadata": {
    "slideshow": {
     "slide_type": "subslide"
    }
   },
   "outputs": [],
   "source": [
    "grid_search_randfor = pd.DataFrame(columns=['test_mae', 'train_mae', 'estimators', 'depth'])\n",
    "estimators = [100, 200, 50]\n",
    "depth = [5, 8, 10, None]\n",
    "n = 0\n",
    "for est in estimators:\n",
    "    for d in depth:\n",
    "        print(n)\n",
    "        m = RandomForestRegressor(n_estimators=est, max_depth=d, criterion='mae').fit(train_data_del, train_y)\n",
    "        grid_search_randfor.loc[n] = [sum(abs(m.predict(test_data_del) - test_y)) / test_y.size, sum(abs(m.predict(train_data_del) - train_y)) / train_y.size, est, d]\n",
    "        n += 1\n",
    "grid_search_randfor.head()"
   ]
  },
  {
   "cell_type": "markdown",
   "metadata": {
    "slideshow": {
     "slide_type": "slide"
    }
   },
   "source": [
    "# Предсказание"
   ]
  },
  {
   "cell_type": "code",
   "execution_count": 24,
   "metadata": {
    "slideshow": {
     "slide_type": "subslide"
    }
   },
   "outputs": [],
   "source": [
    "test = pd.read_csv('main_test.csv')\n",
    "test = test[['Protein_(g)', 'Lipid_Tot_(g)', 'Carbohydrt_(g)']]\n",
    "final_model = CatBoostRegressor(iterations=1000, loss_function='MAE', depth=12, learning_rate=0.3, l2_leaf_reg=7)\n",
    "final_model = final_model.fit(x, y, verbose=False)\n",
    "pkl_filename = './models/catboost.pkl'\n",
    "with open(pkl_filename, 'wb') as file:\n",
    "    pickle.dump(final_model, file)\n",
    "final_res = np.round(final_model.predict(test)).astype(np.int64)\n",
    "final_res = (final_res >= 0) * final_res\n",
    "pd.DataFrame(final_res, columns=['Pred_kcal']).to_csv('Pred_main.csv', index=False)"
   ]
  }
 ],
 "metadata": {
  "celltoolbar": "Slideshow",
  "kernelspec": {
   "display_name": "Python 3",
   "language": "python",
   "name": "python3"
  },
  "language_info": {
   "codemirror_mode": {
    "name": "ipython",
    "version": 3
   },
   "file_extension": ".py",
   "mimetype": "text/x-python",
   "name": "python",
   "nbconvert_exporter": "python",
   "pygments_lexer": "ipython3",
   "version": "3.7.3"
  }
 },
 "nbformat": 4,
 "nbformat_minor": 2
}
