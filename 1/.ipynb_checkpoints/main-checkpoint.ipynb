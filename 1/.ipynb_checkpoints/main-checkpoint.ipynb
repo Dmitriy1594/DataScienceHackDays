{
 "cells": [
  {
   "cell_type": "code",
   "execution_count": 1,
   "metadata": {
    "slideshow": {
     "slide_type": "slide"
    }
   },
   "outputs": [],
   "source": [
    "import pandas as pd\n",
    "import numpy as np\n",
    "%matplotlib inline\n",
    "import matplotlib.pyplot as plt\n",
    "import seaborn as sns\n",
    "from mpl_toolkits.mplot3d import Axes3D"
   ]
  },
  {
   "cell_type": "markdown",
   "metadata": {
    "slideshow": {
     "slide_type": "fragment"
    }
   },
   "source": [
    "# Загрузим данные и отделим столбец калорий"
   ]
  },
  {
   "cell_type": "code",
   "execution_count": 3,
   "metadata": {
    "slideshow": {
     "slide_type": "fragment"
    }
   },
   "outputs": [],
   "source": [
    "data_train = pd.read_excel('./../description/train.xlsx')\n",
    "data_test = pd.read_excel('./../description/test.xlsx')"
   ]
  },
  {
   "cell_type": "code",
   "execution_count": 4,
   "metadata": {
    "slideshow": {
     "slide_type": "fragment"
    }
   },
   "outputs": [
    {
     "data": {
      "text/html": [
       "<div>\n",
       "<style scoped>\n",
       "    .dataframe tbody tr th:only-of-type {\n",
       "        vertical-align: middle;\n",
       "    }\n",
       "\n",
       "    .dataframe tbody tr th {\n",
       "        vertical-align: top;\n",
       "    }\n",
       "\n",
       "    .dataframe thead th {\n",
       "        text-align: right;\n",
       "    }\n",
       "</style>\n",
       "<table border=\"1\" class=\"dataframe\">\n",
       "  <thead>\n",
       "    <tr style=\"text-align: right;\">\n",
       "      <th></th>\n",
       "      <th>Shrt_Desc</th>\n",
       "      <th>Water_(g)</th>\n",
       "      <th>Protein_(g)</th>\n",
       "      <th>Lipid_Tot_(g)</th>\n",
       "      <th>Ash_(g)</th>\n",
       "      <th>Carbohydrt_(g)</th>\n",
       "      <th>Fiber_TD_(g)</th>\n",
       "      <th>Sugar_Tot_(g)</th>\n",
       "      <th>Calcium_(mg)</th>\n",
       "      <th>Iron_(mg)</th>\n",
       "      <th>...</th>\n",
       "      <th>Vit_K_(µg)</th>\n",
       "      <th>FA_Sat_(g)</th>\n",
       "      <th>FA_Mono_(g)</th>\n",
       "      <th>FA_Poly_(g)</th>\n",
       "      <th>Cholestrl_(mg)</th>\n",
       "      <th>GmWt_1</th>\n",
       "      <th>GmWt_Desc1</th>\n",
       "      <th>GmWt_2</th>\n",
       "      <th>GmWt_Desc2</th>\n",
       "      <th>Refuse_Pct</th>\n",
       "    </tr>\n",
       "  </thead>\n",
       "  <tbody>\n",
       "    <tr>\n",
       "      <th>0</th>\n",
       "      <td>BABYFOOD,CRL,OATMEAL,W/BANANAS,DRY</td>\n",
       "      <td>4.70</td>\n",
       "      <td>12.00</td>\n",
       "      <td>6.00</td>\n",
       "      <td>3.90</td>\n",
       "      <td>73.40</td>\n",
       "      <td>5.2</td>\n",
       "      <td>13.75</td>\n",
       "      <td>651.0</td>\n",
       "      <td>47.50</td>\n",
       "      <td>...</td>\n",
       "      <td>3.0</td>\n",
       "      <td>1.267</td>\n",
       "      <td>1.429</td>\n",
       "      <td>2.186</td>\n",
       "      <td>0.0</td>\n",
       "      <td>2.0</td>\n",
       "      <td>1 tbsp</td>\n",
       "      <td>15.0</td>\n",
       "      <td>.5 oz</td>\n",
       "      <td>0.0</td>\n",
       "    </tr>\n",
       "    <tr>\n",
       "      <th>1</th>\n",
       "      <td>HEARTS OF PALM,CANNED</td>\n",
       "      <td>90.20</td>\n",
       "      <td>2.52</td>\n",
       "      <td>0.62</td>\n",
       "      <td>2.04</td>\n",
       "      <td>4.62</td>\n",
       "      <td>2.4</td>\n",
       "      <td>NaN</td>\n",
       "      <td>58.0</td>\n",
       "      <td>3.13</td>\n",
       "      <td>...</td>\n",
       "      <td>NaN</td>\n",
       "      <td>0.130</td>\n",
       "      <td>0.103</td>\n",
       "      <td>0.202</td>\n",
       "      <td>0.0</td>\n",
       "      <td>146.0</td>\n",
       "      <td>1 cup</td>\n",
       "      <td>33.0</td>\n",
       "      <td>1 piece</td>\n",
       "      <td>0.0</td>\n",
       "    </tr>\n",
       "    <tr>\n",
       "      <th>2</th>\n",
       "      <td>CHICKEN,BROILERS OR FRYERS,THIGH,MEAT ONLY,CKD...</td>\n",
       "      <td>63.89</td>\n",
       "      <td>24.06</td>\n",
       "      <td>11.09</td>\n",
       "      <td>1.56</td>\n",
       "      <td>0.00</td>\n",
       "      <td>0.0</td>\n",
       "      <td>0.00</td>\n",
       "      <td>13.0</td>\n",
       "      <td>0.97</td>\n",
       "      <td>...</td>\n",
       "      <td>0.0</td>\n",
       "      <td>2.866</td>\n",
       "      <td>4.878</td>\n",
       "      <td>1.673</td>\n",
       "      <td>130.0</td>\n",
       "      <td>89.0</td>\n",
       "      <td>1 thigh</td>\n",
       "      <td>85.0</td>\n",
       "      <td>1 serving,  (3 oz)</td>\n",
       "      <td>29.0</td>\n",
       "    </tr>\n",
       "    <tr>\n",
       "      <th>3</th>\n",
       "      <td>PORK,CURED,SHLDR,ARM PICNIC,LN&amp;FAT,RSTD</td>\n",
       "      <td>54.73</td>\n",
       "      <td>20.43</td>\n",
       "      <td>21.35</td>\n",
       "      <td>3.51</td>\n",
       "      <td>0.00</td>\n",
       "      <td>0.0</td>\n",
       "      <td>0.00</td>\n",
       "      <td>10.0</td>\n",
       "      <td>0.95</td>\n",
       "      <td>...</td>\n",
       "      <td>0.0</td>\n",
       "      <td>7.670</td>\n",
       "      <td>10.140</td>\n",
       "      <td>2.320</td>\n",
       "      <td>58.0</td>\n",
       "      <td>140.0</td>\n",
       "      <td>1 cup</td>\n",
       "      <td>85.0</td>\n",
       "      <td>3 oz</td>\n",
       "      <td>27.0</td>\n",
       "    </tr>\n",
       "    <tr>\n",
       "      <th>4</th>\n",
       "      <td>VINEGAR,DISTILLED</td>\n",
       "      <td>94.78</td>\n",
       "      <td>0.00</td>\n",
       "      <td>0.00</td>\n",
       "      <td>0.02</td>\n",
       "      <td>0.04</td>\n",
       "      <td>0.0</td>\n",
       "      <td>0.04</td>\n",
       "      <td>6.0</td>\n",
       "      <td>0.03</td>\n",
       "      <td>...</td>\n",
       "      <td>0.0</td>\n",
       "      <td>0.000</td>\n",
       "      <td>0.000</td>\n",
       "      <td>0.000</td>\n",
       "      <td>0.0</td>\n",
       "      <td>14.0</td>\n",
       "      <td>1 tbsp</td>\n",
       "      <td>238.0</td>\n",
       "      <td>1 cup</td>\n",
       "      <td>0.0</td>\n",
       "    </tr>\n",
       "  </tbody>\n",
       "</table>\n",
       "<p>5 rows × 51 columns</p>\n",
       "</div>"
      ],
      "text/plain": [
       "                                           Shrt_Desc  Water_(g)  Protein_(g)  \\\n",
       "0                 BABYFOOD,CRL,OATMEAL,W/BANANAS,DRY       4.70        12.00   \n",
       "1                              HEARTS OF PALM,CANNED      90.20         2.52   \n",
       "2  CHICKEN,BROILERS OR FRYERS,THIGH,MEAT ONLY,CKD...      63.89        24.06   \n",
       "3            PORK,CURED,SHLDR,ARM PICNIC,LN&FAT,RSTD      54.73        20.43   \n",
       "4                                  VINEGAR,DISTILLED      94.78         0.00   \n",
       "\n",
       "   Lipid_Tot_(g)  Ash_(g)  Carbohydrt_(g)  Fiber_TD_(g)  Sugar_Tot_(g)  \\\n",
       "0           6.00     3.90           73.40           5.2          13.75   \n",
       "1           0.62     2.04            4.62           2.4            NaN   \n",
       "2          11.09     1.56            0.00           0.0           0.00   \n",
       "3          21.35     3.51            0.00           0.0           0.00   \n",
       "4           0.00     0.02            0.04           0.0           0.04   \n",
       "\n",
       "   Calcium_(mg)  Iron_(mg)  ...  Vit_K_(µg)  FA_Sat_(g)  FA_Mono_(g)  \\\n",
       "0         651.0      47.50  ...         3.0       1.267        1.429   \n",
       "1          58.0       3.13  ...         NaN       0.130        0.103   \n",
       "2          13.0       0.97  ...         0.0       2.866        4.878   \n",
       "3          10.0       0.95  ...         0.0       7.670       10.140   \n",
       "4           6.0       0.03  ...         0.0       0.000        0.000   \n",
       "\n",
       "   FA_Poly_(g)  Cholestrl_(mg)  GmWt_1  GmWt_Desc1  GmWt_2  \\\n",
       "0        2.186             0.0     2.0      1 tbsp    15.0   \n",
       "1        0.202             0.0   146.0       1 cup    33.0   \n",
       "2        1.673           130.0    89.0     1 thigh    85.0   \n",
       "3        2.320            58.0   140.0       1 cup    85.0   \n",
       "4        0.000             0.0    14.0      1 tbsp   238.0   \n",
       "\n",
       "           GmWt_Desc2  Refuse_Pct  \n",
       "0               .5 oz         0.0  \n",
       "1             1 piece         0.0  \n",
       "2  1 serving,  (3 oz)        29.0  \n",
       "3                3 oz        27.0  \n",
       "4               1 cup         0.0  \n",
       "\n",
       "[5 rows x 51 columns]"
      ]
     },
     "execution_count": 4,
     "metadata": {},
     "output_type": "execute_result"
    }
   ],
   "source": [
    "Y = data_train['Energ_Kcal']\n",
    "X = data_train.drop(['Energ_Kcal'], axis=1)\n",
    "X.head()"
   ]
  },
  {
   "cell_type": "markdown",
   "metadata": {
    "slideshow": {
     "slide_type": "slide"
    }
   },
   "source": [
    "# Создадим общую таблицу для анализа данных"
   ]
  },
  {
   "cell_type": "code",
   "execution_count": 5,
   "metadata": {
    "slideshow": {
     "slide_type": "fragment"
    }
   },
   "outputs": [
    {
     "data": {
      "text/html": [
       "<div>\n",
       "<style scoped>\n",
       "    .dataframe tbody tr th:only-of-type {\n",
       "        vertical-align: middle;\n",
       "    }\n",
       "\n",
       "    .dataframe tbody tr th {\n",
       "        vertical-align: top;\n",
       "    }\n",
       "\n",
       "    .dataframe thead th {\n",
       "        text-align: right;\n",
       "    }\n",
       "</style>\n",
       "<table border=\"1\" class=\"dataframe\">\n",
       "  <thead>\n",
       "    <tr style=\"text-align: right;\">\n",
       "      <th></th>\n",
       "      <th>Shrt_Desc</th>\n",
       "      <th>Water_(g)</th>\n",
       "      <th>Protein_(g)</th>\n",
       "      <th>Lipid_Tot_(g)</th>\n",
       "      <th>Ash_(g)</th>\n",
       "      <th>Carbohydrt_(g)</th>\n",
       "      <th>Fiber_TD_(g)</th>\n",
       "      <th>Sugar_Tot_(g)</th>\n",
       "      <th>Calcium_(mg)</th>\n",
       "      <th>Iron_(mg)</th>\n",
       "      <th>...</th>\n",
       "      <th>Vit_K_(µg)</th>\n",
       "      <th>FA_Sat_(g)</th>\n",
       "      <th>FA_Mono_(g)</th>\n",
       "      <th>FA_Poly_(g)</th>\n",
       "      <th>Cholestrl_(mg)</th>\n",
       "      <th>GmWt_1</th>\n",
       "      <th>GmWt_Desc1</th>\n",
       "      <th>GmWt_2</th>\n",
       "      <th>GmWt_Desc2</th>\n",
       "      <th>Refuse_Pct</th>\n",
       "    </tr>\n",
       "  </thead>\n",
       "  <tbody>\n",
       "    <tr>\n",
       "      <th>0</th>\n",
       "      <td>BABYFOOD,CRL,OATMEAL,W/BANANAS,DRY</td>\n",
       "      <td>4.70</td>\n",
       "      <td>12.00</td>\n",
       "      <td>6.00</td>\n",
       "      <td>3.90</td>\n",
       "      <td>73.40</td>\n",
       "      <td>5.2</td>\n",
       "      <td>13.75</td>\n",
       "      <td>651.0</td>\n",
       "      <td>47.50</td>\n",
       "      <td>...</td>\n",
       "      <td>3.0</td>\n",
       "      <td>1.267</td>\n",
       "      <td>1.429</td>\n",
       "      <td>2.186</td>\n",
       "      <td>0.0</td>\n",
       "      <td>2.0</td>\n",
       "      <td>1 tbsp</td>\n",
       "      <td>15.0</td>\n",
       "      <td>.5 oz</td>\n",
       "      <td>0.0</td>\n",
       "    </tr>\n",
       "    <tr>\n",
       "      <th>1</th>\n",
       "      <td>HEARTS OF PALM,CANNED</td>\n",
       "      <td>90.20</td>\n",
       "      <td>2.52</td>\n",
       "      <td>0.62</td>\n",
       "      <td>2.04</td>\n",
       "      <td>4.62</td>\n",
       "      <td>2.4</td>\n",
       "      <td>NaN</td>\n",
       "      <td>58.0</td>\n",
       "      <td>3.13</td>\n",
       "      <td>...</td>\n",
       "      <td>NaN</td>\n",
       "      <td>0.130</td>\n",
       "      <td>0.103</td>\n",
       "      <td>0.202</td>\n",
       "      <td>0.0</td>\n",
       "      <td>146.0</td>\n",
       "      <td>1 cup</td>\n",
       "      <td>33.0</td>\n",
       "      <td>1 piece</td>\n",
       "      <td>0.0</td>\n",
       "    </tr>\n",
       "    <tr>\n",
       "      <th>2</th>\n",
       "      <td>CHICKEN,BROILERS OR FRYERS,THIGH,MEAT ONLY,CKD...</td>\n",
       "      <td>63.89</td>\n",
       "      <td>24.06</td>\n",
       "      <td>11.09</td>\n",
       "      <td>1.56</td>\n",
       "      <td>0.00</td>\n",
       "      <td>0.0</td>\n",
       "      <td>0.00</td>\n",
       "      <td>13.0</td>\n",
       "      <td>0.97</td>\n",
       "      <td>...</td>\n",
       "      <td>0.0</td>\n",
       "      <td>2.866</td>\n",
       "      <td>4.878</td>\n",
       "      <td>1.673</td>\n",
       "      <td>130.0</td>\n",
       "      <td>89.0</td>\n",
       "      <td>1 thigh</td>\n",
       "      <td>85.0</td>\n",
       "      <td>1 serving,  (3 oz)</td>\n",
       "      <td>29.0</td>\n",
       "    </tr>\n",
       "    <tr>\n",
       "      <th>3</th>\n",
       "      <td>PORK,CURED,SHLDR,ARM PICNIC,LN&amp;FAT,RSTD</td>\n",
       "      <td>54.73</td>\n",
       "      <td>20.43</td>\n",
       "      <td>21.35</td>\n",
       "      <td>3.51</td>\n",
       "      <td>0.00</td>\n",
       "      <td>0.0</td>\n",
       "      <td>0.00</td>\n",
       "      <td>10.0</td>\n",
       "      <td>0.95</td>\n",
       "      <td>...</td>\n",
       "      <td>0.0</td>\n",
       "      <td>7.670</td>\n",
       "      <td>10.140</td>\n",
       "      <td>2.320</td>\n",
       "      <td>58.0</td>\n",
       "      <td>140.0</td>\n",
       "      <td>1 cup</td>\n",
       "      <td>85.0</td>\n",
       "      <td>3 oz</td>\n",
       "      <td>27.0</td>\n",
       "    </tr>\n",
       "    <tr>\n",
       "      <th>4</th>\n",
       "      <td>VINEGAR,DISTILLED</td>\n",
       "      <td>94.78</td>\n",
       "      <td>0.00</td>\n",
       "      <td>0.00</td>\n",
       "      <td>0.02</td>\n",
       "      <td>0.04</td>\n",
       "      <td>0.0</td>\n",
       "      <td>0.04</td>\n",
       "      <td>6.0</td>\n",
       "      <td>0.03</td>\n",
       "      <td>...</td>\n",
       "      <td>0.0</td>\n",
       "      <td>0.000</td>\n",
       "      <td>0.000</td>\n",
       "      <td>0.000</td>\n",
       "      <td>0.0</td>\n",
       "      <td>14.0</td>\n",
       "      <td>1 tbsp</td>\n",
       "      <td>238.0</td>\n",
       "      <td>1 cup</td>\n",
       "      <td>0.0</td>\n",
       "    </tr>\n",
       "  </tbody>\n",
       "</table>\n",
       "<p>5 rows × 51 columns</p>\n",
       "</div>"
      ],
      "text/plain": [
       "                                           Shrt_Desc  Water_(g)  Protein_(g)  \\\n",
       "0                 BABYFOOD,CRL,OATMEAL,W/BANANAS,DRY       4.70        12.00   \n",
       "1                              HEARTS OF PALM,CANNED      90.20         2.52   \n",
       "2  CHICKEN,BROILERS OR FRYERS,THIGH,MEAT ONLY,CKD...      63.89        24.06   \n",
       "3            PORK,CURED,SHLDR,ARM PICNIC,LN&FAT,RSTD      54.73        20.43   \n",
       "4                                  VINEGAR,DISTILLED      94.78         0.00   \n",
       "\n",
       "   Lipid_Tot_(g)  Ash_(g)  Carbohydrt_(g)  Fiber_TD_(g)  Sugar_Tot_(g)  \\\n",
       "0           6.00     3.90           73.40           5.2          13.75   \n",
       "1           0.62     2.04            4.62           2.4            NaN   \n",
       "2          11.09     1.56            0.00           0.0           0.00   \n",
       "3          21.35     3.51            0.00           0.0           0.00   \n",
       "4           0.00     0.02            0.04           0.0           0.04   \n",
       "\n",
       "   Calcium_(mg)  Iron_(mg)  ...  Vit_K_(µg)  FA_Sat_(g)  FA_Mono_(g)  \\\n",
       "0         651.0      47.50  ...         3.0       1.267        1.429   \n",
       "1          58.0       3.13  ...         NaN       0.130        0.103   \n",
       "2          13.0       0.97  ...         0.0       2.866        4.878   \n",
       "3          10.0       0.95  ...         0.0       7.670       10.140   \n",
       "4           6.0       0.03  ...         0.0       0.000        0.000   \n",
       "\n",
       "   FA_Poly_(g)  Cholestrl_(mg)  GmWt_1  GmWt_Desc1  GmWt_2  \\\n",
       "0        2.186             0.0     2.0      1 tbsp    15.0   \n",
       "1        0.202             0.0   146.0       1 cup    33.0   \n",
       "2        1.673           130.0    89.0     1 thigh    85.0   \n",
       "3        2.320            58.0   140.0       1 cup    85.0   \n",
       "4        0.000             0.0    14.0      1 tbsp   238.0   \n",
       "\n",
       "           GmWt_Desc2  Refuse_Pct  \n",
       "0               .5 oz         0.0  \n",
       "1             1 piece         0.0  \n",
       "2  1 serving,  (3 oz)        29.0  \n",
       "3                3 oz        27.0  \n",
       "4               1 cup         0.0  \n",
       "\n",
       "[5 rows x 51 columns]"
      ]
     },
     "execution_count": 5,
     "metadata": {},
     "output_type": "execute_result"
    }
   ],
   "source": [
    "data = X.append(data_test, ignore_index=True)\n",
    "data.head()"
   ]
  },
  {
   "cell_type": "code",
   "execution_count": 6,
   "metadata": {
    "scrolled": true,
    "slideshow": {
     "slide_type": "subslide"
    }
   },
   "outputs": [
    {
     "name": "stdout",
     "output_type": "stream",
     "text": [
      "<class 'pandas.core.frame.DataFrame'>\n",
      "RangeIndex: 8618 entries, 0 to 8617\n",
      "Data columns (total 51 columns):\n",
      "Shrt_Desc            8618 non-null object\n",
      "Water_(g)            8612 non-null float64\n",
      "Protein_(g)          8618 non-null float64\n",
      "Lipid_Tot_(g)        8618 non-null float64\n",
      "Ash_(g)              8286 non-null float64\n",
      "Carbohydrt_(g)       8618 non-null float64\n",
      "Fiber_TD_(g)         7962 non-null float64\n",
      "Sugar_Tot_(g)        6679 non-null float64\n",
      "Calcium_(mg)         8264 non-null float64\n",
      "Iron_(mg)            8471 non-null float64\n",
      "Magnesium_(mg)       7936 non-null float64\n",
      "Phosphorus_(mg)      8046 non-null float64\n",
      "Potassium_(mg)       8208 non-null float64\n",
      "Sodium_(mg)          8535 non-null float64\n",
      "Zinc_(mg)            7917 non-null float64\n",
      "Copper_mg)           7363 non-null float64\n",
      "Manganese_(mg)       6478 non-null float64\n",
      "Selenium_(µg)        6868 non-null float64\n",
      "Vit_C_(mg)           7826 non-null float64\n",
      "Thiamin_(mg)         7939 non-null float64\n",
      "Riboflavin_(mg)      7961 non-null float64\n",
      "Niacin_(mg)          7937 non-null float64\n",
      "Panto_Acid_mg)       6460 non-null float64\n",
      "Vit_B6_(mg)          7677 non-null float64\n",
      "Folate_Tot_(µg)      7373 non-null float64\n",
      "Folic_Acid_(µg)      6631 non-null float64\n",
      "Food_Folate_(µg)     6863 non-null float64\n",
      "Folate_DFE_(µg)      6612 non-null float64\n",
      "Choline_Tot_ (mg)    4534 non-null float64\n",
      "Vit_B12_(µg)         7427 non-null float64\n",
      "Vit_A_IU             7932 non-null float64\n",
      "Vit_A_RAE            7089 non-null float64\n",
      "Retinol_(µg)         6806 non-null float64\n",
      "Alpha_Carot_(µg)     5263 non-null float64\n",
      "Beta_Carot_(µg)      5356 non-null float64\n",
      "Beta_Crypt_(µg)      5252 non-null float64\n",
      "Lycopene_(µg)        5228 non-null float64\n",
      "Lut+Zea_ (µg)        5206 non-null float64\n",
      "Vit_E_(mg)           5613 non-null float64\n",
      "Vit_D_µg             5319 non-null float64\n",
      "Vit_D_IU             5320 non-null float64\n",
      "Vit_K_(µg)           4969 non-null float64\n",
      "FA_Sat_(g)           8274 non-null float64\n",
      "FA_Mono_(g)          7947 non-null float64\n",
      "FA_Poly_(g)          7954 non-null float64\n",
      "Cholestrl_(mg)       8250 non-null float64\n",
      "GmWt_1               8373 non-null float64\n",
      "GmWt_Desc1           8374 non-null object\n",
      "GmWt_2               4802 non-null float64\n",
      "GmWt_Desc2           4802 non-null object\n",
      "Refuse_Pct           8580 non-null float64\n",
      "dtypes: float64(48), object(3)\n",
      "memory usage: 3.4+ MB\n"
     ]
    }
   ],
   "source": [
    "data.info()"
   ]
  },
  {
   "cell_type": "markdown",
   "metadata": {
    "slideshow": {
     "slide_type": "slide"
    }
   },
   "source": [
    "# Удалим последние 5 столбцов, они на калорийность не влияют"
   ]
  },
  {
   "cell_type": "code",
   "execution_count": 7,
   "metadata": {
    "slideshow": {
     "slide_type": "fragment"
    }
   },
   "outputs": [],
   "source": [
    "data = data.iloc[:, :-5]"
   ]
  },
  {
   "cell_type": "code",
   "execution_count": 8,
   "metadata": {
    "slideshow": {
     "slide_type": "subslide"
    }
   },
   "outputs": [
    {
     "data": {
      "text/html": [
       "<div>\n",
       "<style scoped>\n",
       "    .dataframe tbody tr th:only-of-type {\n",
       "        vertical-align: middle;\n",
       "    }\n",
       "\n",
       "    .dataframe tbody tr th {\n",
       "        vertical-align: top;\n",
       "    }\n",
       "\n",
       "    .dataframe thead th {\n",
       "        text-align: right;\n",
       "    }\n",
       "</style>\n",
       "<table border=\"1\" class=\"dataframe\">\n",
       "  <thead>\n",
       "    <tr style=\"text-align: right;\">\n",
       "      <th></th>\n",
       "      <th>count</th>\n",
       "      <th>mean</th>\n",
       "      <th>std</th>\n",
       "      <th>min</th>\n",
       "      <th>25%</th>\n",
       "      <th>50%</th>\n",
       "      <th>75%</th>\n",
       "      <th>max</th>\n",
       "    </tr>\n",
       "  </thead>\n",
       "  <tbody>\n",
       "    <tr>\n",
       "      <th>Water_(g)</th>\n",
       "      <td>8612.0</td>\n",
       "      <td>54.163710</td>\n",
       "      <td>30.648283</td>\n",
       "      <td>0.0</td>\n",
       "      <td>30.0875</td>\n",
       "      <td>63.2650</td>\n",
       "      <td>77.6100</td>\n",
       "      <td>100.000</td>\n",
       "    </tr>\n",
       "    <tr>\n",
       "      <th>Protein_(g)</th>\n",
       "      <td>8618.0</td>\n",
       "      <td>11.523910</td>\n",
       "      <td>10.550590</td>\n",
       "      <td>0.0</td>\n",
       "      <td>2.4700</td>\n",
       "      <td>8.2850</td>\n",
       "      <td>19.9775</td>\n",
       "      <td>88.320</td>\n",
       "    </tr>\n",
       "    <tr>\n",
       "      <th>Lipid_Tot_(g)</th>\n",
       "      <td>8618.0</td>\n",
       "      <td>10.647024</td>\n",
       "      <td>15.866353</td>\n",
       "      <td>0.0</td>\n",
       "      <td>0.9925</td>\n",
       "      <td>5.2350</td>\n",
       "      <td>13.9000</td>\n",
       "      <td>100.000</td>\n",
       "    </tr>\n",
       "    <tr>\n",
       "      <th>Ash_(g)</th>\n",
       "      <td>8286.0</td>\n",
       "      <td>1.816169</td>\n",
       "      <td>3.035264</td>\n",
       "      <td>0.0</td>\n",
       "      <td>0.8600</td>\n",
       "      <td>1.2000</td>\n",
       "      <td>2.1400</td>\n",
       "      <td>99.800</td>\n",
       "    </tr>\n",
       "    <tr>\n",
       "      <th>Carbohydrt_(g)</th>\n",
       "      <td>8618.0</td>\n",
       "      <td>21.819062</td>\n",
       "      <td>27.239000</td>\n",
       "      <td>0.0</td>\n",
       "      <td>0.0400</td>\n",
       "      <td>8.9450</td>\n",
       "      <td>32.9000</td>\n",
       "      <td>100.000</td>\n",
       "    </tr>\n",
       "    <tr>\n",
       "      <th>Fiber_TD_(g)</th>\n",
       "      <td>7962.0</td>\n",
       "      <td>2.189940</td>\n",
       "      <td>4.447017</td>\n",
       "      <td>0.0</td>\n",
       "      <td>0.0000</td>\n",
       "      <td>0.7000</td>\n",
       "      <td>2.5000</td>\n",
       "      <td>79.000</td>\n",
       "    </tr>\n",
       "    <tr>\n",
       "      <th>Sugar_Tot_(g)</th>\n",
       "      <td>6679.0</td>\n",
       "      <td>8.464779</td>\n",
       "      <td>14.920260</td>\n",
       "      <td>0.0</td>\n",
       "      <td>0.0000</td>\n",
       "      <td>1.6900</td>\n",
       "      <td>9.0000</td>\n",
       "      <td>99.800</td>\n",
       "    </tr>\n",
       "    <tr>\n",
       "      <th>Calcium_(mg)</th>\n",
       "      <td>8264.0</td>\n",
       "      <td>76.556026</td>\n",
       "      <td>205.045513</td>\n",
       "      <td>0.0</td>\n",
       "      <td>10.0000</td>\n",
       "      <td>21.0000</td>\n",
       "      <td>67.0000</td>\n",
       "      <td>7364.000</td>\n",
       "    </tr>\n",
       "    <tr>\n",
       "      <th>Iron_(mg)</th>\n",
       "      <td>8471.0</td>\n",
       "      <td>2.743569</td>\n",
       "      <td>5.765324</td>\n",
       "      <td>0.0</td>\n",
       "      <td>0.5600</td>\n",
       "      <td>1.3800</td>\n",
       "      <td>2.6000</td>\n",
       "      <td>123.600</td>\n",
       "    </tr>\n",
       "    <tr>\n",
       "      <th>Magnesium_(mg)</th>\n",
       "      <td>7936.0</td>\n",
       "      <td>35.559350</td>\n",
       "      <td>57.565498</td>\n",
       "      <td>0.0</td>\n",
       "      <td>13.0000</td>\n",
       "      <td>21.0000</td>\n",
       "      <td>31.0000</td>\n",
       "      <td>781.000</td>\n",
       "    </tr>\n",
       "    <tr>\n",
       "      <th>Phosphorus_(mg)</th>\n",
       "      <td>8046.0</td>\n",
       "      <td>167.075565</td>\n",
       "      <td>205.734153</td>\n",
       "      <td>0.0</td>\n",
       "      <td>53.0000</td>\n",
       "      <td>149.0000</td>\n",
       "      <td>221.0000</td>\n",
       "      <td>9918.000</td>\n",
       "    </tr>\n",
       "    <tr>\n",
       "      <th>Potassium_(mg)</th>\n",
       "      <td>8208.0</td>\n",
       "      <td>283.527778</td>\n",
       "      <td>381.524684</td>\n",
       "      <td>0.0</td>\n",
       "      <td>130.0000</td>\n",
       "      <td>232.0000</td>\n",
       "      <td>337.0000</td>\n",
       "      <td>16500.000</td>\n",
       "    </tr>\n",
       "    <tr>\n",
       "      <th>Sodium_(mg)</th>\n",
       "      <td>8535.0</td>\n",
       "      <td>320.914118</td>\n",
       "      <td>953.575838</td>\n",
       "      <td>0.0</td>\n",
       "      <td>42.0000</td>\n",
       "      <td>90.0000</td>\n",
       "      <td>416.0000</td>\n",
       "      <td>38758.000</td>\n",
       "    </tr>\n",
       "    <tr>\n",
       "      <th>Zinc_(mg)</th>\n",
       "      <td>7917.0</td>\n",
       "      <td>2.144666</td>\n",
       "      <td>3.449941</td>\n",
       "      <td>0.0</td>\n",
       "      <td>0.3600</td>\n",
       "      <td>1.0200</td>\n",
       "      <td>2.9600</td>\n",
       "      <td>90.950</td>\n",
       "    </tr>\n",
       "    <tr>\n",
       "      <th>Copper_mg)</th>\n",
       "      <td>7363.0</td>\n",
       "      <td>0.201529</td>\n",
       "      <td>0.593374</td>\n",
       "      <td>0.0</td>\n",
       "      <td>0.0540</td>\n",
       "      <td>0.0920</td>\n",
       "      <td>0.1650</td>\n",
       "      <td>15.050</td>\n",
       "    </tr>\n",
       "    <tr>\n",
       "      <th>Manganese_(mg)</th>\n",
       "      <td>6478.0</td>\n",
       "      <td>0.671080</td>\n",
       "      <td>7.355247</td>\n",
       "      <td>0.0</td>\n",
       "      <td>0.0150</td>\n",
       "      <td>0.0830</td>\n",
       "      <td>0.3260</td>\n",
       "      <td>328.000</td>\n",
       "    </tr>\n",
       "    <tr>\n",
       "      <th>Selenium_(µg)</th>\n",
       "      <td>6868.0</td>\n",
       "      <td>15.829295</td>\n",
       "      <td>30.879745</td>\n",
       "      <td>0.0</td>\n",
       "      <td>1.4000</td>\n",
       "      <td>10.5000</td>\n",
       "      <td>24.5000</td>\n",
       "      <td>1917.000</td>\n",
       "    </tr>\n",
       "    <tr>\n",
       "      <th>Vit_C_(mg)</th>\n",
       "      <td>7826.0</td>\n",
       "      <td>8.727434</td>\n",
       "      <td>60.368668</td>\n",
       "      <td>0.0</td>\n",
       "      <td>0.0000</td>\n",
       "      <td>0.0000</td>\n",
       "      <td>3.5000</td>\n",
       "      <td>2400.000</td>\n",
       "    </tr>\n",
       "    <tr>\n",
       "      <th>Thiamin_(mg)</th>\n",
       "      <td>7939.0</td>\n",
       "      <td>0.227805</td>\n",
       "      <td>0.536285</td>\n",
       "      <td>0.0</td>\n",
       "      <td>0.0400</td>\n",
       "      <td>0.0850</td>\n",
       "      <td>0.2500</td>\n",
       "      <td>23.375</td>\n",
       "    </tr>\n",
       "    <tr>\n",
       "      <th>Riboflavin_(mg)</th>\n",
       "      <td>7961.0</td>\n",
       "      <td>0.256828</td>\n",
       "      <td>0.462675</td>\n",
       "      <td>0.0</td>\n",
       "      <td>0.0640</td>\n",
       "      <td>0.1700</td>\n",
       "      <td>0.2700</td>\n",
       "      <td>17.500</td>\n",
       "    </tr>\n",
       "    <tr>\n",
       "      <th>Niacin_(mg)</th>\n",
       "      <td>7937.0</td>\n",
       "      <td>3.704274</td>\n",
       "      <td>4.928928</td>\n",
       "      <td>0.0</td>\n",
       "      <td>0.5850</td>\n",
       "      <td>2.6000</td>\n",
       "      <td>5.2700</td>\n",
       "      <td>127.500</td>\n",
       "    </tr>\n",
       "    <tr>\n",
       "      <th>Panto_Acid_mg)</th>\n",
       "      <td>6460.0</td>\n",
       "      <td>0.654519</td>\n",
       "      <td>1.421510</td>\n",
       "      <td>0.0</td>\n",
       "      <td>0.1970</td>\n",
       "      <td>0.4330</td>\n",
       "      <td>0.7400</td>\n",
       "      <td>34.500</td>\n",
       "    </tr>\n",
       "    <tr>\n",
       "      <th>Vit_B6_(mg)</th>\n",
       "      <td>7677.0</td>\n",
       "      <td>0.296774</td>\n",
       "      <td>0.497529</td>\n",
       "      <td>0.0</td>\n",
       "      <td>0.0530</td>\n",
       "      <td>0.1520</td>\n",
       "      <td>0.3880</td>\n",
       "      <td>12.000</td>\n",
       "    </tr>\n",
       "    <tr>\n",
       "      <th>Folate_Tot_(µg)</th>\n",
       "      <td>7373.0</td>\n",
       "      <td>52.513766</td>\n",
       "      <td>138.634853</td>\n",
       "      <td>0.0</td>\n",
       "      <td>5.0000</td>\n",
       "      <td>12.0000</td>\n",
       "      <td>46.0000</td>\n",
       "      <td>3786.000</td>\n",
       "    </tr>\n",
       "    <tr>\n",
       "      <th>Folic_Acid_(µg)</th>\n",
       "      <td>6631.0</td>\n",
       "      <td>23.816619</td>\n",
       "      <td>116.840881</td>\n",
       "      <td>0.0</td>\n",
       "      <td>0.0000</td>\n",
       "      <td>0.0000</td>\n",
       "      <td>0.0000</td>\n",
       "      <td>2993.000</td>\n",
       "    </tr>\n",
       "    <tr>\n",
       "      <th>Food_Folate_(µg)</th>\n",
       "      <td>6863.0</td>\n",
       "      <td>24.939239</td>\n",
       "      <td>63.534929</td>\n",
       "      <td>0.0</td>\n",
       "      <td>4.0000</td>\n",
       "      <td>9.0000</td>\n",
       "      <td>21.0000</td>\n",
       "      <td>2340.000</td>\n",
       "    </tr>\n",
       "    <tr>\n",
       "      <th>Folate_DFE_(µg)</th>\n",
       "      <td>6612.0</td>\n",
       "      <td>65.568361</td>\n",
       "      <td>210.629951</td>\n",
       "      <td>0.0</td>\n",
       "      <td>4.0000</td>\n",
       "      <td>11.0000</td>\n",
       "      <td>41.2500</td>\n",
       "      <td>5881.000</td>\n",
       "    </tr>\n",
       "    <tr>\n",
       "      <th>Choline_Tot_ (mg)</th>\n",
       "      <td>4534.0</td>\n",
       "      <td>45.034583</td>\n",
       "      <td>64.257554</td>\n",
       "      <td>0.0</td>\n",
       "      <td>9.8000</td>\n",
       "      <td>26.9000</td>\n",
       "      <td>71.4000</td>\n",
       "      <td>2403.300</td>\n",
       "    </tr>\n",
       "    <tr>\n",
       "      <th>Vit_B12_(µg)</th>\n",
       "      <td>7427.0</td>\n",
       "      <td>1.421744</td>\n",
       "      <td>4.622547</td>\n",
       "      <td>0.0</td>\n",
       "      <td>0.0000</td>\n",
       "      <td>0.2600</td>\n",
       "      <td>1.6300</td>\n",
       "      <td>98.890</td>\n",
       "    </tr>\n",
       "    <tr>\n",
       "      <th>Vit_A_IU</th>\n",
       "      <td>7932.0</td>\n",
       "      <td>744.119516</td>\n",
       "      <td>3871.474249</td>\n",
       "      <td>0.0</td>\n",
       "      <td>0.0000</td>\n",
       "      <td>33.0000</td>\n",
       "      <td>259.0000</td>\n",
       "      <td>100000.000</td>\n",
       "    </tr>\n",
       "    <tr>\n",
       "      <th>Vit_A_RAE</th>\n",
       "      <td>7089.0</td>\n",
       "      <td>114.236564</td>\n",
       "      <td>857.972785</td>\n",
       "      <td>0.0</td>\n",
       "      <td>0.0000</td>\n",
       "      <td>4.0000</td>\n",
       "      <td>34.0000</td>\n",
       "      <td>30000.000</td>\n",
       "    </tr>\n",
       "    <tr>\n",
       "      <th>Retinol_(µg)</th>\n",
       "      <td>6806.0</td>\n",
       "      <td>92.181898</td>\n",
       "      <td>864.571195</td>\n",
       "      <td>0.0</td>\n",
       "      <td>0.0000</td>\n",
       "      <td>0.0000</td>\n",
       "      <td>12.0000</td>\n",
       "      <td>30000.000</td>\n",
       "    </tr>\n",
       "    <tr>\n",
       "      <th>Alpha_Carot_(µg)</th>\n",
       "      <td>5263.0</td>\n",
       "      <td>32.498195</td>\n",
       "      <td>328.773067</td>\n",
       "      <td>0.0</td>\n",
       "      <td>0.0000</td>\n",
       "      <td>0.0000</td>\n",
       "      <td>0.0000</td>\n",
       "      <td>14251.000</td>\n",
       "    </tr>\n",
       "    <tr>\n",
       "      <th>Beta_Carot_(µg)</th>\n",
       "      <td>5356.0</td>\n",
       "      <td>223.484317</td>\n",
       "      <td>1302.396930</td>\n",
       "      <td>0.0</td>\n",
       "      <td>0.0000</td>\n",
       "      <td>0.0000</td>\n",
       "      <td>20.0000</td>\n",
       "      <td>42891.000</td>\n",
       "    </tr>\n",
       "    <tr>\n",
       "      <th>Beta_Crypt_(µg)</th>\n",
       "      <td>5252.0</td>\n",
       "      <td>10.801980</td>\n",
       "      <td>158.991451</td>\n",
       "      <td>0.0</td>\n",
       "      <td>0.0000</td>\n",
       "      <td>0.0000</td>\n",
       "      <td>0.0000</td>\n",
       "      <td>6252.000</td>\n",
       "    </tr>\n",
       "    <tr>\n",
       "      <th>Lycopene_(µg)</th>\n",
       "      <td>5228.0</td>\n",
       "      <td>164.700077</td>\n",
       "      <td>1483.062291</td>\n",
       "      <td>0.0</td>\n",
       "      <td>0.0000</td>\n",
       "      <td>0.0000</td>\n",
       "      <td>0.0000</td>\n",
       "      <td>46260.000</td>\n",
       "    </tr>\n",
       "    <tr>\n",
       "      <th>Lut+Zea_ (µg)</th>\n",
       "      <td>5206.0</td>\n",
       "      <td>192.577795</td>\n",
       "      <td>1151.024421</td>\n",
       "      <td>0.0</td>\n",
       "      <td>0.0000</td>\n",
       "      <td>0.0000</td>\n",
       "      <td>28.0000</td>\n",
       "      <td>19697.000</td>\n",
       "    </tr>\n",
       "    <tr>\n",
       "      <th>Vit_E_(mg)</th>\n",
       "      <td>5613.0</td>\n",
       "      <td>1.339343</td>\n",
       "      <td>4.703431</td>\n",
       "      <td>0.0</td>\n",
       "      <td>0.1200</td>\n",
       "      <td>0.3000</td>\n",
       "      <td>0.7900</td>\n",
       "      <td>149.400</td>\n",
       "    </tr>\n",
       "    <tr>\n",
       "      <th>Vit_D_µg</th>\n",
       "      <td>5319.0</td>\n",
       "      <td>0.578060</td>\n",
       "      <td>3.887389</td>\n",
       "      <td>0.0</td>\n",
       "      <td>0.0000</td>\n",
       "      <td>0.0000</td>\n",
       "      <td>0.2000</td>\n",
       "      <td>250.000</td>\n",
       "    </tr>\n",
       "    <tr>\n",
       "      <th>Vit_D_IU</th>\n",
       "      <td>5320.0</td>\n",
       "      <td>23.152820</td>\n",
       "      <td>155.482812</td>\n",
       "      <td>0.0</td>\n",
       "      <td>0.0000</td>\n",
       "      <td>0.0000</td>\n",
       "      <td>7.0000</td>\n",
       "      <td>10000.000</td>\n",
       "    </tr>\n",
       "    <tr>\n",
       "      <th>Vit_K_(µg)</th>\n",
       "      <td>4969.0</td>\n",
       "      <td>15.671342</td>\n",
       "      <td>81.221277</td>\n",
       "      <td>0.0</td>\n",
       "      <td>0.2000</td>\n",
       "      <td>1.6000</td>\n",
       "      <td>5.2000</td>\n",
       "      <td>1714.500</td>\n",
       "    </tr>\n",
       "    <tr>\n",
       "      <th>FA_Sat_(g)</th>\n",
       "      <td>8274.0</td>\n",
       "      <td>3.621685</td>\n",
       "      <td>6.558377</td>\n",
       "      <td>0.0</td>\n",
       "      <td>0.2400</td>\n",
       "      <td>1.6135</td>\n",
       "      <td>4.4100</td>\n",
       "      <td>95.600</td>\n",
       "    </tr>\n",
       "    <tr>\n",
       "      <th>FA_Mono_(g)</th>\n",
       "      <td>7947.0</td>\n",
       "      <td>4.144690</td>\n",
       "      <td>7.051240</td>\n",
       "      <td>0.0</td>\n",
       "      <td>0.2565</td>\n",
       "      <td>1.9810</td>\n",
       "      <td>5.2200</td>\n",
       "      <td>83.689</td>\n",
       "    </tr>\n",
       "    <tr>\n",
       "      <th>FA_Poly_(g)</th>\n",
       "      <td>7954.0</td>\n",
       "      <td>2.296772</td>\n",
       "      <td>5.206410</td>\n",
       "      <td>0.0</td>\n",
       "      <td>0.2300</td>\n",
       "      <td>0.7110</td>\n",
       "      <td>2.0900</td>\n",
       "      <td>74.623</td>\n",
       "    </tr>\n",
       "    <tr>\n",
       "      <th>Cholestrl_(mg)</th>\n",
       "      <td>8250.0</td>\n",
       "      <td>41.457212</td>\n",
       "      <td>120.700142</td>\n",
       "      <td>0.0</td>\n",
       "      <td>0.0000</td>\n",
       "      <td>5.0000</td>\n",
       "      <td>67.0000</td>\n",
       "      <td>3100.000</td>\n",
       "    </tr>\n",
       "  </tbody>\n",
       "</table>\n",
       "</div>"
      ],
      "text/plain": [
       "                    count        mean          std  min       25%       50%  \\\n",
       "Water_(g)          8612.0   54.163710    30.648283  0.0   30.0875   63.2650   \n",
       "Protein_(g)        8618.0   11.523910    10.550590  0.0    2.4700    8.2850   \n",
       "Lipid_Tot_(g)      8618.0   10.647024    15.866353  0.0    0.9925    5.2350   \n",
       "Ash_(g)            8286.0    1.816169     3.035264  0.0    0.8600    1.2000   \n",
       "Carbohydrt_(g)     8618.0   21.819062    27.239000  0.0    0.0400    8.9450   \n",
       "Fiber_TD_(g)       7962.0    2.189940     4.447017  0.0    0.0000    0.7000   \n",
       "Sugar_Tot_(g)      6679.0    8.464779    14.920260  0.0    0.0000    1.6900   \n",
       "Calcium_(mg)       8264.0   76.556026   205.045513  0.0   10.0000   21.0000   \n",
       "Iron_(mg)          8471.0    2.743569     5.765324  0.0    0.5600    1.3800   \n",
       "Magnesium_(mg)     7936.0   35.559350    57.565498  0.0   13.0000   21.0000   \n",
       "Phosphorus_(mg)    8046.0  167.075565   205.734153  0.0   53.0000  149.0000   \n",
       "Potassium_(mg)     8208.0  283.527778   381.524684  0.0  130.0000  232.0000   \n",
       "Sodium_(mg)        8535.0  320.914118   953.575838  0.0   42.0000   90.0000   \n",
       "Zinc_(mg)          7917.0    2.144666     3.449941  0.0    0.3600    1.0200   \n",
       "Copper_mg)         7363.0    0.201529     0.593374  0.0    0.0540    0.0920   \n",
       "Manganese_(mg)     6478.0    0.671080     7.355247  0.0    0.0150    0.0830   \n",
       "Selenium_(µg)      6868.0   15.829295    30.879745  0.0    1.4000   10.5000   \n",
       "Vit_C_(mg)         7826.0    8.727434    60.368668  0.0    0.0000    0.0000   \n",
       "Thiamin_(mg)       7939.0    0.227805     0.536285  0.0    0.0400    0.0850   \n",
       "Riboflavin_(mg)    7961.0    0.256828     0.462675  0.0    0.0640    0.1700   \n",
       "Niacin_(mg)        7937.0    3.704274     4.928928  0.0    0.5850    2.6000   \n",
       "Panto_Acid_mg)     6460.0    0.654519     1.421510  0.0    0.1970    0.4330   \n",
       "Vit_B6_(mg)        7677.0    0.296774     0.497529  0.0    0.0530    0.1520   \n",
       "Folate_Tot_(µg)    7373.0   52.513766   138.634853  0.0    5.0000   12.0000   \n",
       "Folic_Acid_(µg)    6631.0   23.816619   116.840881  0.0    0.0000    0.0000   \n",
       "Food_Folate_(µg)   6863.0   24.939239    63.534929  0.0    4.0000    9.0000   \n",
       "Folate_DFE_(µg)    6612.0   65.568361   210.629951  0.0    4.0000   11.0000   \n",
       "Choline_Tot_ (mg)  4534.0   45.034583    64.257554  0.0    9.8000   26.9000   \n",
       "Vit_B12_(µg)       7427.0    1.421744     4.622547  0.0    0.0000    0.2600   \n",
       "Vit_A_IU           7932.0  744.119516  3871.474249  0.0    0.0000   33.0000   \n",
       "Vit_A_RAE          7089.0  114.236564   857.972785  0.0    0.0000    4.0000   \n",
       "Retinol_(µg)       6806.0   92.181898   864.571195  0.0    0.0000    0.0000   \n",
       "Alpha_Carot_(µg)   5263.0   32.498195   328.773067  0.0    0.0000    0.0000   \n",
       "Beta_Carot_(µg)    5356.0  223.484317  1302.396930  0.0    0.0000    0.0000   \n",
       "Beta_Crypt_(µg)    5252.0   10.801980   158.991451  0.0    0.0000    0.0000   \n",
       "Lycopene_(µg)      5228.0  164.700077  1483.062291  0.0    0.0000    0.0000   \n",
       "Lut+Zea_ (µg)      5206.0  192.577795  1151.024421  0.0    0.0000    0.0000   \n",
       "Vit_E_(mg)         5613.0    1.339343     4.703431  0.0    0.1200    0.3000   \n",
       "Vit_D_µg           5319.0    0.578060     3.887389  0.0    0.0000    0.0000   \n",
       "Vit_D_IU           5320.0   23.152820   155.482812  0.0    0.0000    0.0000   \n",
       "Vit_K_(µg)         4969.0   15.671342    81.221277  0.0    0.2000    1.6000   \n",
       "FA_Sat_(g)         8274.0    3.621685     6.558377  0.0    0.2400    1.6135   \n",
       "FA_Mono_(g)        7947.0    4.144690     7.051240  0.0    0.2565    1.9810   \n",
       "FA_Poly_(g)        7954.0    2.296772     5.206410  0.0    0.2300    0.7110   \n",
       "Cholestrl_(mg)     8250.0   41.457212   120.700142  0.0    0.0000    5.0000   \n",
       "\n",
       "                        75%         max  \n",
       "Water_(g)           77.6100     100.000  \n",
       "Protein_(g)         19.9775      88.320  \n",
       "Lipid_Tot_(g)       13.9000     100.000  \n",
       "Ash_(g)              2.1400      99.800  \n",
       "Carbohydrt_(g)      32.9000     100.000  \n",
       "Fiber_TD_(g)         2.5000      79.000  \n",
       "Sugar_Tot_(g)        9.0000      99.800  \n",
       "Calcium_(mg)        67.0000    7364.000  \n",
       "Iron_(mg)            2.6000     123.600  \n",
       "Magnesium_(mg)      31.0000     781.000  \n",
       "Phosphorus_(mg)    221.0000    9918.000  \n",
       "Potassium_(mg)     337.0000   16500.000  \n",
       "Sodium_(mg)        416.0000   38758.000  \n",
       "Zinc_(mg)            2.9600      90.950  \n",
       "Copper_mg)           0.1650      15.050  \n",
       "Manganese_(mg)       0.3260     328.000  \n",
       "Selenium_(µg)       24.5000    1917.000  \n",
       "Vit_C_(mg)           3.5000    2400.000  \n",
       "Thiamin_(mg)         0.2500      23.375  \n",
       "Riboflavin_(mg)      0.2700      17.500  \n",
       "Niacin_(mg)          5.2700     127.500  \n",
       "Panto_Acid_mg)       0.7400      34.500  \n",
       "Vit_B6_(mg)          0.3880      12.000  \n",
       "Folate_Tot_(µg)     46.0000    3786.000  \n",
       "Folic_Acid_(µg)      0.0000    2993.000  \n",
       "Food_Folate_(µg)    21.0000    2340.000  \n",
       "Folate_DFE_(µg)     41.2500    5881.000  \n",
       "Choline_Tot_ (mg)   71.4000    2403.300  \n",
       "Vit_B12_(µg)         1.6300      98.890  \n",
       "Vit_A_IU           259.0000  100000.000  \n",
       "Vit_A_RAE           34.0000   30000.000  \n",
       "Retinol_(µg)        12.0000   30000.000  \n",
       "Alpha_Carot_(µg)     0.0000   14251.000  \n",
       "Beta_Carot_(µg)     20.0000   42891.000  \n",
       "Beta_Crypt_(µg)      0.0000    6252.000  \n",
       "Lycopene_(µg)        0.0000   46260.000  \n",
       "Lut+Zea_ (µg)       28.0000   19697.000  \n",
       "Vit_E_(mg)           0.7900     149.400  \n",
       "Vit_D_µg             0.2000     250.000  \n",
       "Vit_D_IU             7.0000   10000.000  \n",
       "Vit_K_(µg)           5.2000    1714.500  \n",
       "FA_Sat_(g)           4.4100      95.600  \n",
       "FA_Mono_(g)          5.2200      83.689  \n",
       "FA_Poly_(g)          2.0900      74.623  \n",
       "Cholestrl_(mg)      67.0000    3100.000  "
      ]
     },
     "execution_count": 8,
     "metadata": {},
     "output_type": "execute_result"
    }
   ],
   "source": [
    "data.describe().T"
   ]
  },
  {
   "cell_type": "code",
   "execution_count": 9,
   "metadata": {
    "slideshow": {
     "slide_type": "subslide"
    }
   },
   "outputs": [
    {
     "data": {
      "text/plain": [
       "Shrt_Desc             object\n",
       "Water_(g)            float64\n",
       "Protein_(g)          float64\n",
       "Lipid_Tot_(g)        float64\n",
       "Ash_(g)              float64\n",
       "Carbohydrt_(g)       float64\n",
       "Fiber_TD_(g)         float64\n",
       "Sugar_Tot_(g)        float64\n",
       "Calcium_(mg)         float64\n",
       "Iron_(mg)            float64\n",
       "Magnesium_(mg)       float64\n",
       "Phosphorus_(mg)      float64\n",
       "Potassium_(mg)       float64\n",
       "Sodium_(mg)          float64\n",
       "Zinc_(mg)            float64\n",
       "Copper_mg)           float64\n",
       "Manganese_(mg)       float64\n",
       "Selenium_(µg)        float64\n",
       "Vit_C_(mg)           float64\n",
       "Thiamin_(mg)         float64\n",
       "Riboflavin_(mg)      float64\n",
       "Niacin_(mg)          float64\n",
       "Panto_Acid_mg)       float64\n",
       "Vit_B6_(mg)          float64\n",
       "Folate_Tot_(µg)      float64\n",
       "Folic_Acid_(µg)      float64\n",
       "Food_Folate_(µg)     float64\n",
       "Folate_DFE_(µg)      float64\n",
       "Choline_Tot_ (mg)    float64\n",
       "Vit_B12_(µg)         float64\n",
       "Vit_A_IU             float64\n",
       "Vit_A_RAE            float64\n",
       "Retinol_(µg)         float64\n",
       "Alpha_Carot_(µg)     float64\n",
       "Beta_Carot_(µg)      float64\n",
       "Beta_Crypt_(µg)      float64\n",
       "Lycopene_(µg)        float64\n",
       "Lut+Zea_ (µg)        float64\n",
       "Vit_E_(mg)           float64\n",
       "Vit_D_µg             float64\n",
       "Vit_D_IU             float64\n",
       "Vit_K_(µg)           float64\n",
       "FA_Sat_(g)           float64\n",
       "FA_Mono_(g)          float64\n",
       "FA_Poly_(g)          float64\n",
       "Cholestrl_(mg)       float64\n",
       "dtype: object"
      ]
     },
     "execution_count": 9,
     "metadata": {},
     "output_type": "execute_result"
    }
   ],
   "source": [
    "data.dtypes"
   ]
  },
  {
   "cell_type": "markdown",
   "metadata": {
    "slideshow": {
     "slide_type": "slide"
    }
   },
   "source": [
    "# Подсчет числа пустых ячеек в столбцах"
   ]
  },
  {
   "cell_type": "code",
   "execution_count": 10,
   "metadata": {
    "slideshow": {
     "slide_type": "fragment"
    }
   },
   "outputs": [
    {
     "data": {
      "text/plain": [
       "Choline_Tot_ (mg)    4084\n",
       "Vit_K_(µg)           3649\n",
       "Lut+Zea_ (µg)        3412\n",
       "Lycopene_(µg)        3390\n",
       "Beta_Crypt_(µg)      3366\n",
       "Alpha_Carot_(µg)     3355\n",
       "Vit_D_µg             3299\n",
       "Vit_D_IU             3298\n",
       "Beta_Carot_(µg)      3262\n",
       "Vit_E_(mg)           3005\n",
       "dtype: int64"
      ]
     },
     "execution_count": 10,
     "metadata": {},
     "output_type": "execute_result"
    }
   ],
   "source": [
    "data.isnull().sum(axis=0).sort_values(ascending=False).head(10)"
   ]
  },
  {
   "cell_type": "markdown",
   "metadata": {
    "slideshow": {
     "slide_type": "slide"
    }
   },
   "source": [
    "# Посмотрим распределение количества пропущенных значений"
   ]
  },
  {
   "cell_type": "code",
   "execution_count": 11,
   "metadata": {
    "slideshow": {
     "slide_type": "subslide"
    }
   },
   "outputs": [
    {
     "data": {
      "text/plain": [
       "<matplotlib.axes._subplots.AxesSubplot at 0x1a1761b0b8>"
      ]
     },
     "execution_count": 11,
     "metadata": {},
     "output_type": "execute_result"
    },
    {
     "data": {
      "image/png": "[encoded data removed]",
      "text/plain": [
       "<Figure size 720x720 with 1 Axes>"
      ]
     },
     "metadata": {
      "needs_background": "light"
     },
     "output_type": "display_data"
    }
   ],
   "source": [
    "fig = plt.figure(figsize=(10,10))\n",
    "fig = (X.isnull().sum(axis=0)/X.shape[0]).plot()\n",
    "fig = (data_test.isnull().sum(axis=0)/data_test.shape[0]).plot()\n",
    "fig"
   ]
  },
  {
   "cell_type": "markdown",
   "metadata": {
    "slideshow": {
     "slide_type": "slide"
    }
   },
   "source": [
    "# Посмотрим число уникальных значений"
   ]
  },
  {
   "cell_type": "code",
   "execution_count": 12,
   "metadata": {
    "slideshow": {
     "slide_type": "fragment"
    }
   },
   "outputs": [
    {
     "data": {
      "text/html": [
       "<div>\n",
       "<style scoped>\n",
       "    .dataframe tbody tr th:only-of-type {\n",
       "        vertical-align: middle;\n",
       "    }\n",
       "\n",
       "    .dataframe tbody tr th {\n",
       "        vertical-align: top;\n",
       "    }\n",
       "\n",
       "    .dataframe thead th {\n",
       "        text-align: right;\n",
       "    }\n",
       "</style>\n",
       "<table border=\"1\" class=\"dataframe\">\n",
       "  <thead>\n",
       "    <tr style=\"text-align: right;\">\n",
       "      <th></th>\n",
       "      <th>count_unique_values</th>\n",
       "      <th>percentage</th>\n",
       "    </tr>\n",
       "  </thead>\n",
       "  <tbody>\n",
       "    <tr>\n",
       "      <th>Lycopene_(µg)</th>\n",
       "      <td>244.0</td>\n",
       "      <td>93.46</td>\n",
       "    </tr>\n",
       "    <tr>\n",
       "      <th>Alpha_Carot_(µg)</th>\n",
       "      <td>205.0</td>\n",
       "      <td>85.98</td>\n",
       "    </tr>\n",
       "    <tr>\n",
       "      <th>Beta_Crypt_(µg)</th>\n",
       "      <td>140.0</td>\n",
       "      <td>85.49</td>\n",
       "    </tr>\n",
       "    <tr>\n",
       "      <th>Folic_Acid_(µg)</th>\n",
       "      <td>262.0</td>\n",
       "      <td>82.45</td>\n",
       "    </tr>\n",
       "    <tr>\n",
       "      <th>Vit_D_µg</th>\n",
       "      <td>116.0</td>\n",
       "      <td>62.25</td>\n",
       "    </tr>\n",
       "    <tr>\n",
       "      <th>Lut+Zea_ (µg)</th>\n",
       "      <td>512.0</td>\n",
       "      <td>61.20</td>\n",
       "    </tr>\n",
       "    <tr>\n",
       "      <th>Beta_Carot_(µg)</th>\n",
       "      <td>556.0</td>\n",
       "      <td>57.67</td>\n",
       "    </tr>\n",
       "    <tr>\n",
       "      <th>Vit_D_IU</th>\n",
       "      <td>238.0</td>\n",
       "      <td>57.58</td>\n",
       "    </tr>\n",
       "    <tr>\n",
       "      <th>Retinol_(µg)</th>\n",
       "      <td>443.0</td>\n",
       "      <td>56.02</td>\n",
       "    </tr>\n",
       "    <tr>\n",
       "      <th>Vit_C_(mg)</th>\n",
       "      <td>564.0</td>\n",
       "      <td>51.38</td>\n",
       "    </tr>\n",
       "  </tbody>\n",
       "</table>\n",
       "</div>"
      ],
      "text/plain": [
       "                  count_unique_values  percentage\n",
       "Lycopene_(µg)                   244.0       93.46\n",
       "Alpha_Carot_(µg)                205.0       85.98\n",
       "Beta_Crypt_(µg)                 140.0       85.49\n",
       "Folic_Acid_(µg)                 262.0       82.45\n",
       "Vit_D_µg                        116.0       62.25\n",
       "Lut+Zea_ (µg)                   512.0       61.20\n",
       "Beta_Carot_(µg)                 556.0       57.67\n",
       "Vit_D_IU                        238.0       57.58\n",
       "Retinol_(µg)                    443.0       56.02\n",
       "Vit_C_(mg)                      564.0       51.38"
      ]
     },
     "execution_count": 12,
     "metadata": {},
     "output_type": "execute_result"
    }
   ],
   "source": [
    "columns = data.columns.tolist()\n",
    "unique_analyse = pd.DataFrame(columns=columns[1:], index=['count_unique_values', 'percentage'])\n",
    "for index in range(1, len(columns)):\n",
    "    data_column_stat = data[columns[index]].value_counts()\n",
    "    unique_values = len(data_column_stat)\n",
    "    most_popular_values = data_column_stat.iloc[0] / data_column_stat.sum()\n",
    "    unique_analyse[columns[index]] = [unique_values, round(most_popular_values * 100,2)]\n",
    "unique_analyse.T.sort_values(by='percentage', ascending=False).head(10)"
   ]
  },
  {
   "cell_type": "code",
   "execution_count": 13,
   "metadata": {
    "slideshow": {
     "slide_type": "slide"
    }
   },
   "outputs": [
    {
     "data": {
      "text/html": [
       "<div>\n",
       "<style scoped>\n",
       "    .dataframe tbody tr th:only-of-type {\n",
       "        vertical-align: middle;\n",
       "    }\n",
       "\n",
       "    .dataframe tbody tr th {\n",
       "        vertical-align: top;\n",
       "    }\n",
       "\n",
       "    .dataframe thead th {\n",
       "        text-align: right;\n",
       "    }\n",
       "</style>\n",
       "<table border=\"1\" class=\"dataframe\">\n",
       "  <thead>\n",
       "    <tr style=\"text-align: right;\">\n",
       "      <th></th>\n",
       "      <th>count_unique_values</th>\n",
       "      <th>percentage</th>\n",
       "    </tr>\n",
       "  </thead>\n",
       "  <tbody>\n",
       "    <tr>\n",
       "      <th>Vit_D_µg</th>\n",
       "      <td>116.0</td>\n",
       "      <td>62.25</td>\n",
       "    </tr>\n",
       "    <tr>\n",
       "      <th>Beta_Crypt_(µg)</th>\n",
       "      <td>140.0</td>\n",
       "      <td>85.49</td>\n",
       "    </tr>\n",
       "    <tr>\n",
       "      <th>Alpha_Carot_(µg)</th>\n",
       "      <td>205.0</td>\n",
       "      <td>85.98</td>\n",
       "    </tr>\n",
       "    <tr>\n",
       "      <th>Vit_D_IU</th>\n",
       "      <td>238.0</td>\n",
       "      <td>57.58</td>\n",
       "    </tr>\n",
       "    <tr>\n",
       "      <th>Lycopene_(µg)</th>\n",
       "      <td>244.0</td>\n",
       "      <td>93.46</td>\n",
       "    </tr>\n",
       "    <tr>\n",
       "      <th>Fiber_TD_(g)</th>\n",
       "      <td>253.0</td>\n",
       "      <td>42.90</td>\n",
       "    </tr>\n",
       "    <tr>\n",
       "      <th>Folic_Acid_(µg)</th>\n",
       "      <td>262.0</td>\n",
       "      <td>82.45</td>\n",
       "    </tr>\n",
       "    <tr>\n",
       "      <th>Food_Folate_(µg)</th>\n",
       "      <td>264.0</td>\n",
       "      <td>10.88</td>\n",
       "    </tr>\n",
       "    <tr>\n",
       "      <th>Magnesium_(mg)</th>\n",
       "      <td>309.0</td>\n",
       "      <td>4.30</td>\n",
       "    </tr>\n",
       "    <tr>\n",
       "      <th>Cholestrl_(mg)</th>\n",
       "      <td>315.0</td>\n",
       "      <td>42.96</td>\n",
       "    </tr>\n",
       "  </tbody>\n",
       "</table>\n",
       "</div>"
      ],
      "text/plain": [
       "                  count_unique_values  percentage\n",
       "Vit_D_µg                        116.0       62.25\n",
       "Beta_Crypt_(µg)                 140.0       85.49\n",
       "Alpha_Carot_(µg)                205.0       85.98\n",
       "Vit_D_IU                        238.0       57.58\n",
       "Lycopene_(µg)                   244.0       93.46\n",
       "Fiber_TD_(g)                    253.0       42.90\n",
       "Folic_Acid_(µg)                 262.0       82.45\n",
       "Food_Folate_(µg)                264.0       10.88\n",
       "Magnesium_(mg)                  309.0        4.30\n",
       "Cholestrl_(mg)                  315.0       42.96"
      ]
     },
     "execution_count": 13,
     "metadata": {},
     "output_type": "execute_result"
    }
   ],
   "source": [
    "unique_analyse.T.sort_values(by='count_unique_values').head(10)"
   ]
  },
  {
   "cell_type": "code",
   "execution_count": 14,
   "metadata": {
    "slideshow": {
     "slide_type": "fragment"
    }
   },
   "outputs": [],
   "source": [
    "low_unique = unique_analyse.T.sort_values(by='percentage', ascending=False).head(10).index"
   ]
  },
  {
   "cell_type": "code",
   "execution_count": 15,
   "metadata": {
    "slideshow": {
     "slide_type": "fragment"
    }
   },
   "outputs": [
    {
     "data": {
      "text/html": [
       "<div>\n",
       "<style scoped>\n",
       "    .dataframe tbody tr th:only-of-type {\n",
       "        vertical-align: middle;\n",
       "    }\n",
       "\n",
       "    .dataframe tbody tr th {\n",
       "        vertical-align: top;\n",
       "    }\n",
       "\n",
       "    .dataframe thead th {\n",
       "        text-align: right;\n",
       "    }\n",
       "</style>\n",
       "<table border=\"1\" class=\"dataframe\">\n",
       "  <thead>\n",
       "    <tr style=\"text-align: right;\">\n",
       "      <th></th>\n",
       "      <th>count</th>\n",
       "      <th>mean</th>\n",
       "      <th>std</th>\n",
       "      <th>min</th>\n",
       "      <th>25%</th>\n",
       "      <th>50%</th>\n",
       "      <th>75%</th>\n",
       "      <th>max</th>\n",
       "    </tr>\n",
       "  </thead>\n",
       "  <tbody>\n",
       "    <tr>\n",
       "      <th>Lycopene_(µg)</th>\n",
       "      <td>5228.0</td>\n",
       "      <td>164.700077</td>\n",
       "      <td>1483.062291</td>\n",
       "      <td>0.0</td>\n",
       "      <td>0.0</td>\n",
       "      <td>0.0</td>\n",
       "      <td>0.0</td>\n",
       "      <td>46260.0</td>\n",
       "    </tr>\n",
       "    <tr>\n",
       "      <th>Alpha_Carot_(µg)</th>\n",
       "      <td>5263.0</td>\n",
       "      <td>32.498195</td>\n",
       "      <td>328.773067</td>\n",
       "      <td>0.0</td>\n",
       "      <td>0.0</td>\n",
       "      <td>0.0</td>\n",
       "      <td>0.0</td>\n",
       "      <td>14251.0</td>\n",
       "    </tr>\n",
       "    <tr>\n",
       "      <th>Beta_Crypt_(µg)</th>\n",
       "      <td>5252.0</td>\n",
       "      <td>10.801980</td>\n",
       "      <td>158.991451</td>\n",
       "      <td>0.0</td>\n",
       "      <td>0.0</td>\n",
       "      <td>0.0</td>\n",
       "      <td>0.0</td>\n",
       "      <td>6252.0</td>\n",
       "    </tr>\n",
       "    <tr>\n",
       "      <th>Folic_Acid_(µg)</th>\n",
       "      <td>6631.0</td>\n",
       "      <td>23.816619</td>\n",
       "      <td>116.840881</td>\n",
       "      <td>0.0</td>\n",
       "      <td>0.0</td>\n",
       "      <td>0.0</td>\n",
       "      <td>0.0</td>\n",
       "      <td>2993.0</td>\n",
       "    </tr>\n",
       "    <tr>\n",
       "      <th>Vit_D_µg</th>\n",
       "      <td>5319.0</td>\n",
       "      <td>0.578060</td>\n",
       "      <td>3.887389</td>\n",
       "      <td>0.0</td>\n",
       "      <td>0.0</td>\n",
       "      <td>0.0</td>\n",
       "      <td>0.2</td>\n",
       "      <td>250.0</td>\n",
       "    </tr>\n",
       "    <tr>\n",
       "      <th>Lut+Zea_ (µg)</th>\n",
       "      <td>5206.0</td>\n",
       "      <td>192.577795</td>\n",
       "      <td>1151.024421</td>\n",
       "      <td>0.0</td>\n",
       "      <td>0.0</td>\n",
       "      <td>0.0</td>\n",
       "      <td>28.0</td>\n",
       "      <td>19697.0</td>\n",
       "    </tr>\n",
       "    <tr>\n",
       "      <th>Beta_Carot_(µg)</th>\n",
       "      <td>5356.0</td>\n",
       "      <td>223.484317</td>\n",
       "      <td>1302.396930</td>\n",
       "      <td>0.0</td>\n",
       "      <td>0.0</td>\n",
       "      <td>0.0</td>\n",
       "      <td>20.0</td>\n",
       "      <td>42891.0</td>\n",
       "    </tr>\n",
       "    <tr>\n",
       "      <th>Vit_D_IU</th>\n",
       "      <td>5320.0</td>\n",
       "      <td>23.152820</td>\n",
       "      <td>155.482812</td>\n",
       "      <td>0.0</td>\n",
       "      <td>0.0</td>\n",
       "      <td>0.0</td>\n",
       "      <td>7.0</td>\n",
       "      <td>10000.0</td>\n",
       "    </tr>\n",
       "    <tr>\n",
       "      <th>Retinol_(µg)</th>\n",
       "      <td>6806.0</td>\n",
       "      <td>92.181898</td>\n",
       "      <td>864.571195</td>\n",
       "      <td>0.0</td>\n",
       "      <td>0.0</td>\n",
       "      <td>0.0</td>\n",
       "      <td>12.0</td>\n",
       "      <td>30000.0</td>\n",
       "    </tr>\n",
       "    <tr>\n",
       "      <th>Vit_C_(mg)</th>\n",
       "      <td>7826.0</td>\n",
       "      <td>8.727434</td>\n",
       "      <td>60.368668</td>\n",
       "      <td>0.0</td>\n",
       "      <td>0.0</td>\n",
       "      <td>0.0</td>\n",
       "      <td>3.5</td>\n",
       "      <td>2400.0</td>\n",
       "    </tr>\n",
       "  </tbody>\n",
       "</table>\n",
       "</div>"
      ],
      "text/plain": [
       "                   count        mean          std  min  25%  50%   75%  \\\n",
       "Lycopene_(µg)     5228.0  164.700077  1483.062291  0.0  0.0  0.0   0.0   \n",
       "Alpha_Carot_(µg)  5263.0   32.498195   328.773067  0.0  0.0  0.0   0.0   \n",
       "Beta_Crypt_(µg)   5252.0   10.801980   158.991451  0.0  0.0  0.0   0.0   \n",
       "Folic_Acid_(µg)   6631.0   23.816619   116.840881  0.0  0.0  0.0   0.0   \n",
       "Vit_D_µg          5319.0    0.578060     3.887389  0.0  0.0  0.0   0.2   \n",
       "Lut+Zea_ (µg)     5206.0  192.577795  1151.024421  0.0  0.0  0.0  28.0   \n",
       "Beta_Carot_(µg)   5356.0  223.484317  1302.396930  0.0  0.0  0.0  20.0   \n",
       "Vit_D_IU          5320.0   23.152820   155.482812  0.0  0.0  0.0   7.0   \n",
       "Retinol_(µg)      6806.0   92.181898   864.571195  0.0  0.0  0.0  12.0   \n",
       "Vit_C_(mg)        7826.0    8.727434    60.368668  0.0  0.0  0.0   3.5   \n",
       "\n",
       "                      max  \n",
       "Lycopene_(µg)     46260.0  \n",
       "Alpha_Carot_(µg)  14251.0  \n",
       "Beta_Crypt_(µg)    6252.0  \n",
       "Folic_Acid_(µg)    2993.0  \n",
       "Vit_D_µg            250.0  \n",
       "Lut+Zea_ (µg)     19697.0  \n",
       "Beta_Carot_(µg)   42891.0  \n",
       "Vit_D_IU          10000.0  \n",
       "Retinol_(µg)      30000.0  \n",
       "Vit_C_(mg)         2400.0  "
      ]
     },
     "execution_count": 15,
     "metadata": {},
     "output_type": "execute_result"
    }
   ],
   "source": [
    "data[low_unique].describe().T"
   ]
  },
  {
   "cell_type": "code",
   "execution_count": 16,
   "metadata": {
    "slideshow": {
     "slide_type": "subslide"
    }
   },
   "outputs": [
    {
     "data": {
      "text/plain": [
       "Lycopene_(µg)       244\n",
       "Alpha_Carot_(µg)    205\n",
       "Beta_Crypt_(µg)     140\n",
       "Folic_Acid_(µg)     262\n",
       "Vit_D_µg            116\n",
       "Lut+Zea_ (µg)       512\n",
       "Beta_Carot_(µg)     556\n",
       "Vit_D_IU            238\n",
       "Retinol_(µg)        443\n",
       "Vit_C_(mg)          564\n",
       "dtype: int64"
      ]
     },
     "execution_count": 16,
     "metadata": {},
     "output_type": "execute_result"
    }
   ],
   "source": [
    "data[low_unique].nunique()"
   ]
  },
  {
   "cell_type": "markdown",
   "metadata": {
    "slideshow": {
     "slide_type": "slide"
    }
   },
   "source": [
    "# Посмотрим схожие данные"
   ]
  },
  {
   "cell_type": "code",
   "execution_count": 17,
   "metadata": {
    "slideshow": {
     "slide_type": "fragment"
    }
   },
   "outputs": [
    {
     "data": {
      "text/html": [
       "<div>\n",
       "<style scoped>\n",
       "    .dataframe tbody tr th:only-of-type {\n",
       "        vertical-align: middle;\n",
       "    }\n",
       "\n",
       "    .dataframe tbody tr th {\n",
       "        vertical-align: top;\n",
       "    }\n",
       "\n",
       "    .dataframe thead th {\n",
       "        text-align: right;\n",
       "    }\n",
       "</style>\n",
       "<table border=\"1\" class=\"dataframe\">\n",
       "  <thead>\n",
       "    <tr style=\"text-align: right;\">\n",
       "      <th></th>\n",
       "      <th>Vit_D_µg</th>\n",
       "      <th>Vit_D_IU</th>\n",
       "    </tr>\n",
       "  </thead>\n",
       "  <tbody>\n",
       "    <tr>\n",
       "      <th>Vit_D_µg</th>\n",
       "      <td>1.000000</td>\n",
       "      <td>0.999987</td>\n",
       "    </tr>\n",
       "    <tr>\n",
       "      <th>Vit_D_IU</th>\n",
       "      <td>0.999987</td>\n",
       "      <td>1.000000</td>\n",
       "    </tr>\n",
       "  </tbody>\n",
       "</table>\n",
       "</div>"
      ],
      "text/plain": [
       "          Vit_D_µg  Vit_D_IU\n",
       "Vit_D_µg  1.000000  0.999987\n",
       "Vit_D_IU  0.999987  1.000000"
      ]
     },
     "execution_count": 17,
     "metadata": {},
     "output_type": "execute_result"
    }
   ],
   "source": [
    "x = data[['Vit_D_µg', 'Vit_D_IU']]\n",
    "x.corr()"
   ]
  },
  {
   "cell_type": "code",
   "execution_count": 18,
   "metadata": {
    "slideshow": {
     "slide_type": "fragment"
    }
   },
   "outputs": [
    {
     "data": {
      "text/html": [
       "<div>\n",
       "<style scoped>\n",
       "    .dataframe tbody tr th:only-of-type {\n",
       "        vertical-align: middle;\n",
       "    }\n",
       "\n",
       "    .dataframe tbody tr th {\n",
       "        vertical-align: top;\n",
       "    }\n",
       "\n",
       "    .dataframe thead th {\n",
       "        text-align: right;\n",
       "    }\n",
       "</style>\n",
       "<table border=\"1\" class=\"dataframe\">\n",
       "  <thead>\n",
       "    <tr style=\"text-align: right;\">\n",
       "      <th></th>\n",
       "      <th>Vit_A_RAE</th>\n",
       "      <th>Vit_A_IU</th>\n",
       "      <th>Retinol_(µg)</th>\n",
       "    </tr>\n",
       "  </thead>\n",
       "  <tbody>\n",
       "    <tr>\n",
       "      <th>Vit_A_RAE</th>\n",
       "      <td>1.000000</td>\n",
       "      <td>0.845111</td>\n",
       "      <td>0.989198</td>\n",
       "    </tr>\n",
       "    <tr>\n",
       "      <th>Vit_A_IU</th>\n",
       "      <td>0.845111</td>\n",
       "      <td>1.000000</td>\n",
       "      <td>0.762014</td>\n",
       "    </tr>\n",
       "    <tr>\n",
       "      <th>Retinol_(µg)</th>\n",
       "      <td>0.989198</td>\n",
       "      <td>0.762014</td>\n",
       "      <td>1.000000</td>\n",
       "    </tr>\n",
       "  </tbody>\n",
       "</table>\n",
       "</div>"
      ],
      "text/plain": [
       "              Vit_A_RAE  Vit_A_IU  Retinol_(µg)\n",
       "Vit_A_RAE      1.000000  0.845111      0.989198\n",
       "Vit_A_IU       0.845111  1.000000      0.762014\n",
       "Retinol_(µg)   0.989198  0.762014      1.000000"
      ]
     },
     "execution_count": 18,
     "metadata": {},
     "output_type": "execute_result"
    }
   ],
   "source": [
    "x = data[['Vit_A_RAE', 'Vit_A_IU', 'Retinol_(µg)']]\n",
    "x.corr()"
   ]
  },
  {
   "cell_type": "code",
   "execution_count": 19,
   "metadata": {
    "slideshow": {
     "slide_type": "fragment"
    }
   },
   "outputs": [],
   "source": [
    "c = data.corr().abs()\n",
    "k = 0\n",
    "max_corr = pd.DataFrame(columns=[1,2,3])\n",
    "for i in c.columns:\n",
    "    for j in c.columns:\n",
    "        if i != j:\n",
    "            max_corr.loc[k] = [i, j, c[i][j]]\n",
    "            k += 1"
   ]
  },
  {
   "cell_type": "code",
   "execution_count": 20,
   "metadata": {
    "slideshow": {
     "slide_type": "subslide"
    }
   },
   "outputs": [
    {
     "data": {
      "text/html": [
       "<div>\n",
       "<style scoped>\n",
       "    .dataframe tbody tr th:only-of-type {\n",
       "        vertical-align: middle;\n",
       "    }\n",
       "\n",
       "    .dataframe tbody tr th {\n",
       "        vertical-align: top;\n",
       "    }\n",
       "\n",
       "    .dataframe thead th {\n",
       "        text-align: right;\n",
       "    }\n",
       "</style>\n",
       "<table border=\"1\" class=\"dataframe\">\n",
       "  <thead>\n",
       "    <tr style=\"text-align: right;\">\n",
       "      <th></th>\n",
       "      <th>1</th>\n",
       "      <th>2</th>\n",
       "      <th>3</th>\n",
       "    </tr>\n",
       "  </thead>\n",
       "  <tbody>\n",
       "    <tr>\n",
       "      <th>143</th>\n",
       "      <td>Ash_(g)</td>\n",
       "      <td>Sodium_(mg)</td>\n",
       "      <td>0.824816</td>\n",
       "    </tr>\n",
       "    <tr>\n",
       "      <th>1349</th>\n",
       "      <td>Vit_A_RAE</td>\n",
       "      <td>Vit_A_IU</td>\n",
       "      <td>0.845111</td>\n",
       "    </tr>\n",
       "    <tr>\n",
       "      <th>1305</th>\n",
       "      <td>Vit_A_IU</td>\n",
       "      <td>Vit_A_RAE</td>\n",
       "      <td>0.845111</td>\n",
       "    </tr>\n",
       "    <tr>\n",
       "      <th>1079</th>\n",
       "      <td>Folic_Acid_(µg)</td>\n",
       "      <td>Folate_Tot_(µg)</td>\n",
       "      <td>0.879410</td>\n",
       "    </tr>\n",
       "    <tr>\n",
       "      <th>1035</th>\n",
       "      <td>Folate_Tot_(µg)</td>\n",
       "      <td>Folic_Acid_(µg)</td>\n",
       "      <td>0.879410</td>\n",
       "    </tr>\n",
       "    <tr>\n",
       "      <th>1850</th>\n",
       "      <td>FA_Mono_(g)</td>\n",
       "      <td>Lipid_Tot_(g)</td>\n",
       "      <td>0.885998</td>\n",
       "    </tr>\n",
       "    <tr>\n",
       "      <th>129</th>\n",
       "      <td>Lipid_Tot_(g)</td>\n",
       "      <td>FA_Mono_(g)</td>\n",
       "      <td>0.885998</td>\n",
       "    </tr>\n",
       "    <tr>\n",
       "      <th>1081</th>\n",
       "      <td>Folic_Acid_(µg)</td>\n",
       "      <td>Folate_DFE_(µg)</td>\n",
       "      <td>0.952167</td>\n",
       "    </tr>\n",
       "    <tr>\n",
       "      <th>1168</th>\n",
       "      <td>Folate_DFE_(µg)</td>\n",
       "      <td>Folic_Acid_(µg)</td>\n",
       "      <td>0.952167</td>\n",
       "    </tr>\n",
       "    <tr>\n",
       "      <th>1167</th>\n",
       "      <td>Folate_DFE_(µg)</td>\n",
       "      <td>Folate_Tot_(µg)</td>\n",
       "      <td>0.982819</td>\n",
       "    </tr>\n",
       "    <tr>\n",
       "      <th>1037</th>\n",
       "      <td>Folate_Tot_(µg)</td>\n",
       "      <td>Folate_DFE_(µg)</td>\n",
       "      <td>0.982819</td>\n",
       "    </tr>\n",
       "    <tr>\n",
       "      <th>1394</th>\n",
       "      <td>Retinol_(µg)</td>\n",
       "      <td>Vit_A_RAE</td>\n",
       "      <td>0.989198</td>\n",
       "    </tr>\n",
       "    <tr>\n",
       "      <th>1350</th>\n",
       "      <td>Vit_A_RAE</td>\n",
       "      <td>Retinol_(µg)</td>\n",
       "      <td>0.989198</td>\n",
       "    </tr>\n",
       "    <tr>\n",
       "      <th>1754</th>\n",
       "      <td>Vit_D_IU</td>\n",
       "      <td>Vit_D_µg</td>\n",
       "      <td>0.999987</td>\n",
       "    </tr>\n",
       "    <tr>\n",
       "      <th>1710</th>\n",
       "      <td>Vit_D_µg</td>\n",
       "      <td>Vit_D_IU</td>\n",
       "      <td>0.999987</td>\n",
       "    </tr>\n",
       "  </tbody>\n",
       "</table>\n",
       "</div>"
      ],
      "text/plain": [
       "                    1                2         3\n",
       "143           Ash_(g)      Sodium_(mg)  0.824816\n",
       "1349        Vit_A_RAE         Vit_A_IU  0.845111\n",
       "1305         Vit_A_IU        Vit_A_RAE  0.845111\n",
       "1079  Folic_Acid_(µg)  Folate_Tot_(µg)  0.879410\n",
       "1035  Folate_Tot_(µg)  Folic_Acid_(µg)  0.879410\n",
       "1850      FA_Mono_(g)    Lipid_Tot_(g)  0.885998\n",
       "129     Lipid_Tot_(g)      FA_Mono_(g)  0.885998\n",
       "1081  Folic_Acid_(µg)  Folate_DFE_(µg)  0.952167\n",
       "1168  Folate_DFE_(µg)  Folic_Acid_(µg)  0.952167\n",
       "1167  Folate_DFE_(µg)  Folate_Tot_(µg)  0.982819\n",
       "1037  Folate_Tot_(µg)  Folate_DFE_(µg)  0.982819\n",
       "1394     Retinol_(µg)        Vit_A_RAE  0.989198\n",
       "1350        Vit_A_RAE     Retinol_(µg)  0.989198\n",
       "1754         Vit_D_IU         Vit_D_µg  0.999987\n",
       "1710         Vit_D_µg         Vit_D_IU  0.999987"
      ]
     },
     "execution_count": 20,
     "metadata": {},
     "output_type": "execute_result"
    }
   ],
   "source": [
    "max_corr.sort_values(by=3).tail(15)"
   ]
  },
  {
   "cell_type": "code",
   "execution_count": 21,
   "metadata": {
    "slideshow": {
     "slide_type": "subslide"
    }
   },
   "outputs": [
    {
     "data": {
      "text/html": [
       "<div>\n",
       "<style scoped>\n",
       "    .dataframe tbody tr th:only-of-type {\n",
       "        vertical-align: middle;\n",
       "    }\n",
       "\n",
       "    .dataframe tbody tr th {\n",
       "        vertical-align: top;\n",
       "    }\n",
       "\n",
       "    .dataframe thead th {\n",
       "        text-align: right;\n",
       "    }\n",
       "</style>\n",
       "<table border=\"1\" class=\"dataframe\">\n",
       "  <thead>\n",
       "    <tr style=\"text-align: right;\">\n",
       "      <th></th>\n",
       "      <th>Folate_Tot_(µg)</th>\n",
       "      <th>Folate_DFE_(µg)</th>\n",
       "      <th>Folic_Acid_(µg)</th>\n",
       "    </tr>\n",
       "  </thead>\n",
       "  <tbody>\n",
       "    <tr>\n",
       "      <th>Folate_Tot_(µg)</th>\n",
       "      <td>1.000000</td>\n",
       "      <td>0.982819</td>\n",
       "      <td>0.879410</td>\n",
       "    </tr>\n",
       "    <tr>\n",
       "      <th>Folate_DFE_(µg)</th>\n",
       "      <td>0.982819</td>\n",
       "      <td>1.000000</td>\n",
       "      <td>0.952167</td>\n",
       "    </tr>\n",
       "    <tr>\n",
       "      <th>Folic_Acid_(µg)</th>\n",
       "      <td>0.879410</td>\n",
       "      <td>0.952167</td>\n",
       "      <td>1.000000</td>\n",
       "    </tr>\n",
       "  </tbody>\n",
       "</table>\n",
       "</div>"
      ],
      "text/plain": [
       "                 Folate_Tot_(µg)  Folate_DFE_(µg)  Folic_Acid_(µg)\n",
       "Folate_Tot_(µg)         1.000000         0.982819         0.879410\n",
       "Folate_DFE_(µg)         0.982819         1.000000         0.952167\n",
       "Folic_Acid_(µg)         0.879410         0.952167         1.000000"
      ]
     },
     "execution_count": 21,
     "metadata": {},
     "output_type": "execute_result"
    }
   ],
   "source": [
    "x = data[['Folate_Tot_(µg)', 'Folate_DFE_(µg)', 'Folic_Acid_(µg)']]\n",
    "x.corr()"
   ]
  },
  {
   "cell_type": "code",
   "execution_count": 22,
   "metadata": {
    "slideshow": {
     "slide_type": "subslide"
    }
   },
   "outputs": [
    {
     "data": {
      "text/html": [
       "<div>\n",
       "<style scoped>\n",
       "    .dataframe tbody tr th:only-of-type {\n",
       "        vertical-align: middle;\n",
       "    }\n",
       "\n",
       "    .dataframe tbody tr th {\n",
       "        vertical-align: top;\n",
       "    }\n",
       "\n",
       "    .dataframe thead th {\n",
       "        text-align: right;\n",
       "    }\n",
       "</style>\n",
       "<table border=\"1\" class=\"dataframe\">\n",
       "  <thead>\n",
       "    <tr style=\"text-align: right;\">\n",
       "      <th></th>\n",
       "      <th>Shrt_Desc</th>\n",
       "      <th>Water_(g)</th>\n",
       "      <th>Protein_(g)</th>\n",
       "      <th>Lipid_Tot_(g)</th>\n",
       "      <th>Ash_(g)</th>\n",
       "      <th>Carbohydrt_(g)</th>\n",
       "      <th>Fiber_TD_(g)</th>\n",
       "      <th>Sugar_Tot_(g)</th>\n",
       "      <th>Calcium_(mg)</th>\n",
       "      <th>Iron_(mg)</th>\n",
       "      <th>...</th>\n",
       "      <th>Beta_Crypt_(µg)</th>\n",
       "      <th>Lycopene_(µg)</th>\n",
       "      <th>Lut+Zea_ (µg)</th>\n",
       "      <th>Vit_E_(mg)</th>\n",
       "      <th>Vit_D_µg</th>\n",
       "      <th>Vit_K_(µg)</th>\n",
       "      <th>FA_Sat_(g)</th>\n",
       "      <th>FA_Mono_(g)</th>\n",
       "      <th>FA_Poly_(g)</th>\n",
       "      <th>Cholestrl_(mg)</th>\n",
       "    </tr>\n",
       "  </thead>\n",
       "  <tbody>\n",
       "    <tr>\n",
       "      <th>0</th>\n",
       "      <td>BABYFOOD,CRL,OATMEAL,W/BANANAS,DRY</td>\n",
       "      <td>4.70</td>\n",
       "      <td>12.00</td>\n",
       "      <td>6.00</td>\n",
       "      <td>3.90</td>\n",
       "      <td>73.40</td>\n",
       "      <td>5.2</td>\n",
       "      <td>13.75</td>\n",
       "      <td>651.0</td>\n",
       "      <td>47.50</td>\n",
       "      <td>...</td>\n",
       "      <td>0.0</td>\n",
       "      <td>0.0</td>\n",
       "      <td>157.0</td>\n",
       "      <td>5.00</td>\n",
       "      <td>0.0</td>\n",
       "      <td>3.0</td>\n",
       "      <td>1.267</td>\n",
       "      <td>1.429</td>\n",
       "      <td>2.186</td>\n",
       "      <td>0.0</td>\n",
       "    </tr>\n",
       "    <tr>\n",
       "      <th>1</th>\n",
       "      <td>HEARTS OF PALM,CANNED</td>\n",
       "      <td>90.20</td>\n",
       "      <td>2.52</td>\n",
       "      <td>0.62</td>\n",
       "      <td>2.04</td>\n",
       "      <td>4.62</td>\n",
       "      <td>2.4</td>\n",
       "      <td>NaN</td>\n",
       "      <td>58.0</td>\n",
       "      <td>3.13</td>\n",
       "      <td>...</td>\n",
       "      <td>NaN</td>\n",
       "      <td>NaN</td>\n",
       "      <td>NaN</td>\n",
       "      <td>NaN</td>\n",
       "      <td>0.0</td>\n",
       "      <td>NaN</td>\n",
       "      <td>0.130</td>\n",
       "      <td>0.103</td>\n",
       "      <td>0.202</td>\n",
       "      <td>0.0</td>\n",
       "    </tr>\n",
       "    <tr>\n",
       "      <th>2</th>\n",
       "      <td>CHICKEN,BROILERS OR FRYERS,THIGH,MEAT ONLY,CKD...</td>\n",
       "      <td>63.89</td>\n",
       "      <td>24.06</td>\n",
       "      <td>11.09</td>\n",
       "      <td>1.56</td>\n",
       "      <td>0.00</td>\n",
       "      <td>0.0</td>\n",
       "      <td>0.00</td>\n",
       "      <td>13.0</td>\n",
       "      <td>0.97</td>\n",
       "      <td>...</td>\n",
       "      <td>0.0</td>\n",
       "      <td>0.0</td>\n",
       "      <td>0.0</td>\n",
       "      <td>0.25</td>\n",
       "      <td>NaN</td>\n",
       "      <td>0.0</td>\n",
       "      <td>2.866</td>\n",
       "      <td>4.878</td>\n",
       "      <td>1.673</td>\n",
       "      <td>130.0</td>\n",
       "    </tr>\n",
       "    <tr>\n",
       "      <th>3</th>\n",
       "      <td>PORK,CURED,SHLDR,ARM PICNIC,LN&amp;FAT,RSTD</td>\n",
       "      <td>54.73</td>\n",
       "      <td>20.43</td>\n",
       "      <td>21.35</td>\n",
       "      <td>3.51</td>\n",
       "      <td>0.00</td>\n",
       "      <td>0.0</td>\n",
       "      <td>0.00</td>\n",
       "      <td>10.0</td>\n",
       "      <td>0.95</td>\n",
       "      <td>...</td>\n",
       "      <td>0.0</td>\n",
       "      <td>0.0</td>\n",
       "      <td>0.0</td>\n",
       "      <td>0.24</td>\n",
       "      <td>0.7</td>\n",
       "      <td>0.0</td>\n",
       "      <td>7.670</td>\n",
       "      <td>10.140</td>\n",
       "      <td>2.320</td>\n",
       "      <td>58.0</td>\n",
       "    </tr>\n",
       "    <tr>\n",
       "      <th>4</th>\n",
       "      <td>VINEGAR,DISTILLED</td>\n",
       "      <td>94.78</td>\n",
       "      <td>0.00</td>\n",
       "      <td>0.00</td>\n",
       "      <td>0.02</td>\n",
       "      <td>0.04</td>\n",
       "      <td>0.0</td>\n",
       "      <td>0.04</td>\n",
       "      <td>6.0</td>\n",
       "      <td>0.03</td>\n",
       "      <td>...</td>\n",
       "      <td>0.0</td>\n",
       "      <td>0.0</td>\n",
       "      <td>0.0</td>\n",
       "      <td>0.00</td>\n",
       "      <td>0.0</td>\n",
       "      <td>0.0</td>\n",
       "      <td>0.000</td>\n",
       "      <td>0.000</td>\n",
       "      <td>0.000</td>\n",
       "      <td>0.0</td>\n",
       "    </tr>\n",
       "  </tbody>\n",
       "</table>\n",
       "<p>5 rows × 43 columns</p>\n",
       "</div>"
      ],
      "text/plain": [
       "                                           Shrt_Desc  Water_(g)  Protein_(g)  \\\n",
       "0                 BABYFOOD,CRL,OATMEAL,W/BANANAS,DRY       4.70        12.00   \n",
       "1                              HEARTS OF PALM,CANNED      90.20         2.52   \n",
       "2  CHICKEN,BROILERS OR FRYERS,THIGH,MEAT ONLY,CKD...      63.89        24.06   \n",
       "3            PORK,CURED,SHLDR,ARM PICNIC,LN&FAT,RSTD      54.73        20.43   \n",
       "4                                  VINEGAR,DISTILLED      94.78         0.00   \n",
       "\n",
       "   Lipid_Tot_(g)  Ash_(g)  Carbohydrt_(g)  Fiber_TD_(g)  Sugar_Tot_(g)  \\\n",
       "0           6.00     3.90           73.40           5.2          13.75   \n",
       "1           0.62     2.04            4.62           2.4            NaN   \n",
       "2          11.09     1.56            0.00           0.0           0.00   \n",
       "3          21.35     3.51            0.00           0.0           0.00   \n",
       "4           0.00     0.02            0.04           0.0           0.04   \n",
       "\n",
       "   Calcium_(mg)  Iron_(mg)  ...  Beta_Crypt_(µg)  Lycopene_(µg)  \\\n",
       "0         651.0      47.50  ...              0.0            0.0   \n",
       "1          58.0       3.13  ...              NaN            NaN   \n",
       "2          13.0       0.97  ...              0.0            0.0   \n",
       "3          10.0       0.95  ...              0.0            0.0   \n",
       "4           6.0       0.03  ...              0.0            0.0   \n",
       "\n",
       "   Lut+Zea_ (µg)  Vit_E_(mg)  Vit_D_µg  Vit_K_(µg)  FA_Sat_(g)  FA_Mono_(g)  \\\n",
       "0          157.0        5.00       0.0         3.0       1.267        1.429   \n",
       "1            NaN         NaN       0.0         NaN       0.130        0.103   \n",
       "2            0.0        0.25       NaN         0.0       2.866        4.878   \n",
       "3            0.0        0.24       0.7         0.0       7.670       10.140   \n",
       "4            0.0        0.00       0.0         0.0       0.000        0.000   \n",
       "\n",
       "   FA_Poly_(g)  Cholestrl_(mg)  \n",
       "0        2.186             0.0  \n",
       "1        0.202             0.0  \n",
       "2        1.673           130.0  \n",
       "3        2.320            58.0  \n",
       "4        0.000             0.0  \n",
       "\n",
       "[5 rows x 43 columns]"
      ]
     },
     "execution_count": 22,
     "metadata": {},
     "output_type": "execute_result"
    }
   ],
   "source": [
    "data = data.drop('Folate_DFE_(µg)', axis=1)\n",
    "data = data.drop('Vit_D_IU', axis=1)\n",
    "data = data.drop('Vit_A_RAE', axis=1)\n",
    "data.head()"
   ]
  },
  {
   "cell_type": "markdown",
   "metadata": {
    "slideshow": {
     "slide_type": "slide"
    }
   },
   "source": [
    "# Посмотрим теперь корреляцию на тренировочных данных относительно целевой переменной"
   ]
  },
  {
   "cell_type": "code",
   "execution_count": 23,
   "metadata": {
    "slideshow": {
     "slide_type": "subslide"
    }
   },
   "outputs": [
    {
     "name": "stdout",
     "output_type": "stream",
     "text": [
      "Наивысшая позитивная корреляция: \n",
      " Folate_DFE_(µg)    0.172081\n",
      "Thiamin_(mg)       0.176550\n",
      "Phosphorus_(mg)    0.182193\n",
      "Folate_Tot_(µg)    0.183073\n",
      "Fiber_TD_(g)       0.195570\n",
      "Iron_(mg)          0.197149\n",
      "Magnesium_(mg)     0.255336\n",
      "Sugar_Tot_(g)      0.350955\n",
      "Vit_E_(mg)         0.374964\n",
      "Carbohydrt_(g)     0.483376\n",
      "FA_Poly_(g)        0.611080\n",
      "FA_Sat_(g)         0.625742\n",
      "FA_Mono_(g)        0.694226\n",
      "Lipid_Tot_(g)      0.809028\n",
      "Energ_Kcal         1.000000\n",
      "Name: Energ_Kcal, dtype: float64\n",
      "\n",
      "Наивысшая негативная корреляция: \n",
      " Water_(g)          -0.898171\n",
      "GmWt_1             -0.403398\n",
      "Lut+Zea_ (µg)      -0.117167\n",
      "GmWt_2             -0.105206\n",
      "Beta_Carot_(µg)    -0.103728\n",
      "Refuse_Pct         -0.085480\n",
      "Lycopene_(µg)      -0.074288\n",
      "Alpha_Carot_(µg)   -0.059196\n",
      "Vit_K_(µg)         -0.029450\n",
      "Vit_C_(mg)         -0.025274\n",
      "Beta_Crypt_(µg)    -0.024588\n",
      "Vit_A_IU           -0.022399\n",
      "Vit_B12_(µg)       -0.005924\n",
      "Cholestrl_(mg)      0.019095\n",
      "Vit_A_RAE           0.035337\n",
      "Name: Energ_Kcal, dtype: float64\n"
     ]
    }
   ],
   "source": [
    "correlation = data_train.corr()['Energ_Kcal'].sort_values()\n",
    "print('Наивысшая позитивная корреляция: \\n', correlation.tail(15))\n",
    "print('\\nНаивысшая негативная корреляция: \\n', correlation.head(15))"
   ]
  },
  {
   "cell_type": "markdown",
   "metadata": {
    "slideshow": {
     "slide_type": "slide"
    }
   },
   "source": [
    "### Таким образом мы видим как различные столбцы влияют на целевую переменную. Проанализируем полиномиальные свойства основных корреляционных величин."
   ]
  },
  {
   "cell_type": "code",
   "execution_count": 24,
   "metadata": {
    "slideshow": {
     "slide_type": "fragment"
    }
   },
   "outputs": [
    {
     "name": "stdout",
     "output_type": "stream",
     "text": [
      "Water_(g)                    -0.897195\n",
      "Water_(g)^2                  -0.881036\n",
      "Water_(g)^3                  -0.836397\n",
      "Carbohydrt_(g) Water_(g)^2   -0.468144\n",
      "Carbohydrt_(g) Water_(g)     -0.234835\n",
      "FA_Poly_(g) Water_(g)^2      -0.068240\n",
      "FA_Mono_(g) Water_(g)^2      -0.045455\n",
      "FA_Sat_(g) Water_(g)^2       -0.020151\n",
      "Lipid_Tot_(g) Water_(g)^2     0.008566\n",
      "FA_Poly_(g) Water_(g)         0.105731\n",
      "Name: Energ_Kcal, dtype: float64\n",
      "Lipid_Tot_(g) FA_Mono_(g)       0.575547\n",
      "Lipid_Tot_(g)^3                 0.578063\n",
      "FA_Poly_(g)                     0.594841\n",
      "Lipid_Tot_(g) Carbohydrt_(g)    0.603304\n",
      "FA_Sat_(g)                      0.617355\n",
      "Lipid_Tot_(g)^2                 0.663735\n",
      "FA_Mono_(g)                     0.674136\n",
      "Lipid_Tot_(g)                   0.809028\n",
      "Energ_Kcal                      1.000000\n",
      "1                                    NaN\n",
      "Name: Energ_Kcal, dtype: float64\n"
     ]
    },
    {
     "name": "stderr",
     "output_type": "stream",
     "text": [
      "/Users/romakindmitriy/anaconda3/lib/python3.7/site-packages/sklearn/utils/deprecation.py:58: DeprecationWarning: Class Imputer is deprecated; Imputer was deprecated in version 0.20 and will be removed in 0.22. Import impute.SimpleImputer from sklearn instead.\n",
      "  warnings.warn(msg, category=DeprecationWarning)\n"
     ]
    }
   ],
   "source": [
    "poly_target = Y\n",
    "col = ['Lipid_Tot_(g)', 'FA_Mono_(g)', 'FA_Sat_(g)', 'FA_Poly_(g)', 'Carbohydrt_(g)', 'Water_(g)']\n",
    "poly_features = data[col]\n",
    "from sklearn.preprocessing import Imputer\n",
    "imputer = Imputer(strategy='median')\n",
    "poly_features = imputer.fit_transform(poly_features)\n",
    "from sklearn.preprocessing import PolynomialFeatures\n",
    "poly_transformer = PolynomialFeatures(degree=3)\n",
    "poly_transformer.fit(poly_features)\n",
    "poly_features = poly_transformer.transform(poly_features)\n",
    "#print(poly_transformer.get_feature_names())\n",
    "poly_transformer.get_feature_names(input_features = col)[:15]\n",
    "poly_features = pd.DataFrame(poly_features, \n",
    "                             columns = poly_transformer.get_feature_names(col))\n",
    "poly_features['Energ_Kcal'] = poly_target\n",
    "corr = poly_features.corr()['Energ_Kcal'].sort_values()\n",
    "print(corr.head(10))\n",
    "print(corr.tail(10))"
   ]
  },
  {
   "cell_type": "code",
   "execution_count": 25,
   "metadata": {
    "slideshow": {
     "slide_type": "subslide"
    }
   },
   "outputs": [
    {
     "data": {
      "text/plain": [
       "<matplotlib.axes._subplots.AxesSubplot at 0x1a1761b978>"
      ]
     },
     "execution_count": 25,
     "metadata": {},
     "output_type": "execute_result"
    },
    {
     "data": {
      "image/png": "[encoded data removed]",
      "text/plain": [
       "<Figure size 432x288 with 1 Axes>"
      ]
     },
     "metadata": {
      "needs_background": "light"
     },
     "output_type": "display_data"
    }
   ],
   "source": [
    "data_train.plot.scatter(x='Water_(g)', y='Energ_Kcal')"
   ]
  },
  {
   "cell_type": "code",
   "execution_count": 26,
   "metadata": {
    "slideshow": {
     "slide_type": "-"
    }
   },
   "outputs": [
    {
     "ename": "NameError",
     "evalue": "name 'tr' is not defined",
     "output_type": "error",
     "traceback": [
      "\u001b[0;31m---------------------------------------------------------------------------\u001b[0m",
      "\u001b[0;31mNameError\u001b[0m                                 Traceback (most recent call last)",
      "\u001b[0;32m<ipython-input-26-1f655efa37f9>\u001b[0m in \u001b[0;36m<module>\u001b[0;34m\u001b[0m\n\u001b[1;32m      1\u001b[0m \u001b[0mfar_values\u001b[0m \u001b[0;34m=\u001b[0m \u001b[0mdata_train\u001b[0m\u001b[0;34m.\u001b[0m\u001b[0mfillna\u001b[0m\u001b[0;34m(\u001b[0m\u001b[0;36m0\u001b[0m\u001b[0;34m)\u001b[0m\u001b[0;34m.\u001b[0m\u001b[0miloc\u001b[0m\u001b[0;34m[\u001b[0m\u001b[0;34m:\u001b[0m\u001b[0;34m,\u001b[0m \u001b[0;34m:\u001b[0m\u001b[0;34m-\u001b[0m\u001b[0;36m6\u001b[0m\u001b[0;34m]\u001b[0m\u001b[0;34m\u001b[0m\u001b[0;34m\u001b[0m\u001b[0m\n\u001b[0;32m----> 2\u001b[0;31m \u001b[0mfar_values\u001b[0m\u001b[0;34m[\u001b[0m\u001b[0;34m'check'\u001b[0m\u001b[0;34m]\u001b[0m \u001b[0;34m=\u001b[0m \u001b[0mfar_values\u001b[0m\u001b[0;34m[\u001b[0m\u001b[0;34m'Water_(g)'\u001b[0m\u001b[0;34m]\u001b[0m \u001b[0;34m+\u001b[0m \u001b[0mtr\u001b[0m\u001b[0;34m[\u001b[0m\u001b[0;34m'Energ_Kcal'\u001b[0m\u001b[0;34m]\u001b[0m\u001b[0;34m\u001b[0m\u001b[0;34m\u001b[0m\u001b[0m\n\u001b[0m\u001b[1;32m      3\u001b[0m \u001b[0mfar_values\u001b[0m\u001b[0;34m.\u001b[0m\u001b[0msort_values\u001b[0m\u001b[0;34m(\u001b[0m\u001b[0mby\u001b[0m\u001b[0;34m=\u001b[0m\u001b[0;34m'check'\u001b[0m\u001b[0;34m,\u001b[0m \u001b[0mascending\u001b[0m\u001b[0;34m=\u001b[0m\u001b[0;32mFalse\u001b[0m\u001b[0;34m)\u001b[0m\u001b[0;34m.\u001b[0m\u001b[0mtail\u001b[0m\u001b[0;34m(\u001b[0m\u001b[0;36m4\u001b[0m\u001b[0;34m)\u001b[0m\u001b[0;34m\u001b[0m\u001b[0;34m\u001b[0m\u001b[0m\n",
      "\u001b[0;31mNameError\u001b[0m: name 'tr' is not defined"
     ]
    }
   ],
   "source": [
    "far_values = data_train.fillna(0).iloc[:, :-6]\n",
    "far_values['check'] = far_values['Water_(g)'] + tr['Energ_Kcal']\n",
    "far_values.sort_values(by='check', ascending=False).tail(4)"
   ]
  },
  {
   "cell_type": "code",
   "execution_count": 27,
   "metadata": {
    "slideshow": {
     "slide_type": "-"
    }
   },
   "outputs": [
    {
     "ename": "KeyError",
     "evalue": "'check'",
     "output_type": "error",
     "traceback": [
      "\u001b[0;31m---------------------------------------------------------------------------\u001b[0m",
      "\u001b[0;31mKeyError\u001b[0m                                  Traceback (most recent call last)",
      "\u001b[0;32m<ipython-input-27-fb8e52aef7ef>\u001b[0m in \u001b[0;36m<module>\u001b[0;34m\u001b[0m\n\u001b[0;32m----> 1\u001b[0;31m \u001b[0mindx\u001b[0m \u001b[0;34m=\u001b[0m \u001b[0mfar_values\u001b[0m\u001b[0;34m.\u001b[0m\u001b[0msort_values\u001b[0m\u001b[0;34m(\u001b[0m\u001b[0mby\u001b[0m\u001b[0;34m=\u001b[0m\u001b[0;34m'check'\u001b[0m\u001b[0;34m,\u001b[0m \u001b[0mascending\u001b[0m\u001b[0;34m=\u001b[0m\u001b[0;32mFalse\u001b[0m\u001b[0;34m)\u001b[0m\u001b[0;34m.\u001b[0m\u001b[0mtail\u001b[0m\u001b[0;34m(\u001b[0m\u001b[0;36m4\u001b[0m\u001b[0;34m)\u001b[0m\u001b[0;34m.\u001b[0m\u001b[0mindex\u001b[0m\u001b[0;34m\u001b[0m\u001b[0;34m\u001b[0m\u001b[0m\n\u001b[0m\u001b[1;32m      2\u001b[0m \u001b[0;32mfor\u001b[0m \u001b[0mi\u001b[0m \u001b[0;32min\u001b[0m \u001b[0mindx\u001b[0m\u001b[0;34m:\u001b[0m\u001b[0;34m\u001b[0m\u001b[0;34m\u001b[0m\u001b[0m\n\u001b[1;32m      3\u001b[0m     \u001b[0mprint\u001b[0m\u001b[0;34m(\u001b[0m\u001b[0mfar_values\u001b[0m\u001b[0;34m.\u001b[0m\u001b[0mloc\u001b[0m\u001b[0;34m[\u001b[0m\u001b[0mi\u001b[0m\u001b[0;34m]\u001b[0m\u001b[0;34m[\u001b[0m\u001b[0;34m'check'\u001b[0m\u001b[0;34m]\u001b[0m\u001b[0;34m)\u001b[0m\u001b[0;34m\u001b[0m\u001b[0;34m\u001b[0m\u001b[0m\n\u001b[1;32m      4\u001b[0m     \u001b[0;32mfor\u001b[0m \u001b[0mj\u001b[0m \u001b[0;32min\u001b[0m \u001b[0mtr\u001b[0m\u001b[0;34m.\u001b[0m\u001b[0mcolumns\u001b[0m\u001b[0;34m:\u001b[0m\u001b[0;34m\u001b[0m\u001b[0;34m\u001b[0m\u001b[0m\n\u001b[1;32m      5\u001b[0m         \u001b[0;32mif\u001b[0m \u001b[0mfar_values\u001b[0m\u001b[0;34m.\u001b[0m\u001b[0mloc\u001b[0m\u001b[0;34m[\u001b[0m\u001b[0mi\u001b[0m\u001b[0;34m]\u001b[0m\u001b[0;34m[\u001b[0m\u001b[0mj\u001b[0m\u001b[0;34m]\u001b[0m \u001b[0;34m!=\u001b[0m \u001b[0;36m0\u001b[0m\u001b[0;34m:\u001b[0m\u001b[0;34m\u001b[0m\u001b[0;34m\u001b[0m\u001b[0m\n",
      "\u001b[0;32m~/anaconda3/lib/python3.7/site-packages/pandas/core/frame.py\u001b[0m in \u001b[0;36msort_values\u001b[0;34m(self, by, axis, ascending, inplace, kind, na_position)\u001b[0m\n\u001b[1;32m   4717\u001b[0m \u001b[0;34m\u001b[0m\u001b[0m\n\u001b[1;32m   4718\u001b[0m             \u001b[0mby\u001b[0m \u001b[0;34m=\u001b[0m \u001b[0mby\u001b[0m\u001b[0;34m[\u001b[0m\u001b[0;36m0\u001b[0m\u001b[0;34m]\u001b[0m\u001b[0;34m\u001b[0m\u001b[0;34m\u001b[0m\u001b[0m\n\u001b[0;32m-> 4719\u001b[0;31m             \u001b[0mk\u001b[0m \u001b[0;34m=\u001b[0m \u001b[0mself\u001b[0m\u001b[0;34m.\u001b[0m\u001b[0m_get_label_or_level_values\u001b[0m\u001b[0;34m(\u001b[0m\u001b[0mby\u001b[0m\u001b[0;34m,\u001b[0m \u001b[0maxis\u001b[0m\u001b[0;34m=\u001b[0m\u001b[0maxis\u001b[0m\u001b[0;34m)\u001b[0m\u001b[0;34m\u001b[0m\u001b[0;34m\u001b[0m\u001b[0m\n\u001b[0m\u001b[1;32m   4720\u001b[0m \u001b[0;34m\u001b[0m\u001b[0m\n\u001b[1;32m   4721\u001b[0m             \u001b[0;32mif\u001b[0m \u001b[0misinstance\u001b[0m\u001b[0;34m(\u001b[0m\u001b[0mascending\u001b[0m\u001b[0;34m,\u001b[0m \u001b[0;34m(\u001b[0m\u001b[0mtuple\u001b[0m\u001b[0;34m,\u001b[0m \u001b[0mlist\u001b[0m\u001b[0;34m)\u001b[0m\u001b[0;34m)\u001b[0m\u001b[0;34m:\u001b[0m\u001b[0;34m\u001b[0m\u001b[0;34m\u001b[0m\u001b[0m\n",
      "\u001b[0;32m~/anaconda3/lib/python3.7/site-packages/pandas/core/generic.py\u001b[0m in \u001b[0;36m_get_label_or_level_values\u001b[0;34m(self, key, axis)\u001b[0m\n\u001b[1;32m   1704\u001b[0m             \u001b[0mvalues\u001b[0m \u001b[0;34m=\u001b[0m \u001b[0mself\u001b[0m\u001b[0;34m.\u001b[0m\u001b[0maxes\u001b[0m\u001b[0;34m[\u001b[0m\u001b[0maxis\u001b[0m\u001b[0;34m]\u001b[0m\u001b[0;34m.\u001b[0m\u001b[0mget_level_values\u001b[0m\u001b[0;34m(\u001b[0m\u001b[0mkey\u001b[0m\u001b[0;34m)\u001b[0m\u001b[0;34m.\u001b[0m\u001b[0m_values\u001b[0m\u001b[0;34m\u001b[0m\u001b[0;34m\u001b[0m\u001b[0m\n\u001b[1;32m   1705\u001b[0m         \u001b[0;32melse\u001b[0m\u001b[0;34m:\u001b[0m\u001b[0;34m\u001b[0m\u001b[0;34m\u001b[0m\u001b[0m\n\u001b[0;32m-> 1706\u001b[0;31m             \u001b[0;32mraise\u001b[0m \u001b[0mKeyError\u001b[0m\u001b[0;34m(\u001b[0m\u001b[0mkey\u001b[0m\u001b[0;34m)\u001b[0m\u001b[0;34m\u001b[0m\u001b[0;34m\u001b[0m\u001b[0m\n\u001b[0m\u001b[1;32m   1707\u001b[0m \u001b[0;34m\u001b[0m\u001b[0m\n\u001b[1;32m   1708\u001b[0m         \u001b[0;31m# Check for duplicates\u001b[0m\u001b[0;34m\u001b[0m\u001b[0;34m\u001b[0m\u001b[0;34m\u001b[0m\u001b[0m\n",
      "\u001b[0;31mKeyError\u001b[0m: 'check'"
     ]
    }
   ],
   "source": [
    "indx = far_values.sort_values(by='check', ascending=False).tail(4).index\n",
    "for i in indx:\n",
    "    print(far_values.loc[i]['check'])\n",
    "    for j in tr.columns:\n",
    "        if far_values.loc[i][j] != 0:\n",
    "            print(j)"
   ]
  },
  {
   "cell_type": "code",
   "execution_count": 28,
   "metadata": {
    "scrolled": true,
    "slideshow": {
     "slide_type": "subslide"
    }
   },
   "outputs": [
    {
     "data": {
      "text/plain": [
       "<matplotlib.axes._subplots.AxesSubplot at 0x1a176d5dd8>"
      ]
     },
     "execution_count": 28,
     "metadata": {},
     "output_type": "execute_result"
    },
    {
     "data": {
      "image/png": "[encoded data removed]",
      "text/plain": [
       "<Figure size 432x288 with 1 Axes>"
      ]
     },
     "metadata": {
      "needs_background": "light"
     },
     "output_type": "display_data"
    }
   ],
   "source": [
    "data_train.plot.scatter(x='Lipid_Tot_(g)', y='Energ_Kcal')"
   ]
  },
  {
   "cell_type": "code",
   "execution_count": 30,
   "metadata": {
    "slideshow": {
     "slide_type": "subslide"
    }
   },
   "outputs": [
    {
     "data": {
      "text/plain": [
       "<mpl_toolkits.mplot3d.art3d.Path3DCollection at 0x1a1a788ac8>"
      ]
     },
     "execution_count": 30,
     "metadata": {},
     "output_type": "execute_result"
    },
    {
     "data": {
      "image/png": "[encoded data removed]",
      "text/plain": [
       "<Figure size 648x648 with 1 Axes>"
      ]
     },
     "metadata": {
      "needs_background": "light"
     },
     "output_type": "display_data"
    }
   ],
   "source": [
    "fig = plt.figure(figsize=(9,9))\n",
    "ax = fig.add_subplot(111, projection='3d')\n",
    "ax.scatter(data_train['Water_(g)'], data_train['Lipid_Tot_(g)'], data_train['Energ_Kcal'])"
   ]
  },
  {
   "cell_type": "markdown",
   "metadata": {
    "slideshow": {
     "slide_type": "slide"
    }
   },
   "source": [
    "# Переведем все в граммы  "
   ]
  },
  {
   "cell_type": "code",
   "execution_count": 31,
   "metadata": {
    "slideshow": {
     "slide_type": "fragment"
    }
   },
   "outputs": [],
   "source": [
    "data['Vit_A(g)'] = data['Vit_A_IU'] * 0.3 / 100000\n",
    "data = data.drop('Vit_A_IU', axis=1)"
   ]
  },
  {
   "cell_type": "code",
   "execution_count": 32,
   "metadata": {
    "slideshow": {
     "slide_type": "fragment"
    }
   },
   "outputs": [
    {
     "data": {
      "text/plain": [
       "Index(['Shrt_Desc', 'Water_(g)', 'Protein_(g)', 'Lipid_Tot_(g)', 'Ash_(g)',\n",
       "       'Carbohydrt_(g)', 'Fiber_TD_(g)', 'Sugar_Tot_(g)', 'FA_Sat_(g)',\n",
       "       'FA_Mono_(g)', 'FA_Poly_(g)', 'Vit_A(g)', 'Calcium_(g)', 'Iron_(g)',\n",
       "       'Magnesium_(g)', 'Phosphorus_(g)', 'Potassium_(g)', 'Sodium_(g)',\n",
       "       'Zinc_(g)', 'Copper_g)', 'Manganese_(g)', 'Selenium_(g)', 'Vit_C_(g)',\n",
       "       'Thiamin_(g)', 'Riboflavin_(g)', 'Niacin_(g)', 'Panto_Acid_g)',\n",
       "       'Vit_B6_(g)', 'Folate_Tot_(g)', 'Folic_Acid_(g)', 'Food_Folate_(g)',\n",
       "       'Choline_Tot_ (g)', 'Vit_B12_(g)', 'Retinol_(g)', 'Alpha_Carot_(g)',\n",
       "       'Beta_Carot_(g)', 'Beta_Crypt_(g)', 'Lycopene_(g)', 'Lut+Zea_ (g)',\n",
       "       'Vit_E_(g)', 'Vit_D_g', 'Vit_K_(g)', 'Cholestrl_(g)'],\n",
       "      dtype='object')"
      ]
     },
     "execution_count": 32,
     "metadata": {},
     "output_type": "execute_result"
    }
   ],
   "source": [
    "columns_gr = data.columns\n",
    "for i in columns_gr:\n",
    "    if i.find('µg') != -1:\n",
    "        new_col = i.replace('µg', 'g')\n",
    "        data[new_col] = X[i] / 100000\n",
    "        data = data.drop(i, axis=1)\n",
    "    if i.find('mg') != -1:\n",
    "        new_col = i.replace('mg', 'g')\n",
    "        data[new_col] = data[i] / 1000\n",
    "        data = data.drop(i, axis=1)\n",
    "data.columns"
   ]
  },
  {
   "cell_type": "markdown",
   "metadata": {
    "slideshow": {
     "slide_type": "fragment"
    }
   },
   "source": [
    "Проверим, что мы ничего не потеряли"
   ]
  },
  {
   "cell_type": "code",
   "execution_count": 33,
   "metadata": {
    "slideshow": {
     "slide_type": "fragment"
    }
   },
   "outputs": [
    {
     "data": {
      "text/plain": [
       "(7756,)"
      ]
     },
     "execution_count": 33,
     "metadata": {},
     "output_type": "execute_result"
    }
   ],
   "source": [
    "Y.shape"
   ]
  },
  {
   "cell_type": "code",
   "execution_count": 34,
   "metadata": {
    "slideshow": {
     "slide_type": "fragment"
    }
   },
   "outputs": [
    {
     "data": {
      "text/plain": [
       "(862, 51)"
      ]
     },
     "execution_count": 34,
     "metadata": {},
     "output_type": "execute_result"
    }
   ],
   "source": [
    "data_test.shape"
   ]
  },
  {
   "cell_type": "code",
   "execution_count": 35,
   "metadata": {
    "slideshow": {
     "slide_type": "fragment"
    }
   },
   "outputs": [
    {
     "data": {
      "text/plain": [
       "(8618, 43)"
      ]
     },
     "execution_count": 35,
     "metadata": {},
     "output_type": "execute_result"
    }
   ],
   "source": [
    "data.shape"
   ]
  },
  {
   "cell_type": "code",
   "execution_count": 107,
   "metadata": {
    "slideshow": {
     "slide_type": "fragment"
    }
   },
   "outputs": [],
   "source": [
    "out = data.loc[:Y.shape[0]-1]\n",
    "out = out.join(Y)\n",
    "out.to_csv('main_train.csv', index=False)"
   ]
  },
  {
   "cell_type": "code",
   "execution_count": 108,
   "metadata": {
    "slideshow": {
     "slide_type": "fragment"
    }
   },
   "outputs": [],
   "source": [
    "out = data.loc[Y.shape[0]:]\n",
    "out.to_csv('main_test.csv', index=False)"
   ]
  }
 ],
 "metadata": {
  "celltoolbar": "Slideshow",
  "kernelspec": {
   "display_name": "Python 3",
   "language": "python",
   "name": "python3"
  },
  "language_info": {
   "codemirror_mode": {
    "name": "ipython",
    "version": 3
   },
   "file_extension": ".py",
   "mimetype": "text/x-python",
   "name": "python",
   "nbconvert_exporter": "python",
   "pygments_lexer": "ipython3",
   "version": "3.7.3"
  }
 },
 "nbformat": 4,
 "nbformat_minor": 2
}
