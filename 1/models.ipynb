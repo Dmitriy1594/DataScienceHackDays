{
 "cells": [
  {
   "cell_type": "code",
   "execution_count": 1,
   "metadata": {
    "slideshow": {
     "slide_type": "slide"
    }
   },
   "outputs": [],
   "source": [
    "import pandas as pd\n",
    "import numpy as np\n",
    "import pickle\n",
    "from sklearn.linear_model import LinearRegression\n",
    "from sklearn.ensemble import RandomForestRegressor\n",
    "from catboost import CatBoostRegressor"
   ]
  },
  {
   "cell_type": "markdown",
   "metadata": {
    "slideshow": {
     "slide_type": "fragment"
    }
   },
   "source": [
    "## Загрузка данных и их разделение на обучающую и тестовые выборки"
   ]
  },
  {
   "cell_type": "code",
   "execution_count": 2,
   "metadata": {
    "slideshow": {
     "slide_type": "fragment"
    }
   },
   "outputs": [],
   "source": [
    "load = pd.read_csv('main_train.csv')\n",
    "x = load.iloc[:, :-1]\n",
    "y = load.iloc[:, -1]\n",
    "x = x.iloc[:, 1:]\n",
    "x = x.fillna(0)"
   ]
  },
  {
   "cell_type": "code",
   "execution_count": 3,
   "metadata": {
    "slideshow": {
     "slide_type": "fragment"
    }
   },
   "outputs": [],
   "source": [
    "test_size = round(y.size * 0.3)\n",
    "test_data = x.sample(test_size)\n",
    "train_data = x.drop(x.sample(test_size).index, axis=0)\n",
    "test_y = y[test_data.index].to_numpy()\n",
    "train_y = y[train_data.index].to_numpy()"
   ]
  },
  {
   "cell_type": "markdown",
   "metadata": {
    "slideshow": {
     "slide_type": "slide"
    }
   },
   "source": [
    "# Linear Regression"
   ]
  },
  {
   "cell_type": "code",
   "execution_count": 98,
   "metadata": {
    "slideshow": {
     "slide_type": "fragment"
    }
   },
   "outputs": [],
   "source": [
    "lin_reg = LinearRegression().fit(train_data, train_y)"
   ]
  },
  {
   "cell_type": "code",
   "execution_count": 99,
   "metadata": {
    "slideshow": {
     "slide_type": "fragment"
    }
   },
   "outputs": [
    {
     "data": {
      "text/plain": [
       "6.242801890846583"
      ]
     },
     "execution_count": 99,
     "metadata": {},
     "output_type": "execute_result"
    }
   ],
   "source": [
    "sum(abs(np.round(lin_reg.predict(test_data)) - test_y))/ test_y.size"
   ]
  },
  {
   "cell_type": "code",
   "execution_count": 100,
   "metadata": {
    "slideshow": {
     "slide_type": "fragment"
    }
   },
   "outputs": [],
   "source": [
    "pkl_filename = './models/linear_regression.pkl'\n",
    "with open(pkl_filename, 'wb') as file:\n",
    "    pickle.dump(lin_reg, file)"
   ]
  },
  {
   "cell_type": "markdown",
   "metadata": {
    "slideshow": {
     "slide_type": "slide"
    }
   },
   "source": [
    "# Catboost  \n",
    "### Сначала построим простую модель и оценим важность признаков"
   ]
  },
  {
   "cell_type": "code",
   "execution_count": 109,
   "metadata": {
    "slideshow": {
     "slide_type": "fragment"
    }
   },
   "outputs": [],
   "source": [
    "catboost_reg = CatBoostRegressor(iterations=200, loss_function='MAE', depth=10, learning_rate=0.03, l2_leaf_reg=3)\n",
    "catboost_reg = catboost_reg.fit(train_data, train_y, verbose=False)"
   ]
  },
  {
   "cell_type": "code",
   "execution_count": 110,
   "metadata": {
    "scrolled": true,
    "slideshow": {
     "slide_type": "fragment"
    }
   },
   "outputs": [
    {
     "data": {
      "text/plain": [
       "10.490639818532506"
      ]
     },
     "execution_count": 110,
     "metadata": {},
     "output_type": "execute_result"
    }
   ],
   "source": [
    "sum(abs(catboost_reg.predict(test_data) - test_y)) / test_y.size"
   ]
  },
  {
   "cell_type": "code",
   "execution_count": 111,
   "metadata": {
    "slideshow": {
     "slide_type": "subslide"
    }
   },
   "outputs": [
    {
     "name": "stdout",
     "output_type": "stream",
     "text": [
      "Water_(g) 19.293182773846915\n",
      "FA_Sat_(g) 7.187742664160179\n",
      "Carbohydrt_(g) 6.681301155310559\n",
      "Lipid_Tot_(g) 6.514616022475402\n",
      "Iron_(g) 6.408420050314266\n",
      "FA_Poly_(g) 5.758381829261636\n",
      "FA_Mono_(g) 5.094183759140599\n",
      "Sugar_Tot_(g) 4.421599430752451\n",
      "Sodium_(g) 4.361119788563146\n",
      "Ash_(g) 3.2019912643230977\n",
      "Phosphorus_(g) 2.8335159196605626\n",
      "Protein_(g) 2.287209637254527\n",
      "Vit_E_(g) 1.986535322731249\n",
      "Panto_Acid_g) 1.8066954860500115\n",
      "Calcium_(g) 1.7321744834939543\n",
      "Niacin_(g) 1.729228057534088\n",
      "Zinc_(g) 1.505581852528653\n",
      "Vit_B6_(g) 1.4893884587193664\n",
      "Copper_g) 1.3179765987894478\n",
      "Manganese_(g) 1.305309829946572\n",
      "Thiamin_(g) 1.1943247042570133\n",
      "Riboflavin_(g) 1.1329610725822232\n",
      "Vit_C_(g) 1.1291127173706155\n",
      "Potassium_(g) 1.0650327596985667\n",
      "Magnesium_(g) 0.9533679994478897\n",
      "Selenium_(g) 0.9317544604769931\n",
      "Vit_B12_(g) 0.8937169468787429\n",
      "Vit_K_(g) 0.7720899460037751\n",
      "Cholestrl_(g) 0.5946589344492802\n",
      "Vit_A(g) 0.5751802482263161\n",
      "Beta_Carot_(g) 0.5683246749661328\n",
      "Fiber_TD_(g) 0.5239110536982945\n",
      "Folic_Acid_(g) 0.42842430767738243\n",
      "Retinol_(g) 0.40482649586422875\n",
      "Choline_Tot_ (g) 0.39793335699266363\n",
      "Folate_Tot_(g) 0.38525987180099347\n",
      "Food_Folate_(g) 0.37867106486621044\n",
      "Lut+Zea_ (g) 0.3192859311537686\n",
      "Beta_Crypt_(g) 0.15250565789964682\n",
      "Vit_D_g 0.14685432417428923\n",
      "Alpha_Carot_(g) 0.09275814874989494\n",
      "Lycopene_(g) 0.042890937908370855\n"
     ]
    },
    {
     "data": {
      "text/plain": [
       "['Potassium_(g)',\n",
       " 'Magnesium_(g)',\n",
       " 'Selenium_(g)',\n",
       " 'Vit_B12_(g)',\n",
       " 'Vit_K_(g)',\n",
       " 'Cholestrl_(g)',\n",
       " 'Vit_A(g)',\n",
       " 'Beta_Carot_(g)',\n",
       " 'Fiber_TD_(g)',\n",
       " 'Folic_Acid_(g)',\n",
       " 'Retinol_(g)',\n",
       " 'Choline_Tot_ (g)',\n",
       " 'Folate_Tot_(g)',\n",
       " 'Food_Folate_(g)',\n",
       " 'Lut+Zea_ (g)',\n",
       " 'Beta_Crypt_(g)',\n",
       " 'Vit_D_g',\n",
       " 'Alpha_Carot_(g)',\n",
       " 'Lycopene_(g)']"
      ]
     },
     "execution_count": 111,
     "metadata": {},
     "output_type": "execute_result"
    }
   ],
   "source": [
    "feature_importance = catboost_reg.get_feature_importance()\n",
    "features = catboost_reg.feature_names_\n",
    "deleted = []\n",
    "\n",
    "for feature_id in feature_importance.argsort()[::-1]:\n",
    "    name = features[feature_id]\n",
    "    importance = feature_importance[feature_id]\n",
    "    if importance < 1.1:\n",
    "        deleted.append(name)\n",
    "    print(name, importance)\n",
    "deleted"
   ]
  },
  {
   "cell_type": "code",
   "execution_count": 88,
   "metadata": {
    "slideshow": {
     "slide_type": "subslide"
    }
   },
   "outputs": [],
   "source": [
    "test_data_del = test_data.drop(deleted, axis=1)\n",
    "train_data_del = train_data.drop(deleted, axis=1)"
   ]
  },
  {
   "cell_type": "markdown",
   "metadata": {
    "slideshow": {
     "slide_type": "slide"
    }
   },
   "source": [
    "### Воспользуемся несколькими моделями и подберем к ним гиперпараметры"
   ]
  },
  {
   "cell_type": "markdown",
   "metadata": {
    "slideshow": {
     "slide_type": "subslide"
    }
   },
   "source": [
    "## Catboost"
   ]
  },
  {
   "cell_type": "code",
   "execution_count": 119,
   "metadata": {
    "scrolled": true,
    "slideshow": {
     "slide_type": "subslide"
    }
   },
   "outputs": [
    {
     "name": "stdout",
     "output_type": "stream",
     "text": [
      "0\n",
      "1\n",
      "2\n",
      "3\n",
      "4\n",
      "5\n",
      "6\n",
      "7\n",
      "8\n",
      "9\n",
      "10\n",
      "11\n",
      "12\n",
      "13\n",
      "14\n",
      "15\n",
      "16\n",
      "17\n",
      "18\n",
      "19\n",
      "20\n",
      "21\n",
      "22\n",
      "23\n",
      "24\n",
      "25\n",
      "26\n",
      "27\n",
      "28\n",
      "29\n",
      "30\n",
      "31\n",
      "32\n",
      "33\n",
      "34\n",
      "35\n",
      "36\n",
      "37\n",
      "38\n",
      "39\n",
      "40\n",
      "41\n",
      "42\n",
      "43\n",
      "44\n",
      "45\n",
      "46\n",
      "47\n",
      "48\n",
      "49\n",
      "50\n",
      "51\n",
      "52\n",
      "53\n",
      "54\n",
      "55\n",
      "56\n",
      "57\n",
      "58\n",
      "59\n",
      "60\n",
      "61\n",
      "62\n",
      "63\n",
      "64\n",
      "65\n",
      "66\n",
      "67\n",
      "68\n",
      "69\n",
      "70\n",
      "71\n",
      "72\n",
      "73\n",
      "74\n",
      "75\n",
      "76\n",
      "77\n",
      "78\n",
      "79\n",
      "80\n",
      "81\n",
      "82\n",
      "83\n",
      "84\n",
      "85\n",
      "86\n",
      "87\n",
      "88\n",
      "89\n",
      "90\n",
      "91\n",
      "92\n",
      "93\n",
      "94\n",
      "95\n",
      "96\n",
      "97\n",
      "98\n",
      "99\n"
     ]
    },
    {
     "data": {
      "text/html": [
       "<div>\n",
       "<style scoped>\n",
       "    .dataframe tbody tr th:only-of-type {\n",
       "        vertical-align: middle;\n",
       "    }\n",
       "\n",
       "    .dataframe tbody tr th {\n",
       "        vertical-align: top;\n",
       "    }\n",
       "\n",
       "    .dataframe thead th {\n",
       "        text-align: right;\n",
       "    }\n",
       "</style>\n",
       "<table border=\"1\" class=\"dataframe\">\n",
       "  <thead>\n",
       "    <tr style=\"text-align: right;\">\n",
       "      <th></th>\n",
       "      <th>test_mae</th>\n",
       "      <th>train_mae</th>\n",
       "      <th>learning_rate</th>\n",
       "      <th>depth</th>\n",
       "      <th>regularization</th>\n",
       "    </tr>\n",
       "  </thead>\n",
       "  <tbody>\n",
       "    <tr>\n",
       "      <th>0</th>\n",
       "      <td>9.854686</td>\n",
       "      <td>9.397392</td>\n",
       "      <td>0.01</td>\n",
       "      <td>4.0</td>\n",
       "      <td>1.0</td>\n",
       "    </tr>\n",
       "    <tr>\n",
       "      <th>1</th>\n",
       "      <td>10.048356</td>\n",
       "      <td>9.630391</td>\n",
       "      <td>0.01</td>\n",
       "      <td>4.0</td>\n",
       "      <td>3.0</td>\n",
       "    </tr>\n",
       "    <tr>\n",
       "      <th>2</th>\n",
       "      <td>9.905512</td>\n",
       "      <td>9.540087</td>\n",
       "      <td>0.01</td>\n",
       "      <td>4.0</td>\n",
       "      <td>5.0</td>\n",
       "    </tr>\n",
       "    <tr>\n",
       "      <th>3</th>\n",
       "      <td>10.091227</td>\n",
       "      <td>9.648979</td>\n",
       "      <td>0.01</td>\n",
       "      <td>4.0</td>\n",
       "      <td>7.0</td>\n",
       "    </tr>\n",
       "    <tr>\n",
       "      <th>4</th>\n",
       "      <td>10.034790</td>\n",
       "      <td>9.571564</td>\n",
       "      <td>0.01</td>\n",
       "      <td>4.0</td>\n",
       "      <td>9.0</td>\n",
       "    </tr>\n",
       "  </tbody>\n",
       "</table>\n",
       "</div>"
      ],
      "text/plain": [
       "    test_mae  train_mae  learning_rate  depth  regularization\n",
       "0   9.854686   9.397392           0.01    4.0             1.0\n",
       "1  10.048356   9.630391           0.01    4.0             3.0\n",
       "2   9.905512   9.540087           0.01    4.0             5.0\n",
       "3  10.091227   9.648979           0.01    4.0             7.0\n",
       "4  10.034790   9.571564           0.01    4.0             9.0"
      ]
     },
     "execution_count": 119,
     "metadata": {},
     "output_type": "execute_result"
    }
   ],
   "source": [
    "grid_search = pd.DataFrame(columns=['test_mae', 'train_mae', 'learning_rate', 'depth', 'regularization'])\n",
    "learning_rate = [0.01, 0.03, 0.1, 0.3]\n",
    "depth = [4, 6, 8, 10, 12]\n",
    "l2_leaf_reg = [1, 3, 5, 7, 9]\n",
    "n = 0\n",
    "for lr in learning_rate:\n",
    "    for d in depth:\n",
    "        for l in l2_leaf_reg:\n",
    "            print(n)\n",
    "            m = CatBoostRegressor(iterations=1000, loss_function='MAE', depth=d, learning_rate=lr, l2_leaf_reg=l)\n",
    "            m = m.fit(train_data, train_y, verbose=False)\n",
    "            grid_search.loc[n] = [sum(abs(m.predict(test_data) - test_y)) / test_y.size, sum(abs(m.predict(train_data) - train_y)) / train_y.size, lr, d, l]\n",
    "            n += 1\n",
    "grid_search.head()"
   ]
  },
  {
   "cell_type": "code",
   "execution_count": 127,
   "metadata": {
    "slideshow": {
     "slide_type": "subslide"
    }
   },
   "outputs": [
    {
     "data": {
      "text/html": [
       "<div>\n",
       "<style scoped>\n",
       "    .dataframe tbody tr th:only-of-type {\n",
       "        vertical-align: middle;\n",
       "    }\n",
       "\n",
       "    .dataframe tbody tr th {\n",
       "        vertical-align: top;\n",
       "    }\n",
       "\n",
       "    .dataframe thead th {\n",
       "        text-align: right;\n",
       "    }\n",
       "</style>\n",
       "<table border=\"1\" class=\"dataframe\">\n",
       "  <thead>\n",
       "    <tr style=\"text-align: right;\">\n",
       "      <th></th>\n",
       "      <th>test_mae</th>\n",
       "      <th>train_mae</th>\n",
       "      <th>learning_rate</th>\n",
       "      <th>depth</th>\n",
       "      <th>regularization</th>\n",
       "    </tr>\n",
       "  </thead>\n",
       "  <tbody>\n",
       "    <tr>\n",
       "      <th>49</th>\n",
       "      <td>4.319072</td>\n",
       "      <td>1.200481</td>\n",
       "      <td>0.03</td>\n",
       "      <td>12.0</td>\n",
       "      <td>9.0</td>\n",
       "    </tr>\n",
       "    <tr>\n",
       "      <th>48</th>\n",
       "      <td>4.404898</td>\n",
       "      <td>1.278511</td>\n",
       "      <td>0.03</td>\n",
       "      <td>12.0</td>\n",
       "      <td>7.0</td>\n",
       "    </tr>\n",
       "    <tr>\n",
       "      <th>47</th>\n",
       "      <td>4.492026</td>\n",
       "      <td>1.209247</td>\n",
       "      <td>0.03</td>\n",
       "      <td>12.0</td>\n",
       "      <td>5.0</td>\n",
       "    </tr>\n",
       "    <tr>\n",
       "      <th>42</th>\n",
       "      <td>4.711015</td>\n",
       "      <td>2.341839</td>\n",
       "      <td>0.03</td>\n",
       "      <td>10.0</td>\n",
       "      <td>5.0</td>\n",
       "    </tr>\n",
       "    <tr>\n",
       "      <th>46</th>\n",
       "      <td>4.720463</td>\n",
       "      <td>1.320972</td>\n",
       "      <td>0.03</td>\n",
       "      <td>12.0</td>\n",
       "      <td>3.0</td>\n",
       "    </tr>\n",
       "  </tbody>\n",
       "</table>\n",
       "</div>"
      ],
      "text/plain": [
       "    test_mae  train_mae  learning_rate  depth  regularization\n",
       "49  4.319072   1.200481           0.03   12.0             9.0\n",
       "48  4.404898   1.278511           0.03   12.0             7.0\n",
       "47  4.492026   1.209247           0.03   12.0             5.0\n",
       "42  4.711015   2.341839           0.03   10.0             5.0\n",
       "46  4.720463   1.320972           0.03   12.0             3.0"
      ]
     },
     "execution_count": 127,
     "metadata": {},
     "output_type": "execute_result"
    }
   ],
   "source": [
    "grid_search.sort_values(by='test_mae').head()"
   ]
  },
  {
   "cell_type": "markdown",
   "metadata": {
    "slideshow": {
     "slide_type": "slide"
    }
   },
   "source": [
    "## RandomForest"
   ]
  },
  {
   "cell_type": "code",
   "execution_count": 120,
   "metadata": {
    "slideshow": {
     "slide_type": "subslide"
    }
   },
   "outputs": [
    {
     "name": "stdout",
     "output_type": "stream",
     "text": [
      "0\n",
      "1\n",
      "2\n",
      "3\n",
      "4\n",
      "5\n",
      "6\n",
      "7\n",
      "8\n",
      "9\n",
      "10\n",
      "11\n"
     ]
    },
    {
     "data": {
      "text/html": [
       "<div>\n",
       "<style scoped>\n",
       "    .dataframe tbody tr th:only-of-type {\n",
       "        vertical-align: middle;\n",
       "    }\n",
       "\n",
       "    .dataframe tbody tr th {\n",
       "        vertical-align: top;\n",
       "    }\n",
       "\n",
       "    .dataframe thead th {\n",
       "        text-align: right;\n",
       "    }\n",
       "</style>\n",
       "<table border=\"1\" class=\"dataframe\">\n",
       "  <thead>\n",
       "    <tr style=\"text-align: right;\">\n",
       "      <th></th>\n",
       "      <th>test_mae</th>\n",
       "      <th>train_mae</th>\n",
       "      <th>estimators</th>\n",
       "      <th>depth</th>\n",
       "    </tr>\n",
       "  </thead>\n",
       "  <tbody>\n",
       "    <tr>\n",
       "      <th>0</th>\n",
       "      <td>12.759525</td>\n",
       "      <td>12.085105</td>\n",
       "      <td>100.0</td>\n",
       "      <td>5.0</td>\n",
       "    </tr>\n",
       "    <tr>\n",
       "      <th>1</th>\n",
       "      <td>6.307465</td>\n",
       "      <td>5.628604</td>\n",
       "      <td>100.0</td>\n",
       "      <td>8.0</td>\n",
       "    </tr>\n",
       "    <tr>\n",
       "      <th>2</th>\n",
       "      <td>4.830413</td>\n",
       "      <td>3.954255</td>\n",
       "      <td>100.0</td>\n",
       "      <td>10.0</td>\n",
       "    </tr>\n",
       "    <tr>\n",
       "      <th>3</th>\n",
       "      <td>3.549540</td>\n",
       "      <td>2.294258</td>\n",
       "      <td>100.0</td>\n",
       "      <td>NaN</td>\n",
       "    </tr>\n",
       "    <tr>\n",
       "      <th>4</th>\n",
       "      <td>12.648161</td>\n",
       "      <td>12.002992</td>\n",
       "      <td>200.0</td>\n",
       "      <td>5.0</td>\n",
       "    </tr>\n",
       "  </tbody>\n",
       "</table>\n",
       "</div>"
      ],
      "text/plain": [
       "    test_mae  train_mae  estimators  depth\n",
       "0  12.759525  12.085105       100.0    5.0\n",
       "1   6.307465   5.628604       100.0    8.0\n",
       "2   4.830413   3.954255       100.0   10.0\n",
       "3   3.549540   2.294258       100.0    NaN\n",
       "4  12.648161  12.002992       200.0    5.0"
      ]
     },
     "execution_count": 120,
     "metadata": {},
     "output_type": "execute_result"
    }
   ],
   "source": [
    "grid_search_randfor = pd.DataFrame(columns=['test_mae', 'train_mae', 'estimators', 'depth'])\n",
    "estimators = [100, 200, 50]\n",
    "depth = [5, 8, 10, None]\n",
    "n = 0\n",
    "for est in estimators:\n",
    "    for d in depth:\n",
    "        print(n)\n",
    "        m = RandomForestRegressor(n_estimators=est, max_depth=d, criterion='mae').fit(train_data, train_y)\n",
    "        grid_search_randfor.loc[n] = [sum(abs(m.predict(test_data) - test_y)) / test_y.size, sum(abs(m.predict(train_data) - train_y)) / train_y.size, est, d]\n",
    "        n += 1\n",
    "grid_search_randfor.head()"
   ]
  },
  {
   "cell_type": "code",
   "execution_count": 126,
   "metadata": {
    "slideshow": {
     "slide_type": "fragment"
    }
   },
   "outputs": [
    {
     "data": {
      "text/html": [
       "<div>\n",
       "<style scoped>\n",
       "    .dataframe tbody tr th:only-of-type {\n",
       "        vertical-align: middle;\n",
       "    }\n",
       "\n",
       "    .dataframe tbody tr th {\n",
       "        vertical-align: top;\n",
       "    }\n",
       "\n",
       "    .dataframe thead th {\n",
       "        text-align: right;\n",
       "    }\n",
       "</style>\n",
       "<table border=\"1\" class=\"dataframe\">\n",
       "  <thead>\n",
       "    <tr style=\"text-align: right;\">\n",
       "      <th></th>\n",
       "      <th>test_mae</th>\n",
       "      <th>train_mae</th>\n",
       "      <th>estimators</th>\n",
       "      <th>depth</th>\n",
       "    </tr>\n",
       "  </thead>\n",
       "  <tbody>\n",
       "    <tr>\n",
       "      <th>7</th>\n",
       "      <td>3.487013</td>\n",
       "      <td>2.265265</td>\n",
       "      <td>200.0</td>\n",
       "      <td>NaN</td>\n",
       "    </tr>\n",
       "    <tr>\n",
       "      <th>3</th>\n",
       "      <td>3.549540</td>\n",
       "      <td>2.294258</td>\n",
       "      <td>100.0</td>\n",
       "      <td>NaN</td>\n",
       "    </tr>\n",
       "    <tr>\n",
       "      <th>11</th>\n",
       "      <td>3.599330</td>\n",
       "      <td>2.350448</td>\n",
       "      <td>50.0</td>\n",
       "      <td>NaN</td>\n",
       "    </tr>\n",
       "    <tr>\n",
       "      <th>6</th>\n",
       "      <td>4.785035</td>\n",
       "      <td>3.907743</td>\n",
       "      <td>200.0</td>\n",
       "      <td>10.0</td>\n",
       "    </tr>\n",
       "    <tr>\n",
       "      <th>2</th>\n",
       "      <td>4.830413</td>\n",
       "      <td>3.954255</td>\n",
       "      <td>100.0</td>\n",
       "      <td>10.0</td>\n",
       "    </tr>\n",
       "  </tbody>\n",
       "</table>\n",
       "</div>"
      ],
      "text/plain": [
       "    test_mae  train_mae  estimators  depth\n",
       "7   3.487013   2.265265       200.0    NaN\n",
       "3   3.549540   2.294258       100.0    NaN\n",
       "11  3.599330   2.350448        50.0    NaN\n",
       "6   4.785035   3.907743       200.0   10.0\n",
       "2   4.830413   3.954255       100.0   10.0"
      ]
     },
     "execution_count": 126,
     "metadata": {},
     "output_type": "execute_result"
    }
   ],
   "source": [
    "grid_search_randfor.sort_values(by='test_mae').head()"
   ]
  },
  {
   "cell_type": "markdown",
   "metadata": {
    "slideshow": {
     "slide_type": "slide"
    }
   },
   "source": [
    "## Neural Net"
   ]
  },
  {
   "cell_type": "code",
   "execution_count": 13,
   "metadata": {
    "colab": {
     "base_uri": "https://localhost:8080/",
     "height": 1000
    },
    "colab_type": "code",
    "id": "iCtMBiq0WFWI",
    "outputId": "11a207e4-d4b6-45d6-a07c-e308d1fbcb3f",
    "scrolled": true,
    "slideshow": {
     "slide_type": "subslide"
    }
   },
   "outputs": [
    {
     "name": "stdout",
     "output_type": "stream",
     "text": [
      "0\n",
      "1\n",
      "2\n",
      "3\n",
      "4\n",
      "5\n",
      "6\n",
      "7\n",
      "8\n",
      "9\n",
      "10\n",
      "11\n",
      "12\n",
      "13\n",
      "14\n",
      "15\n",
      "16\n",
      "17\n",
      "18\n",
      "19\n",
      "20\n",
      "21\n",
      "22\n",
      "23\n",
      "24\n",
      "25\n",
      "26\n",
      "27\n",
      "28\n",
      "29\n",
      "30\n",
      "31\n",
      "32\n",
      "33\n",
      "34\n",
      "35\n",
      "36\n",
      "37\n",
      "38\n",
      "39\n",
      "40\n",
      "41\n",
      "42\n",
      "43\n",
      "44\n",
      "45\n",
      "46\n",
      "47\n"
     ]
    },
    {
     "data": {
      "text/html": [
       "<div>\n",
       "<style scoped>\n",
       "    .dataframe tbody tr th:only-of-type {\n",
       "        vertical-align: middle;\n",
       "    }\n",
       "\n",
       "    .dataframe tbody tr th {\n",
       "        vertical-align: top;\n",
       "    }\n",
       "\n",
       "    .dataframe thead th {\n",
       "        text-align: right;\n",
       "    }\n",
       "</style>\n",
       "<table border=\"1\" class=\"dataframe\">\n",
       "  <thead>\n",
       "    <tr style=\"text-align: right;\">\n",
       "      <th></th>\n",
       "      <th>test_mae</th>\n",
       "      <th>train_mae</th>\n",
       "      <th>neurons</th>\n",
       "      <th>epochs</th>\n",
       "      <th>lr_start</th>\n",
       "    </tr>\n",
       "  </thead>\n",
       "  <tbody>\n",
       "    <tr>\n",
       "      <th>0</th>\n",
       "      <td>228.441341</td>\n",
       "      <td>223.049733</td>\n",
       "      <td>20.0</td>\n",
       "      <td>50.0</td>\n",
       "      <td>0.30</td>\n",
       "    </tr>\n",
       "    <tr>\n",
       "      <th>1</th>\n",
       "      <td>228.441341</td>\n",
       "      <td>223.049733</td>\n",
       "      <td>20.0</td>\n",
       "      <td>50.0</td>\n",
       "      <td>0.10</td>\n",
       "    </tr>\n",
       "    <tr>\n",
       "      <th>2</th>\n",
       "      <td>6.125248</td>\n",
       "      <td>5.796064</td>\n",
       "      <td>20.0</td>\n",
       "      <td>50.0</td>\n",
       "      <td>0.03</td>\n",
       "    </tr>\n",
       "    <tr>\n",
       "      <th>3</th>\n",
       "      <td>5.387049</td>\n",
       "      <td>5.004012</td>\n",
       "      <td>20.0</td>\n",
       "      <td>50.0</td>\n",
       "      <td>0.01</td>\n",
       "    </tr>\n",
       "    <tr>\n",
       "      <th>4</th>\n",
       "      <td>228.441341</td>\n",
       "      <td>223.049733</td>\n",
       "      <td>20.0</td>\n",
       "      <td>100.0</td>\n",
       "      <td>0.30</td>\n",
       "    </tr>\n",
       "  </tbody>\n",
       "</table>\n",
       "</div>"
      ],
      "text/plain": [
       "     test_mae   train_mae  neurons  epochs  lr_start\n",
       "0  228.441341  223.049733     20.0    50.0      0.30\n",
       "1  228.441341  223.049733     20.0    50.0      0.10\n",
       "2    6.125248    5.796064     20.0    50.0      0.03\n",
       "3    5.387049    5.004012     20.0    50.0      0.01\n",
       "4  228.441341  223.049733     20.0   100.0      0.30"
      ]
     },
     "execution_count": 13,
     "metadata": {
      "tags": []
     },
     "output_type": "execute_result"
    }
   ],
   "source": [
    "grid_search_nn = pd.DataFrame(columns=['test_mae', 'train_mae', 'neurons', 'epochs', 'lr_start'])\n",
    "neurons = [20, 40, 60]\n",
    "epochs = [50, 100, 150, 200]\n",
    "learning_rate = [0.3, 0.1, 0.03, 0.01]\n",
    "n = 0\n",
    "for neur in neurons:\n",
    "    for ep in epochs:\n",
    "        for ler in learning_rate:\n",
    "            print(n)\n",
    "            model = Sequential()\n",
    "            model.add(Dense(neur, input_shape=(train_data.shape[1],)))\n",
    "            model.add(Activation('relu'))\n",
    "            model.add(Dense(neur))\n",
    "            model.add(Activation('relu'))\n",
    "            model.add(Dense(neur))\n",
    "            model.add(Activation('relu'))\n",
    "            model.add(Dense(1, activation='relu'))\n",
    "            model.compile(optimizer=Adam(lr=ler), loss=\"mae\", metrics=['accuracy'])\n",
    "            annealer = LearningRateScheduler(lambda x: ler * 0.95 ** x)\n",
    "            model.fit(train_data, train_y, batch_size=32, epochs = ep, callbacks=[annealer], validation_data=(test_data, test_y), verbose=0)\n",
    "            model.save('nn-' + '-'.join([str(neur), str(ep), str(ler)]))\n",
    "            grid_search_nn.loc[n] = [sum(abs(model.predict(test_data)[:, 0] - test_y)) / test_y.size, sum(abs(model.predict(train_data)[:, 0] - train_y)) / train_y.size, neur, ep, ler]\n",
    "            n += 1\n",
    "grid_search_nn.head()"
   ]
  },
  {
   "cell_type": "code",
   "execution_count": 15,
   "metadata": {
    "colab": {
     "base_uri": "https://localhost:8080/",
     "height": 206
    },
    "colab_type": "code",
    "id": "Pms_RR0fiDb0",
    "outputId": "cf7dc270-7e84-4e61-a308-0629b2719b45"
   },
   "outputs": [
    {
     "data": {
      "text/html": [
       "<div>\n",
       "<style scoped>\n",
       "    .dataframe tbody tr th:only-of-type {\n",
       "        vertical-align: middle;\n",
       "    }\n",
       "\n",
       "    .dataframe tbody tr th {\n",
       "        vertical-align: top;\n",
       "    }\n",
       "\n",
       "    .dataframe thead th {\n",
       "        text-align: right;\n",
       "    }\n",
       "</style>\n",
       "<table border=\"1\" class=\"dataframe\">\n",
       "  <thead>\n",
       "    <tr style=\"text-align: right;\">\n",
       "      <th></th>\n",
       "      <th>test_mae</th>\n",
       "      <th>train_mae</th>\n",
       "      <th>neurons</th>\n",
       "      <th>epochs</th>\n",
       "      <th>lr_start</th>\n",
       "    </tr>\n",
       "  </thead>\n",
       "  <tbody>\n",
       "    <tr>\n",
       "      <th>43</th>\n",
       "      <td>4.808565</td>\n",
       "      <td>4.433323</td>\n",
       "      <td>60.0</td>\n",
       "      <td>150.0</td>\n",
       "      <td>0.01</td>\n",
       "    </tr>\n",
       "    <tr>\n",
       "      <th>47</th>\n",
       "      <td>4.888547</td>\n",
       "      <td>4.501442</td>\n",
       "      <td>60.0</td>\n",
       "      <td>200.0</td>\n",
       "      <td>0.01</td>\n",
       "    </tr>\n",
       "    <tr>\n",
       "      <th>46</th>\n",
       "      <td>4.916940</td>\n",
       "      <td>4.573749</td>\n",
       "      <td>60.0</td>\n",
       "      <td>200.0</td>\n",
       "      <td>0.03</td>\n",
       "    </tr>\n",
       "    <tr>\n",
       "      <th>42</th>\n",
       "      <td>4.964117</td>\n",
       "      <td>4.613084</td>\n",
       "      <td>60.0</td>\n",
       "      <td>150.0</td>\n",
       "      <td>0.03</td>\n",
       "    </tr>\n",
       "    <tr>\n",
       "      <th>30</th>\n",
       "      <td>4.974232</td>\n",
       "      <td>4.590109</td>\n",
       "      <td>40.0</td>\n",
       "      <td>200.0</td>\n",
       "      <td>0.03</td>\n",
       "    </tr>\n",
       "  </tbody>\n",
       "</table>\n",
       "</div>"
      ],
      "text/plain": [
       "    test_mae  train_mae  neurons  epochs  lr_start\n",
       "43  4.808565   4.433323     60.0   150.0      0.01\n",
       "47  4.888547   4.501442     60.0   200.0      0.01\n",
       "46  4.916940   4.573749     60.0   200.0      0.03\n",
       "42  4.964117   4.613084     60.0   150.0      0.03\n",
       "30  4.974232   4.590109     40.0   200.0      0.03"
      ]
     },
     "execution_count": 15,
     "metadata": {
      "tags": []
     },
     "output_type": "execute_result"
    }
   ],
   "source": [
    "grid_search_nn.sort_values(by='test_mae').head()"
   ]
  },
  {
   "cell_type": "markdown",
   "metadata": {},
   "source": [
    "Аналогично посмотрим для даты без нескольких столбцов (нейронную сеть и catboost можно не смотреть, так как у них результаты значительно хуже случайного леса)"
   ]
  },
  {
   "cell_type": "markdown",
   "metadata": {},
   "source": [
    "## Random Forest"
   ]
  },
  {
   "cell_type": "code",
   "execution_count": 31,
   "metadata": {
    "colab": {
     "base_uri": "https://localhost:8080/",
     "height": 415
    },
    "colab_type": "code",
    "id": "rfdCBEuwWFWu",
    "outputId": "75807a4f-d345-42c3-cb38-29af65bffc79"
   },
   "outputs": [
    {
     "name": "stdout",
     "output_type": "stream",
     "text": [
      "0\n",
      "1\n",
      "2\n",
      "3\n",
      "4\n",
      "5\n",
      "6\n",
      "7\n",
      "8\n",
      "9\n",
      "10\n",
      "11\n"
     ]
    },
    {
     "data": {
      "text/html": [
       "<div>\n",
       "<style scoped>\n",
       "    .dataframe tbody tr th:only-of-type {\n",
       "        vertical-align: middle;\n",
       "    }\n",
       "\n",
       "    .dataframe tbody tr th {\n",
       "        vertical-align: top;\n",
       "    }\n",
       "\n",
       "    .dataframe thead th {\n",
       "        text-align: right;\n",
       "    }\n",
       "</style>\n",
       "<table border=\"1\" class=\"dataframe\">\n",
       "  <thead>\n",
       "    <tr style=\"text-align: right;\">\n",
       "      <th></th>\n",
       "      <th>test_mae</th>\n",
       "      <th>train_mae</th>\n",
       "      <th>estimators</th>\n",
       "      <th>depth</th>\n",
       "    </tr>\n",
       "  </thead>\n",
       "  <tbody>\n",
       "    <tr>\n",
       "      <th>0</th>\n",
       "      <td>12.440531</td>\n",
       "      <td>12.214340</td>\n",
       "      <td>100.0</td>\n",
       "      <td>5.0</td>\n",
       "    </tr>\n",
       "    <tr>\n",
       "      <th>1</th>\n",
       "      <td>6.367370</td>\n",
       "      <td>5.810796</td>\n",
       "      <td>100.0</td>\n",
       "      <td>8.0</td>\n",
       "    </tr>\n",
       "    <tr>\n",
       "      <th>2</th>\n",
       "      <td>4.898227</td>\n",
       "      <td>4.070296</td>\n",
       "      <td>100.0</td>\n",
       "      <td>10.0</td>\n",
       "    </tr>\n",
       "    <tr>\n",
       "      <th>3</th>\n",
       "      <td>3.594615</td>\n",
       "      <td>2.394500</td>\n",
       "      <td>100.0</td>\n",
       "      <td>NaN</td>\n",
       "    </tr>\n",
       "    <tr>\n",
       "      <th>4</th>\n",
       "      <td>12.435909</td>\n",
       "      <td>12.193958</td>\n",
       "      <td>200.0</td>\n",
       "      <td>5.0</td>\n",
       "    </tr>\n",
       "  </tbody>\n",
       "</table>\n",
       "</div>"
      ],
      "text/plain": [
       "    test_mae  train_mae  estimators  depth\n",
       "0  12.440531  12.214340       100.0    5.0\n",
       "1   6.367370   5.810796       100.0    8.0\n",
       "2   4.898227   4.070296       100.0   10.0\n",
       "3   3.594615   2.394500       100.0    NaN\n",
       "4  12.435909  12.193958       200.0    5.0"
      ]
     },
     "execution_count": 31,
     "metadata": {
      "tags": []
     },
     "output_type": "execute_result"
    }
   ],
   "source": [
    "grid_search_randfor = pd.DataFrame(columns=['test_mae', 'train_mae', 'estimators', 'depth'])\n",
    "estimators = [100, 200, 50]\n",
    "depth = [5, 8, 10, None]\n",
    "n = 0\n",
    "for est in estimators:\n",
    "    for d in depth:\n",
    "        print(n)\n",
    "        m = RandomForestRegressor(n_estimators=est, max_depth=d, criterion='mae').fit(train_data_del, train_y)\n",
    "        grid_search_randfor.loc[n] = [sum(abs(m.predict(test_data_del) - test_y)) / test_y.size, sum(abs(m.predict(train_data_del) - train_y)) / train_y.size, est, d]\n",
    "        n += 1\n",
    "grid_search_randfor.head()"
   ]
  },
  {
   "cell_type": "code",
   "execution_count": 32,
   "metadata": {
    "colab": {
     "base_uri": "https://localhost:8080/",
     "height": 426
    },
    "colab_type": "code",
    "id": "kLAJuYbZnKMr",
    "outputId": "59e99a2d-f7f6-46e5-d4db-bcb1aa743665",
    "slideshow": {
     "slide_type": "subslide"
    }
   },
   "outputs": [
    {
     "data": {
      "text/html": [
       "<div>\n",
       "<style scoped>\n",
       "    .dataframe tbody tr th:only-of-type {\n",
       "        vertical-align: middle;\n",
       "    }\n",
       "\n",
       "    .dataframe tbody tr th {\n",
       "        vertical-align: top;\n",
       "    }\n",
       "\n",
       "    .dataframe thead th {\n",
       "        text-align: right;\n",
       "    }\n",
       "</style>\n",
       "<table border=\"1\" class=\"dataframe\">\n",
       "  <thead>\n",
       "    <tr style=\"text-align: right;\">\n",
       "      <th></th>\n",
       "      <th>test_mae</th>\n",
       "      <th>train_mae</th>\n",
       "      <th>estimators</th>\n",
       "      <th>depth</th>\n",
       "    </tr>\n",
       "  </thead>\n",
       "  <tbody>\n",
       "    <tr>\n",
       "      <th>7</th>\n",
       "      <td>3.557549</td>\n",
       "      <td>2.394976</td>\n",
       "      <td>200.0</td>\n",
       "      <td>NaN</td>\n",
       "    </tr>\n",
       "    <tr>\n",
       "      <th>3</th>\n",
       "      <td>3.594615</td>\n",
       "      <td>2.394500</td>\n",
       "      <td>100.0</td>\n",
       "      <td>NaN</td>\n",
       "    </tr>\n",
       "    <tr>\n",
       "      <th>11</th>\n",
       "      <td>3.631332</td>\n",
       "      <td>2.485760</td>\n",
       "      <td>50.0</td>\n",
       "      <td>NaN</td>\n",
       "    </tr>\n",
       "    <tr>\n",
       "      <th>6</th>\n",
       "      <td>4.868574</td>\n",
       "      <td>4.064823</td>\n",
       "      <td>200.0</td>\n",
       "      <td>10.0</td>\n",
       "    </tr>\n",
       "    <tr>\n",
       "      <th>2</th>\n",
       "      <td>4.898227</td>\n",
       "      <td>4.070296</td>\n",
       "      <td>100.0</td>\n",
       "      <td>10.0</td>\n",
       "    </tr>\n",
       "    <tr>\n",
       "      <th>10</th>\n",
       "      <td>4.998070</td>\n",
       "      <td>4.125920</td>\n",
       "      <td>50.0</td>\n",
       "      <td>10.0</td>\n",
       "    </tr>\n",
       "    <tr>\n",
       "      <th>5</th>\n",
       "      <td>6.315689</td>\n",
       "      <td>5.780162</td>\n",
       "      <td>200.0</td>\n",
       "      <td>8.0</td>\n",
       "    </tr>\n",
       "    <tr>\n",
       "      <th>9</th>\n",
       "      <td>6.359110</td>\n",
       "      <td>5.865867</td>\n",
       "      <td>50.0</td>\n",
       "      <td>8.0</td>\n",
       "    </tr>\n",
       "    <tr>\n",
       "      <th>1</th>\n",
       "      <td>6.367370</td>\n",
       "      <td>5.810796</td>\n",
       "      <td>100.0</td>\n",
       "      <td>8.0</td>\n",
       "    </tr>\n",
       "    <tr>\n",
       "      <th>4</th>\n",
       "      <td>12.435909</td>\n",
       "      <td>12.193958</td>\n",
       "      <td>200.0</td>\n",
       "      <td>5.0</td>\n",
       "    </tr>\n",
       "    <tr>\n",
       "      <th>0</th>\n",
       "      <td>12.440531</td>\n",
       "      <td>12.214340</td>\n",
       "      <td>100.0</td>\n",
       "      <td>5.0</td>\n",
       "    </tr>\n",
       "    <tr>\n",
       "      <th>8</th>\n",
       "      <td>12.442149</td>\n",
       "      <td>12.222800</td>\n",
       "      <td>50.0</td>\n",
       "      <td>5.0</td>\n",
       "    </tr>\n",
       "  </tbody>\n",
       "</table>\n",
       "</div>"
      ],
      "text/plain": [
       "     test_mae  train_mae  estimators  depth\n",
       "7    3.557549   2.394976       200.0    NaN\n",
       "3    3.594615   2.394500       100.0    NaN\n",
       "11   3.631332   2.485760        50.0    NaN\n",
       "6    4.868574   4.064823       200.0   10.0\n",
       "2    4.898227   4.070296       100.0   10.0\n",
       "10   4.998070   4.125920        50.0   10.0\n",
       "5    6.315689   5.780162       200.0    8.0\n",
       "9    6.359110   5.865867        50.0    8.0\n",
       "1    6.367370   5.810796       100.0    8.0\n",
       "4   12.435909  12.193958       200.0    5.0\n",
       "0   12.440531  12.214340       100.0    5.0\n",
       "8   12.442149  12.222800        50.0    5.0"
      ]
     },
     "execution_count": 32,
     "metadata": {
      "tags": []
     },
     "output_type": "execute_result"
    }
   ],
   "source": [
    "grid_search_randfor.sort_values(by='test_mae')"
   ]
  },
  {
   "cell_type": "markdown",
   "metadata": {
    "slideshow": {
     "slide_type": "fragment"
    }
   },
   "source": [
    "Так как качество модели ухудшилось совсем на незначительное значение, то мы можем ее спокойно использовать"
   ]
  },
  {
   "cell_type": "markdown",
   "metadata": {
    "slideshow": {
     "slide_type": "slide"
    }
   },
   "source": [
    "# Сохранение предсказаний"
   ]
  },
  {
   "cell_type": "code",
   "execution_count": null,
   "metadata": {
    "slideshow": {
     "slide_type": "fragment"
    }
   },
   "outputs": [],
   "source": [
    "test = pd.read_csv('main_test.csv')\n",
    "test = test.iloc[:, 1:]\n",
    "test = test.fillna(0).drop(deleted, axis=1)\n",
    "final_model = RandomForestRegressor(n_estimators=200, criterion='mae').fit(train_data_del, train_y)\n",
    "pkl_filename = './models/random_forest.pkl'\n",
    "with open(pkl_filename, 'wb') as file:\n",
    "    pickle.dump(final_model, file)\n",
    "final_res = np.round(final_model.predict(test)).astype(np.int64)\n",
    "pd.DataFrame(final_res, columns=['Pred_kcal']).to_csv('Pred_main.csv', index=False)"
   ]
  },
  {
   "cell_type": "code",
   "execution_count": null,
   "metadata": {},
   "outputs": [],
   "source": []
  }
 ],
 "metadata": {
  "celltoolbar": "Slideshow",
  "kernelspec": {
   "display_name": "Python 3",
   "language": "python",
   "name": "python3"
  },
  "language_info": {
   "codemirror_mode": {
    "name": "ipython",
    "version": 3
   },
   "file_extension": ".py",
   "mimetype": "text/x-python",
   "name": "python",
   "nbconvert_exporter": "python",
   "pygments_lexer": "ipython3",
   "version": "3.7.3"
  }
 },
 "nbformat": 4,
 "nbformat_minor": 2
}
